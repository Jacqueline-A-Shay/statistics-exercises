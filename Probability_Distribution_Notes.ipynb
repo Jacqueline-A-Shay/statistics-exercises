{
 "cells": [
  {
   "cell_type": "markdown",
   "metadata": {},
   "source": [
    "- mathematical functions \n",
    "- model real-world process\n",
    "- probabilities of occurrence for different possible outcomes\n",
    "\n",
    "- uniform\n",
    "- normal\n",
    "- binomial\n",
    "- poisson"
   ]
  },
  {
   "cell_type": "markdown",
   "metadata": {},
   "source": [
    "* UNIFORM distribution *\n",
    "\n",
    "- outcome = discrete \n",
    "- probability for each outcome = equal\n",
    "- example =  rolling a 6-sided die.\n",
    "\n",
    "**Build Distribution\n",
    "\n",
    "from scipy import stats\n",
    "    die_distribution = stats.randint(1, 7)\n",
    "\n",
    "**Get random values \n",
    "based on defined distribution \n",
    "\n",
    "**RVS\n",
    "n = 10_000 \n",
    "> num of experiments\n",
    "\n",
    "x = die_distribution.rvs(n) \n",
    "> use the defined distribution, get random val w/ rvs\n",
    "> .rvs(5)     # 1D array of 5 \n",
    "> .rvs((5,5)) # 2D array, 5x5\n",
    "\n",
    "\n",
    "plt.hist(x, bins=range(0, 9), align='left', width=1, edgecolor='black')\n",
    "plt.title(f'Outcome of {n:,} Dice Rolls')"
   ]
  },
  {
   "cell_type": "markdown",
   "metadata": {},
   "source": [
    "**PMF / PDF\n",
    "- Probability Mass Function\n",
    "- Probability Density Function - for continuous distributions\n",
    "\n",
    "- probability of __any single outcome__. \n",
    "- example = w/ pmf, generate probability of rolling a 3 with our dice rolling distribution\n",
    "\n",
    "die_distribution.pmf(3)\n",
    "> 0.16666666666666666\n",
    "\n",
    "die_distribution.pmf([1, 2, 3])\n",
    "> array([0.16666667, 0.16666667, 0.16666667])\n"
   ]
  },
  {
   "cell_type": "markdown",
   "metadata": {},
   "source": [
    "**CDF / PPF\n",
    "- cumulative density function \n",
    "\n",
    "- provide likelihood of a single outcome or all the results below it. \n",
    "- example = what is the probability of rolling a 3 or lower?\n",
    "\n",
    "die_distribution.cdf(3)\n",
    "> 0.5\n",
    "\n",
    "> Vis hint - plot each of the outcomes against the likelihood of that outcome\n",
    "> shading the area that we wish to know the probability \n",
    "> barplot, x = x, y = p(x=x)"
   ]
  },
  {
   "cell_type": "markdown",
   "metadata": {},
   "source": [
    "**PPF\n",
    "- percent point function (aka quantile function) \n",
    "- inverse of CDF\n",
    "\n",
    "- accepts a probability\n",
    "- gives us the value that is associate with that probability\n",
    "\n",
    "die_distribution.ppf(5/6)\n",
    "> what's a 5/6 chance that we roll less than or equal to what?\n",
    "> 5.0"
   ]
  },
  {
   "cell_type": "markdown",
   "metadata": {},
   "source": [
    "**SF\n",
    "- Survival Function  \n",
    "- probability of our random variable falling above a certain value \n",
    "\n",
    "SF = 1 - CDF (w/ same scenario)\n",
    "\n",
    "- example = What is the likelihood we roll a value higher than 4?\"\n",
    "\n",
    "die_distribution.sf(4)\n",
    "> 0.33333333333333337\n",
    "\n",
    "die_distribution.sf(2) + die_distribution.cdf(2)\n",
    "> 1.0\n",
    "\n",
    "\n",
    "**ISF\n",
    "- Inverse Survival Function, similar to PPF\n",
    "- return a value when we provide a probability.\n",
    "- example = There is a 1/3 chance a dice roll will be higher than what value?\n",
    "\n",
    "die_distribution.isf(1/3)\n",
    "> 4.0\n"
   ]
  },
  {
   "cell_type": "code",
   "execution_count": 3,
   "metadata": {},
   "outputs": [
    {
     "data": {
      "text/plain": [
       "0.16666666666666666"
      ]
     },
     "execution_count": 3,
     "metadata": {},
     "output_type": "execute_result"
    }
   ],
   "source": [
    "# What is the probability of rolling a 1?\n",
    "die_distribution.pmf(1)"
   ]
  },
  {
   "cell_type": "code",
   "execution_count": 7,
   "metadata": {},
   "outputs": [
    {
     "data": {
      "text/plain": [
       "3.0"
      ]
     },
     "execution_count": 7,
     "metadata": {},
     "output_type": "execute_result"
    }
   ],
   "source": [
    "# There's a 1 in 2 chance that I'll roll higher than what number?\n",
    "die_distribution.isf(1/2)"
   ]
  },
  {
   "cell_type": "code",
   "execution_count": 5,
   "metadata": {},
   "outputs": [
    {
     "data": {
      "text/plain": [
       "0.3333333333333333"
      ]
     },
     "execution_count": 5,
     "metadata": {},
     "output_type": "execute_result"
    }
   ],
   "source": [
    "# What is the probability of rolling less than or equal to 2?\n",
    "die_distribution.cdf(2)"
   ]
  },
  {
   "cell_type": "code",
   "execution_count": 6,
   "metadata": {},
   "outputs": [
    {
     "data": {
      "text/plain": [
       "5.0"
      ]
     },
     "execution_count": 6,
     "metadata": {},
     "output_type": "execute_result"
    }
   ],
   "source": [
    "# There's a 5 in 6 chance that my roll will be less than or equal to what number?\n",
    "die_distribution.ppf(5/6)"
   ]
  },
  {
   "cell_type": "code",
   "execution_count": 8,
   "metadata": {},
   "outputs": [
    {
     "data": {
      "text/plain": [
       "3.0"
      ]
     },
     "execution_count": 8,
     "metadata": {},
     "output_type": "execute_result"
    }
   ],
   "source": [
    "# There's a 1 in 2 chance that my roll will be less than or equal to what number?\n",
    "die_distribution.ppf(1/2)"
   ]
  },
  {
   "cell_type": "code",
   "execution_count": 9,
   "metadata": {},
   "outputs": [
    {
     "data": {
      "text/plain": [
       "1.0"
      ]
     },
     "execution_count": 9,
     "metadata": {},
     "output_type": "execute_result"
    }
   ],
   "source": [
    "# What is the probability of rolling less than or equal to 6?\n",
    "die_distribution.cdf(6)"
   ]
  },
  {
   "cell_type": "code",
   "execution_count": 10,
   "metadata": {},
   "outputs": [
    {
     "data": {
      "text/plain": [
       "4.0"
      ]
     },
     "execution_count": 10,
     "metadata": {},
     "output_type": "execute_result"
    }
   ],
   "source": [
    "# There's a 1 in 3 chance that I'll roll higher than what number?\n",
    "die_distribution.isf(1/3)"
   ]
  },
  {
   "cell_type": "code",
   "execution_count": 11,
   "metadata": {},
   "outputs": [
    {
     "data": {
      "text/plain": [
       "0.8333333333333334"
      ]
     },
     "execution_count": 11,
     "metadata": {},
     "output_type": "execute_result"
    }
   ],
   "source": [
    "# What is the probability of rolling higher than a 1?\n",
    "die_distribution.sf(1)"
   ]
  },
  {
   "cell_type": "code",
   "execution_count": 12,
   "metadata": {},
   "outputs": [
    {
     "data": {
      "text/plain": [
       "4.0"
      ]
     },
     "execution_count": 12,
     "metadata": {},
     "output_type": "execute_result"
    }
   ],
   "source": [
    "# There's a 2 in 3 chance that my roll will be less than or equal to what number?\n",
    "die_distribution.ppf(2/3)"
   ]
  },
  {
   "cell_type": "code",
   "execution_count": 13,
   "metadata": {},
   "outputs": [
    {
     "data": {
      "text/plain": [
       "2.0"
      ]
     },
     "execution_count": 13,
     "metadata": {},
     "output_type": "execute_result"
    }
   ],
   "source": [
    "# There's a 2 in 3 chance that I'll roll higher than what number?\n",
    "die_distribution.isf(2/3)"
   ]
  },
  {
   "cell_type": "code",
   "execution_count": 14,
   "metadata": {},
   "outputs": [
    {
     "data": {
      "text/plain": [
       "2.0"
      ]
     },
     "execution_count": 14,
     "metadata": {},
     "output_type": "execute_result"
    }
   ],
   "source": [
    "# There's a 1 in 3 chance that my roll will be less than or equal to what number?\n",
    "die_distribution.ppf(1/3)"
   ]
  },
  {
   "cell_type": "code",
   "execution_count": 15,
   "metadata": {},
   "outputs": [
    {
     "data": {
      "text/plain": [
       "5.0"
      ]
     },
     "execution_count": 15,
     "metadata": {},
     "output_type": "execute_result"
    }
   ],
   "source": [
    "# There's a 1 in 6 chance that I'll roll higher than what number?\n",
    "die_distribution.isf(1/6)"
   ]
  },
  {
   "cell_type": "code",
   "execution_count": null,
   "metadata": {},
   "outputs": [],
   "source": []
  }
 ],
 "metadata": {
  "kernelspec": {
   "display_name": "Python 3",
   "language": "python",
   "name": "python3"
  },
  "language_info": {
   "codemirror_mode": {
    "name": "ipython",
    "version": 3
   },
   "file_extension": ".py",
   "mimetype": "text/x-python",
   "name": "python",
   "nbconvert_exporter": "python",
   "pygments_lexer": "ipython3",
   "version": "3.7.3"
  },
  "toc": {
   "base_numbering": 1,
   "nav_menu": {},
   "number_sections": true,
   "sideBar": true,
   "skip_h1_title": false,
   "title_cell": "Table of Contents",
   "title_sidebar": "Contents",
   "toc_cell": false,
   "toc_position": {},
   "toc_section_display": true,
   "toc_window_display": false
  },
  "varInspector": {
   "cols": {
    "lenName": 16,
    "lenType": 16,
    "lenVar": 40
   },
   "kernels_config": {
    "python": {
     "delete_cmd_postfix": "",
     "delete_cmd_prefix": "del ",
     "library": "var_list.py",
     "varRefreshCmd": "print(var_dic_list())"
    },
    "r": {
     "delete_cmd_postfix": ") ",
     "delete_cmd_prefix": "rm(",
     "library": "var_list.r",
     "varRefreshCmd": "cat(var_dic_list()) "
    }
   },
   "types_to_exclude": [
    "module",
    "function",
    "builtin_function_or_method",
    "instance",
    "_Feature"
   ],
   "window_display": false
  }
 },
 "nbformat": 4,
 "nbformat_minor": 2
}
