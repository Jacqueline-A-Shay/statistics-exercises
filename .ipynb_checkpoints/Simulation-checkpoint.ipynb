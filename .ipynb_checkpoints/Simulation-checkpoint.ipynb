{
 "cells": [
  {
   "cell_type": "code",
   "execution_count": 21,
   "metadata": {},
   "outputs": [],
   "source": [
    "import numpy as np\n",
    "import pandas as pd\n",
    "import matplotlib.pyplot as plt\n",
    "%matplotlib inline\n",
    "\n",
    "np.random.seed(123)"
   ]
  },
  {
   "cell_type": "code",
   "execution_count": null,
   "metadata": {},
   "outputs": [],
   "source": []
  },
  {
   "cell_type": "code",
   "execution_count": 36,
   "metadata": {},
   "outputs": [
    {
     "name": "stdout",
     "output_type": "stream",
     "text": [
      "The probability of roll doubles when rolling two dices is: 0.17\n"
     ]
    }
   ],
   "source": [
    "# How likely is it that you roll doubles when rolling two dice?\n",
    "dice_roll_num = 2\n",
    "trial_num = 100_000\n",
    "\n",
    "df = pd.DataFrame(np.random.choice([1,2,3,4,5,6], (trial_num, dice_roll_num)))\n",
    "df.head()\n",
    "\n",
    "# p_double\n",
    "\n",
    "def row_vs(series):\n",
    "    return series.iloc[0] == series.iloc[1]\n",
    "    \n",
    "print(\"The probability of roll doubles when rolling two dices is: {:.2f}\".format(df.apply(row_vs, axis = 1).mean()))"
   ]
  },
  {
   "cell_type": "code",
   "execution_count": 50,
   "metadata": {},
   "outputs": [
    {
     "data": {
      "text/html": [
       "<div>\n",
       "<style scoped>\n",
       "    .dataframe tbody tr th:only-of-type {\n",
       "        vertical-align: middle;\n",
       "    }\n",
       "\n",
       "    .dataframe tbody tr th {\n",
       "        vertical-align: top;\n",
       "    }\n",
       "\n",
       "    .dataframe thead th {\n",
       "        text-align: right;\n",
       "    }\n",
       "</style>\n",
       "<table border=\"1\" class=\"dataframe\">\n",
       "  <thead>\n",
       "    <tr style=\"text-align: right;\">\n",
       "      <th></th>\n",
       "      <th>0</th>\n",
       "      <th>1</th>\n",
       "      <th>2</th>\n",
       "      <th>3</th>\n",
       "      <th>4</th>\n",
       "      <th>5</th>\n",
       "      <th>6</th>\n",
       "      <th>7</th>\n",
       "    </tr>\n",
       "  </thead>\n",
       "  <tbody>\n",
       "    <tr>\n",
       "      <th>0</th>\n",
       "      <td>2</td>\n",
       "      <td>1</td>\n",
       "      <td>2</td>\n",
       "      <td>1</td>\n",
       "      <td>1</td>\n",
       "      <td>2</td>\n",
       "      <td>1</td>\n",
       "      <td>1</td>\n",
       "    </tr>\n",
       "    <tr>\n",
       "      <th>1</th>\n",
       "      <td>2</td>\n",
       "      <td>2</td>\n",
       "      <td>1</td>\n",
       "      <td>1</td>\n",
       "      <td>2</td>\n",
       "      <td>2</td>\n",
       "      <td>2</td>\n",
       "      <td>2</td>\n",
       "    </tr>\n",
       "    <tr>\n",
       "      <th>2</th>\n",
       "      <td>2</td>\n",
       "      <td>1</td>\n",
       "      <td>2</td>\n",
       "      <td>2</td>\n",
       "      <td>1</td>\n",
       "      <td>2</td>\n",
       "      <td>2</td>\n",
       "      <td>1</td>\n",
       "    </tr>\n",
       "    <tr>\n",
       "      <th>3</th>\n",
       "      <td>2</td>\n",
       "      <td>1</td>\n",
       "      <td>2</td>\n",
       "      <td>2</td>\n",
       "      <td>1</td>\n",
       "      <td>1</td>\n",
       "      <td>1</td>\n",
       "      <td>1</td>\n",
       "    </tr>\n",
       "    <tr>\n",
       "      <th>4</th>\n",
       "      <td>2</td>\n",
       "      <td>1</td>\n",
       "      <td>1</td>\n",
       "      <td>1</td>\n",
       "      <td>1</td>\n",
       "      <td>2</td>\n",
       "      <td>1</td>\n",
       "      <td>1</td>\n",
       "    </tr>\n",
       "  </tbody>\n",
       "</table>\n",
       "</div>"
      ],
      "text/plain": [
       "   0  1  2  3  4  5  6  7\n",
       "0  2  1  2  1  1  2  1  1\n",
       "1  2  2  1  1  2  2  2  2\n",
       "2  2  1  2  2  1  2  2  1\n",
       "3  2  1  2  2  1  1  1  1\n",
       "4  2  1  1  1  1  2  1  1"
      ]
     },
     "execution_count": 50,
     "metadata": {},
     "output_type": "execute_result"
    }
   ],
   "source": [
    "# If you flip 8 coins, what is the probability of getting exactly 3 heads? \n",
    "# What is the probability of getting more than 3 heads?\n",
    "toss_coin_num = 8\n",
    "trial_num = 10_000\n",
    "\n",
    "df = pd.DataFrame(np.random.choice([1,2], (trial_num, toss_coin_num)))\n",
    "# let 1 = head & 2 = Tail\n",
    "df.head()\n"
   ]
  },
  {
   "cell_type": "code",
   "execution_count": 51,
   "metadata": {},
   "outputs": [
    {
     "name": "stdout",
     "output_type": "stream",
     "text": [
      "The probability of getting exactly 3 heads when flipping coins for 8 times: 0.22\n",
      "The probability of getting more than 3 heads when flipping coins for 8 times: 0.85\n"
     ]
    }
   ],
   "source": [
    "# p_double\n",
    "\n",
    "def coin_toss(series):\n",
    "    counter = 0\n",
    "    for c in series:\n",
    "        if c == 1:\n",
    "            counter += 1\n",
    "    return counter == 3\n",
    "\n",
    "def coin_get_more_than_3(series):\n",
    "    counter = 0\n",
    "    for c in series:\n",
    "        if c == 1:\n",
    "            counter += 1\n",
    "    return counter >= 3\n",
    "    \n",
    "print(\"The probability of getting exactly 3 heads when flipping coins for 8 times: {:.2f}\".format(df.apply(coin_toss, axis = 1).mean()))\n",
    "print(\"The probability of getting more than 3 heads when flipping coins for 8 times: {:.2f}\".format(df.apply(coin_get_more_than_3, axis = 1).mean()))"
   ]
  },
  {
   "cell_type": "code",
   "execution_count": 59,
   "metadata": {},
   "outputs": [
    {
     "data": {
      "text/html": [
       "<div>\n",
       "<style scoped>\n",
       "    .dataframe tbody tr th:only-of-type {\n",
       "        vertical-align: middle;\n",
       "    }\n",
       "\n",
       "    .dataframe tbody tr th {\n",
       "        vertical-align: top;\n",
       "    }\n",
       "\n",
       "    .dataframe thead th {\n",
       "        text-align: right;\n",
       "    }\n",
       "</style>\n",
       "<table border=\"1\" class=\"dataframe\">\n",
       "  <thead>\n",
       "    <tr style=\"text-align: right;\">\n",
       "      <th></th>\n",
       "      <th>0</th>\n",
       "      <th>1</th>\n",
       "    </tr>\n",
       "  </thead>\n",
       "  <tbody>\n",
       "    <tr>\n",
       "      <th>0</th>\n",
       "      <td>2</td>\n",
       "      <td>2</td>\n",
       "    </tr>\n",
       "    <tr>\n",
       "      <th>1</th>\n",
       "      <td>2</td>\n",
       "      <td>1</td>\n",
       "    </tr>\n",
       "    <tr>\n",
       "      <th>2</th>\n",
       "      <td>2</td>\n",
       "      <td>2</td>\n",
       "    </tr>\n",
       "    <tr>\n",
       "      <th>3</th>\n",
       "      <td>1</td>\n",
       "      <td>1</td>\n",
       "    </tr>\n",
       "    <tr>\n",
       "      <th>4</th>\n",
       "      <td>2</td>\n",
       "      <td>1</td>\n",
       "    </tr>\n",
       "  </tbody>\n",
       "</table>\n",
       "</div>"
      ],
      "text/plain": [
       "   0  1\n",
       "0  2  2\n",
       "1  2  1\n",
       "2  2  2\n",
       "3  1  1\n",
       "4  2  1"
      ]
     },
     "execution_count": 59,
     "metadata": {},
     "output_type": "execute_result"
    }
   ],
   "source": [
    "# At Codeup, approximate cohort ratio --> web dev: DS = 3:1\n",
    "# Assuming that Codeup randomly selects an alumni to put on a billboard, \n",
    "# what are the odds that the two billboards I drive past both have data science students \n",
    "# on them?\n",
    "\n",
    "# Every billboard, 3/4 chance is WD and 1/4 is DS\n",
    "# Probability of DS and then another DS --> 1/4 * 1/4\n",
    "\n",
    "see_bb = 2\n",
    "trial_num = 100_000\n",
    "\n",
    "df = pd.DataFrame(np.random.choice([1,2,2,2], (trial_num, see_bb)))\n",
    "# let 1 = DS & 2 = Web Dev\n",
    "df.head()"
   ]
  },
  {
   "cell_type": "code",
   "execution_count": 60,
   "metadata": {},
   "outputs": [
    {
     "name": "stdout",
     "output_type": "stream",
     "text": [
      "The probability seeing 2 consecutive Data Science students on billboard: 0.06\n"
     ]
    }
   ],
   "source": [
    "def see_bb(series):\n",
    "    counter = 0\n",
    "    for c in series:\n",
    "        if c == 1:\n",
    "            counter += 1\n",
    "    return counter == 2\n",
    "    \n",
    "print(\"The probability seeing 2 consecutive Data Science students on billboard: {:.2f}\".format(df.apply(see_bb, axis = 1).mean()))"
   ]
  },
  {
   "cell_type": "code",
   "execution_count": 124,
   "metadata": {},
   "outputs": [
    {
     "data": {
      "text/html": [
       "<div>\n",
       "<style scoped>\n",
       "    .dataframe tbody tr th:only-of-type {\n",
       "        vertical-align: middle;\n",
       "    }\n",
       "\n",
       "    .dataframe tbody tr th {\n",
       "        vertical-align: top;\n",
       "    }\n",
       "\n",
       "    .dataframe thead th {\n",
       "        text-align: right;\n",
       "    }\n",
       "</style>\n",
       "<table border=\"1\" class=\"dataframe\">\n",
       "  <thead>\n",
       "    <tr style=\"text-align: right;\">\n",
       "      <th></th>\n",
       "      <th>Monday</th>\n",
       "      <th>Tuesday</th>\n",
       "      <th>Wednesday</th>\n",
       "      <th>Thursday</th>\n",
       "      <th>Friday</th>\n",
       "    </tr>\n",
       "  </thead>\n",
       "  <tbody>\n",
       "    <tr>\n",
       "      <th>0</th>\n",
       "      <td>4.0</td>\n",
       "      <td>4.0</td>\n",
       "      <td>4.0</td>\n",
       "      <td>2.0</td>\n",
       "      <td>3.0</td>\n",
       "    </tr>\n",
       "    <tr>\n",
       "      <th>1</th>\n",
       "      <td>0.0</td>\n",
       "      <td>2.0</td>\n",
       "      <td>3.0</td>\n",
       "      <td>4.0</td>\n",
       "      <td>5.0</td>\n",
       "    </tr>\n",
       "    <tr>\n",
       "      <th>2</th>\n",
       "      <td>0.0</td>\n",
       "      <td>3.0</td>\n",
       "      <td>1.0</td>\n",
       "      <td>0.0</td>\n",
       "      <td>4.0</td>\n",
       "    </tr>\n",
       "    <tr>\n",
       "      <th>3</th>\n",
       "      <td>0.0</td>\n",
       "      <td>4.0</td>\n",
       "      <td>3.0</td>\n",
       "      <td>3.0</td>\n",
       "      <td>3.0</td>\n",
       "    </tr>\n",
       "    <tr>\n",
       "      <th>4</th>\n",
       "      <td>3.0</td>\n",
       "      <td>5.0</td>\n",
       "      <td>4.0</td>\n",
       "      <td>3.0</td>\n",
       "      <td>5.0</td>\n",
       "    </tr>\n",
       "  </tbody>\n",
       "</table>\n",
       "</div>"
      ],
      "text/plain": [
       "   Monday  Tuesday  Wednesday  Thursday  Friday\n",
       "0     4.0      4.0        4.0       2.0     3.0\n",
       "1     0.0      2.0        3.0       4.0     5.0\n",
       "2     0.0      3.0        1.0       0.0     4.0\n",
       "3     0.0      4.0        3.0       3.0     3.0\n",
       "4     3.0      5.0        4.0       3.0     5.0"
      ]
     },
     "execution_count": 124,
     "metadata": {},
     "output_type": "execute_result"
    }
   ],
   "source": [
    "# Codeup students buy, on average, 3 poptart packages (+- 1.5) a day \n",
    "# from the snack vending machine. \n",
    "# If on monday the machine is restocked with 17 poptart packages, \n",
    "# how likely is it that I will be able to buy some poptarts on Friday afternoon?\n",
    "\n",
    "# use the known mean and std dev to simulate how many poptarts will be bought per day\n",
    "mu, sigma = 3, 1.5 # mean and standard deviation\n",
    "\n",
    "M = np.random.normal(mu, sigma, 100_000)\n",
    "T = np.random.normal(mu, sigma, 100_000)\n",
    "W = np.random.normal(mu, sigma, 100_000)\n",
    "R = np.random.normal(mu, sigma, 100_000)\n",
    "F = np.random.normal(mu, sigma, 100_000)\n",
    "\n",
    "df = pd.DataFrame({'Monday': M,\n",
    "                   'Tuesday': T,\n",
    "                   'Wednesday': W,\n",
    "                   'Thursday': R,\n",
    "                   'Friday': F})\n",
    "df[df < 0] = 0\n",
    "df = df.round()\n",
    "df.head()"
   ]
  },
  {
   "cell_type": "code",
   "execution_count": 125,
   "metadata": {},
   "outputs": [
    {
     "name": "stdout",
     "output_type": "stream",
     "text": [
      "Probability to be able to get a poptart on Friday: 0.77\n"
     ]
    }
   ],
   "source": [
    "print('Probability to be able to get a poptart on Friday: {:.2f}'.format(((df.apply(lambda row: sum(row.values), axis = 1)) <= 17).mean()))"
   ]
  },
  {
   "cell_type": "code",
   "execution_count": 95,
   "metadata": {},
   "outputs": [
    {
     "data": {
      "text/html": [
       "<div>\n",
       "<style scoped>\n",
       "    .dataframe tbody tr th:only-of-type {\n",
       "        vertical-align: middle;\n",
       "    }\n",
       "\n",
       "    .dataframe tbody tr th {\n",
       "        vertical-align: top;\n",
       "    }\n",
       "\n",
       "    .dataframe thead th {\n",
       "        text-align: right;\n",
       "    }\n",
       "</style>\n",
       "<table border=\"1\" class=\"dataframe\">\n",
       "  <thead>\n",
       "    <tr style=\"text-align: right;\">\n",
       "      <th></th>\n",
       "      <th>Male</th>\n",
       "      <th>Female</th>\n",
       "    </tr>\n",
       "  </thead>\n",
       "  <tbody>\n",
       "    <tr>\n",
       "      <th>0</th>\n",
       "      <td>185.310137</td>\n",
       "      <td>177.471769</td>\n",
       "    </tr>\n",
       "    <tr>\n",
       "      <th>1</th>\n",
       "      <td>185.753206</td>\n",
       "      <td>167.529318</td>\n",
       "    </tr>\n",
       "    <tr>\n",
       "      <th>2</th>\n",
       "      <td>202.160461</td>\n",
       "      <td>170.957482</td>\n",
       "    </tr>\n",
       "    <tr>\n",
       "      <th>3</th>\n",
       "      <td>186.571693</td>\n",
       "      <td>177.941917</td>\n",
       "    </tr>\n",
       "    <tr>\n",
       "      <th>4</th>\n",
       "      <td>185.604150</td>\n",
       "      <td>172.589826</td>\n",
       "    </tr>\n",
       "  </tbody>\n",
       "</table>\n",
       "</div>"
      ],
      "text/plain": [
       "         Male      Female\n",
       "0  185.310137  177.471769\n",
       "1  185.753206  167.529318\n",
       "2  202.160461  170.957482\n",
       "3  186.571693  177.941917\n",
       "4  185.604150  172.589826"
      ]
     },
     "execution_count": 95,
     "metadata": {},
     "output_type": "execute_result"
    }
   ],
   "source": [
    "# Compare Heights\n",
    "# Men have an average height of 178 cm and standard deviation of 8cm.\n",
    "# Women have a mean of 170, sd = 6cm.\n",
    "# If a man and woman are chosen at random, P(woman taller than man)?\n",
    "\n",
    "\n",
    "M = np.random.normal(178, 8, 100_000)\n",
    "F = np.random.normal(170, 6, 100_000)\n",
    "\n",
    "df = pd.DataFrame({'Male': M,\n",
    "                   'Female': F})\n",
    "df.head()"
   ]
  },
  {
   "cell_type": "code",
   "execution_count": 121,
   "metadata": {},
   "outputs": [
    {
     "name": "stdout",
     "output_type": "stream",
     "text": [
      "The probability of women taller than men is: 0.21\n"
     ]
    }
   ],
   "source": [
    "print(\"The probability of women taller than men is: {:.2f}\".format(df.apply(lambda row: row[1] > row[0] in row.values, axis = 1).mean()))"
   ]
  },
  {
   "cell_type": "code",
   "execution_count": 155,
   "metadata": {},
   "outputs": [
    {
     "name": "stdout",
     "output_type": "stream",
     "text": [
      "The probability that all 50 students successfully download Anaconda: 100.0%\n"
     ]
    }
   ],
   "source": [
    "# When installing anaconda on a student's computer, \n",
    "# 1/250 (= 0.004 = 0.4%) chance that download is corrupted and the installation fails. \n",
    "\n",
    "# What are the odds that after having 50 students download anaconda, \n",
    "# no one has an installation issue? 100 students?\n",
    "\n",
    "\n",
    "option = [0,1] # 0 = no problem, 1 = fail\n",
    "M = np.random.choice(option, 50, p=[0.996, 0.004])\n",
    "df = pd.DataFrame({'Rate': M})\n",
    "percent = (df[\"Rate\"].apply(lambda n: n == 0)).mean()*100\n",
    "percent = str(percent) + '%'\n",
    "percent\n",
    "print('The probability that all 50 students successfully download Anaconda: {}'.format(percent))"
   ]
  },
  {
   "cell_type": "code",
   "execution_count": 153,
   "metadata": {},
   "outputs": [
    {
     "name": "stdout",
     "output_type": "stream",
     "text": [
      "The probability that all 100 students successfully download Anaconda: 100.0%\n"
     ]
    }
   ],
   "source": [
    "option = [0,1] # 0 = no problem, 1 = fail\n",
    "M = np.random.choice(option, 100, p=[0.996, 0.004])\n",
    "df = pd.DataFrame({'Rate': M})\n",
    "percent = (df[\"Rate\"].apply(lambda n: n == 0)).mean()*100\n",
    "percent = str(percent) + '%'\n",
    "percent\n",
    "print('The probability that all 100 students successfully download Anaconda: {}'.format(percent))"
   ]
  },
  {
   "cell_type": "code",
   "execution_count": 156,
   "metadata": {},
   "outputs": [
    {
     "name": "stdout",
     "output_type": "stream",
     "text": [
      "The probability that an failure occurs within 150 students downloading Anaconda: 0.0%\n"
     ]
    }
   ],
   "source": [
    "# What is the probability that we observe an installation issue within the \n",
    "# first 150 students that download anaconda?\n",
    "\n",
    "option = [0,1] # 0 = no problem, 1 = fail\n",
    "M = np.random.choice(option, 150, p=[0.996, 0.004])\n",
    "df = pd.DataFrame({'Rate': M})\n",
    "percent = (df[\"Rate\"].apply(lambda n: n == 1)).mean()*100\n",
    "percent = str(percent) + '%'\n",
    "percent\n",
    "print('The probability that an failure occurs within 150 students downloading Anaconda: {}'.format(percent))"
   ]
  },
  {
   "cell_type": "code",
   "execution_count": 159,
   "metadata": {},
   "outputs": [
    {
     "name": "stdout",
     "output_type": "stream",
     "text": [
      "The probability that all 450 students successfully download Anaconda: 99.55555555555556%\n"
     ]
    }
   ],
   "source": [
    "# How likely is it that 450 students all download anaconda without an issue?\n",
    "option = [0,1] # 0 = no problem, 1 = fail\n",
    "M = np.random.choice(option, 450, p=[0.996, 0.004])\n",
    "df = pd.DataFrame({'Rate': M})\n",
    "percent = (df[\"Rate\"].apply(lambda n: n == 0)).mean()*100\n",
    "percent = str(percent) + '%'\n",
    "percent\n",
    "print('The probability that all 450 students successfully download Anaconda: {}'.format(percent))"
   ]
  },
  {
   "cell_type": "code",
   "execution_count": 168,
   "metadata": {},
   "outputs": [
    {
     "name": "stdout",
     "output_type": "stream",
     "text": [
      "The probability of not seeing any food truck at Travis Park in 3 days is: 0.66\n"
     ]
    }
   ],
   "source": [
    "# 70% chance on any given day that there will be >= 1 food truck at Travis Park. \n",
    "# However, you haven't seen a food truck there in 3 days. How unlikely is this?\n",
    "option = [0,1] # 0 = no food truck, 1 = with food truck\n",
    "M = np.random.choice(option, 100_000, p=[0.3,0.7])\n",
    "df = pd.DataFrame({'Food_Truck': M})\n",
    "\n",
    "print(\"The probability of not seeing any food truck at Travis Park in 3 days is: {:.2f}\".format((df.Food_Truck.rolling(3).sum() < 3).mean()))\n",
    "\n"
   ]
  },
  {
   "cell_type": "code",
   "execution_count": 175,
   "metadata": {},
   "outputs": [
    {
     "name": "stdout",
     "output_type": "stream",
     "text": [
      "The probability of at least 1 food truck will showing up at Travis Park is: 0.999776\n"
     ]
    }
   ],
   "source": [
    "# How likely is it that a food truck will show up sometime this week?\n",
    "\n",
    "option = [0,1] # 0 = no food truck, 1 = with food truck\n",
    "M = np.random.choice(option, 1_000_000, p=[0.3,0.7])\n",
    "df = pd.DataFrame({'Food_Truck': M})\n",
    "\n",
    "print(\"The probability of at least 1 food truck will showing up at Travis Park is: {}\".format((df.Food_Truck.rolling(7).sum() >= 1).mean()))"
   ]
  },
  {
   "cell_type": "code",
   "execution_count": 208,
   "metadata": {},
   "outputs": [
    {
     "data": {
      "text/html": [
       "<div>\n",
       "<style scoped>\n",
       "    .dataframe tbody tr th:only-of-type {\n",
       "        vertical-align: middle;\n",
       "    }\n",
       "\n",
       "    .dataframe tbody tr th {\n",
       "        vertical-align: top;\n",
       "    }\n",
       "\n",
       "    .dataframe thead th {\n",
       "        text-align: right;\n",
       "    }\n",
       "</style>\n",
       "<table border=\"1\" class=\"dataframe\">\n",
       "  <thead>\n",
       "    <tr style=\"text-align: right;\">\n",
       "      <th></th>\n",
       "      <th>0</th>\n",
       "      <th>1</th>\n",
       "      <th>2</th>\n",
       "      <th>3</th>\n",
       "      <th>4</th>\n",
       "      <th>5</th>\n",
       "      <th>6</th>\n",
       "      <th>7</th>\n",
       "      <th>8</th>\n",
       "      <th>9</th>\n",
       "      <th>...</th>\n",
       "      <th>30</th>\n",
       "      <th>31</th>\n",
       "      <th>32</th>\n",
       "      <th>33</th>\n",
       "      <th>34</th>\n",
       "      <th>35</th>\n",
       "      <th>36</th>\n",
       "      <th>37</th>\n",
       "      <th>38</th>\n",
       "      <th>39</th>\n",
       "    </tr>\n",
       "  </thead>\n",
       "  <tbody>\n",
       "    <tr>\n",
       "      <th>0</th>\n",
       "      <td>351.0</td>\n",
       "      <td>157.0</td>\n",
       "      <td>214.0</td>\n",
       "      <td>62.0</td>\n",
       "      <td>20.0</td>\n",
       "      <td>331.0</td>\n",
       "      <td>184.0</td>\n",
       "      <td>109.0</td>\n",
       "      <td>105.0</td>\n",
       "      <td>160.0</td>\n",
       "      <td>...</td>\n",
       "      <td>222.0</td>\n",
       "      <td>130.0</td>\n",
       "      <td>18.0</td>\n",
       "      <td>74.0</td>\n",
       "      <td>177.0</td>\n",
       "      <td>343.0</td>\n",
       "      <td>31.0</td>\n",
       "      <td>274.0</td>\n",
       "      <td>132.0</td>\n",
       "      <td>135.0</td>\n",
       "    </tr>\n",
       "    <tr>\n",
       "      <th>1</th>\n",
       "      <td>149.0</td>\n",
       "      <td>139.0</td>\n",
       "      <td>210.0</td>\n",
       "      <td>210.0</td>\n",
       "      <td>171.0</td>\n",
       "      <td>23.0</td>\n",
       "      <td>308.0</td>\n",
       "      <td>168.0</td>\n",
       "      <td>113.0</td>\n",
       "      <td>89.0</td>\n",
       "      <td>...</td>\n",
       "      <td>188.0</td>\n",
       "      <td>41.0</td>\n",
       "      <td>227.0</td>\n",
       "      <td>136.0</td>\n",
       "      <td>172.0</td>\n",
       "      <td>38.0</td>\n",
       "      <td>216.0</td>\n",
       "      <td>220.0</td>\n",
       "      <td>320.0</td>\n",
       "      <td>199.0</td>\n",
       "    </tr>\n",
       "    <tr>\n",
       "      <th>2</th>\n",
       "      <td>63.0</td>\n",
       "      <td>269.0</td>\n",
       "      <td>302.0</td>\n",
       "      <td>28.0</td>\n",
       "      <td>154.0</td>\n",
       "      <td>348.0</td>\n",
       "      <td>278.0</td>\n",
       "      <td>312.0</td>\n",
       "      <td>35.0</td>\n",
       "      <td>271.0</td>\n",
       "      <td>...</td>\n",
       "      <td>134.0</td>\n",
       "      <td>27.0</td>\n",
       "      <td>77.0</td>\n",
       "      <td>24.0</td>\n",
       "      <td>63.0</td>\n",
       "      <td>336.0</td>\n",
       "      <td>18.0</td>\n",
       "      <td>131.0</td>\n",
       "      <td>207.0</td>\n",
       "      <td>54.0</td>\n",
       "    </tr>\n",
       "    <tr>\n",
       "      <th>3</th>\n",
       "      <td>68.0</td>\n",
       "      <td>132.0</td>\n",
       "      <td>285.0</td>\n",
       "      <td>284.0</td>\n",
       "      <td>67.0</td>\n",
       "      <td>299.0</td>\n",
       "      <td>273.0</td>\n",
       "      <td>286.0</td>\n",
       "      <td>268.0</td>\n",
       "      <td>21.0</td>\n",
       "      <td>...</td>\n",
       "      <td>79.0</td>\n",
       "      <td>331.0</td>\n",
       "      <td>27.0</td>\n",
       "      <td>191.0</td>\n",
       "      <td>251.0</td>\n",
       "      <td>156.0</td>\n",
       "      <td>130.0</td>\n",
       "      <td>257.0</td>\n",
       "      <td>30.0</td>\n",
       "      <td>69.0</td>\n",
       "    </tr>\n",
       "    <tr>\n",
       "      <th>4</th>\n",
       "      <td>52.0</td>\n",
       "      <td>283.0</td>\n",
       "      <td>235.0</td>\n",
       "      <td>120.0</td>\n",
       "      <td>258.0</td>\n",
       "      <td>152.0</td>\n",
       "      <td>159.0</td>\n",
       "      <td>281.0</td>\n",
       "      <td>15.0</td>\n",
       "      <td>317.0</td>\n",
       "      <td>...</td>\n",
       "      <td>154.0</td>\n",
       "      <td>98.0</td>\n",
       "      <td>27.0</td>\n",
       "      <td>209.0</td>\n",
       "      <td>267.0</td>\n",
       "      <td>14.0</td>\n",
       "      <td>274.0</td>\n",
       "      <td>305.0</td>\n",
       "      <td>136.0</td>\n",
       "      <td>334.0</td>\n",
       "    </tr>\n",
       "  </tbody>\n",
       "</table>\n",
       "<p>5 rows × 40 columns</p>\n",
       "</div>"
      ],
      "text/plain": [
       "      0      1      2      3      4      5      6      7      8      9   ...  \\\n",
       "0  351.0  157.0  214.0   62.0   20.0  331.0  184.0  109.0  105.0  160.0  ...   \n",
       "1  149.0  139.0  210.0  210.0  171.0   23.0  308.0  168.0  113.0   89.0  ...   \n",
       "2   63.0  269.0  302.0   28.0  154.0  348.0  278.0  312.0   35.0  271.0  ...   \n",
       "3   68.0  132.0  285.0  284.0   67.0  299.0  273.0  286.0  268.0   21.0  ...   \n",
       "4   52.0  283.0  235.0  120.0  258.0  152.0  159.0  281.0   15.0  317.0  ...   \n",
       "\n",
       "      30     31     32     33     34     35     36     37     38     39  \n",
       "0  222.0  130.0   18.0   74.0  177.0  343.0   31.0  274.0  132.0  135.0  \n",
       "1  188.0   41.0  227.0  136.0  172.0   38.0  216.0  220.0  320.0  199.0  \n",
       "2  134.0   27.0   77.0   24.0   63.0  336.0   18.0  131.0  207.0   54.0  \n",
       "3   79.0  331.0   27.0  191.0  251.0  156.0  130.0  257.0   30.0   69.0  \n",
       "4  154.0   98.0   27.0  209.0  267.0   14.0  274.0  305.0  136.0  334.0  \n",
       "\n",
       "[5 rows x 40 columns]"
      ]
     },
     "execution_count": 208,
     "metadata": {},
     "output_type": "execute_result"
    }
   ],
   "source": [
    "# If 23 people are in the same room, what are the odds that two of them share a birthday? \n",
    "# What if it's 20 people? 40?\n",
    "# 23 - 1 pair 23*(22/2)\n",
    "\n",
    "# If you flip 8 coins, what is the probability of getting exactly 3 heads? \n",
    "# What is the probability of getting more than 3 heads?\n",
    "person = 40\n",
    "trial_num = 1_000\n",
    "\n",
    "df = pd.DataFrame(np.random.uniform(0,365,(trial_num, person)))\n",
    "df = df.round()\n",
    "df.head()\n"
   ]
  },
  {
   "cell_type": "code",
   "execution_count": 213,
   "metadata": {},
   "outputs": [],
   "source": [
    "num_unique = df.nunique(axis = 1).mean()"
   ]
  },
  {
   "cell_type": "code",
   "execution_count": 215,
   "metadata": {},
   "outputs": [
    {
     "data": {
      "text/plain": [
       "'5.060000000000002%'"
      ]
     },
     "execution_count": 215,
     "metadata": {},
     "output_type": "execute_result"
    }
   ],
   "source": [
    "duplicated = 40 - num_unique\n",
    "dup_percentage = str((duplicated / 40) * 100) + '%'\n",
    "dup_percentage"
   ]
  },
  {
   "cell_type": "code",
   "execution_count": null,
   "metadata": {},
   "outputs": [],
   "source": []
  }
 ],
 "metadata": {
  "kernelspec": {
   "display_name": "Python 3",
   "language": "python",
   "name": "python3"
  },
  "language_info": {
   "codemirror_mode": {
    "name": "ipython",
    "version": 3
   },
   "file_extension": ".py",
   "mimetype": "text/x-python",
   "name": "python",
   "nbconvert_exporter": "python",
   "pygments_lexer": "ipython3",
   "version": "3.7.3"
  },
  "toc": {
   "base_numbering": 1,
   "nav_menu": {},
   "number_sections": true,
   "sideBar": true,
   "skip_h1_title": false,
   "title_cell": "Table of Contents",
   "title_sidebar": "Contents",
   "toc_cell": false,
   "toc_position": {},
   "toc_section_display": true,
   "toc_window_display": false
  },
  "varInspector": {
   "cols": {
    "lenName": 16,
    "lenType": 16,
    "lenVar": 40
   },
   "kernels_config": {
    "python": {
     "delete_cmd_postfix": "",
     "delete_cmd_prefix": "del ",
     "library": "var_list.py",
     "varRefreshCmd": "print(var_dic_list())"
    },
    "r": {
     "delete_cmd_postfix": ") ",
     "delete_cmd_prefix": "rm(",
     "library": "var_list.r",
     "varRefreshCmd": "cat(var_dic_list()) "
    }
   },
   "types_to_exclude": [
    "module",
    "function",
    "builtin_function_or_method",
    "instance",
    "_Feature"
   ],
   "window_display": false
  }
 },
 "nbformat": 4,
 "nbformat_minor": 2
}
