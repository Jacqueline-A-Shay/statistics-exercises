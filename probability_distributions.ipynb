{
 "cells": [
  {
   "cell_type": "code",
   "execution_count": 4,
   "metadata": {},
   "outputs": [],
   "source": [
    "from scipy import stats\n",
    "import numpy as np\n",
    "import pandas as pd\n",
    "import seaborn as sns\n",
    "%matplotlib inline\n",
    "import matplotlib.pyplot as plt"
   ]
  },
  {
   "cell_type": "markdown",
   "metadata": {},
   "source": [
    "A bank found:\n",
    "average number of cars waiting during the noon hour at a drive-up window <br>\n",
    "**Poisson distribution**  \n",
    "**mean = 2 cars**\n",
    "\n",
    "- Make a chart of this distribution\n",
    "- What is the probability that no cars drive up in the noon hour?\n",
    "- What is the probability that 3 or more cars come through the drive through?\n",
    "- How likely is it that the drive through gets at least 1 car?"
   ]
  },
  {
   "cell_type": "code",
   "execution_count": 5,
   "metadata": {},
   "outputs": [
    {
     "data": {
      "text/plain": [
       "Text(0, 0.5, 'P(X = x)')"
      ]
     },
     "execution_count": 5,
     "metadata": {},
     "output_type": "execute_result"
    },
    {
     "data": {
      "image/png": "[encoded data removed]",
      "text/plain": [
       "<Figure size 432x288 with 1 Axes>"
      ]
     },
     "metadata": {
      "needs_background": "light"
     },
     "output_type": "display_data"
    }
   ],
   "source": [
    "dist = stats.poisson(2)\n",
    "n = 10_000 # number of experiments\n",
    "\n",
    "x = [0, 1, 2, 3, 4, 5, 6, 7, 8] # of car\n",
    "y = dist.pmf(x) # frequency\n",
    "\n",
    "plt.bar(x, y, color='white', edgecolor='black', width=1)\n",
    "plt.xlabel('# of Cars')\n",
    "plt.ylabel('P(X = x)')"
   ]
  },
  {
   "cell_type": "code",
   "execution_count": 108,
   "metadata": {},
   "outputs": [
    {
     "data": {
      "text/plain": [
       "array([2, 3, 1, ..., 5, 0, 0])"
      ]
     },
     "execution_count": 108,
     "metadata": {},
     "output_type": "execute_result"
    }
   ],
   "source": [
    "s = np.random.poisson(2, 100_000_000)\n",
    "s"
   ]
  },
  {
   "cell_type": "code",
   "execution_count": 109,
   "metadata": {},
   "outputs": [
    {
     "name": "stdout",
     "output_type": "stream",
     "text": [
      "Possibility of zero car drive up in the noon hour is 0.14\n"
     ]
    }
   ],
   "source": [
    "est_drive = (s == 0).mean()\n",
    "print(\"Possibility of zero car drive up in the noon hour is {:.2f}\".format(est_drive))"
   ]
  },
  {
   "cell_type": "code",
   "execution_count": 102,
   "metadata": {},
   "outputs": [
    {
     "name": "stdout",
     "output_type": "stream",
     "text": [
      "Possibility of zero car drive up in the noon hour is 0.14\n"
     ]
    }
   ],
   "source": [
    "print(\"Possibility of zero car drive up in the noon hour is {:.2f}\".format(stats.poisson(2).pmf(0)))"
   ]
  },
  {
   "cell_type": "code",
   "execution_count": 110,
   "metadata": {},
   "outputs": [
    {
     "name": "stdout",
     "output_type": "stream",
     "text": [
      "Possibility of 3 or more cars drive up in the noon hour is 0.32\n"
     ]
    }
   ],
   "source": [
    "est_3 = (s >= 3).mean()\n",
    "print(\"Possibility of 3 or more cars drive up in the noon hour is {:.2f}\".format(est_3))\n"
   ]
  },
  {
   "cell_type": "code",
   "execution_count": 114,
   "metadata": {},
   "outputs": [
    {
     "name": "stdout",
     "output_type": "stream",
     "text": [
      "Possibility of 3 or more cars drive up in the noon hour is 0.32\n"
     ]
    }
   ],
   "source": [
    "print(\"Possibility of 3 or more cars drive up in the noon hour is {:.2f}\".format(stats.poisson(2).sf(2)))\n",
    "# sf --> b"
   ]
  },
  {
   "cell_type": "code",
   "execution_count": 112,
   "metadata": {},
   "outputs": [
    {
     "name": "stdout",
     "output_type": "stream",
     "text": [
      "Possibility of at least 1 car drive up in the noon hour is 0.86\n"
     ]
    }
   ],
   "source": [
    "est_1 = (s >= 1).mean()\n",
    "print(\"Possibility of at least 1 car drive up in the noon hour is {:.2f}\".format(est_1))"
   ]
  },
  {
   "cell_type": "code",
   "execution_count": 113,
   "metadata": {},
   "outputs": [
    {
     "name": "stdout",
     "output_type": "stream",
     "text": [
      "Possibility of at least 1 car drive up in the noon hour is 0.86\n"
     ]
    }
   ],
   "source": [
    "print(\"Possibility of at least 1 car drive up in the noon hour is {:.2f}\".format(stats.poisson(2).sf(0)))\n",
    "# cdf is inclusive, less than or equal to"
   ]
  },
  {
   "cell_type": "markdown",
   "metadata": {},
   "source": [
    "Grades of State University graduates are normally distributed\n",
    "mean of 3.0 \n",
    "standard deviation of .3. \n",
    "\n",
    "- GPA required to be in the top 5% of the graduating class?\n",
    "---------------------------------------------------------------------------------------------------------------\n",
    "- An eccentric alumnus left scholarship money for students in the third decile  from the bottom of their class.\n",
    "- Determine the range of the third decile = 20% - 30%\n",
    "- Would a student with a 2.8 grade point average qualify for this scholarship?\n",
    "\n"
   ]
  },
  {
   "cell_type": "code",
   "execution_count": 117,
   "metadata": {},
   "outputs": [
    {
     "data": {
      "text/plain": [
       "array([3.22, 2.63, 3.11, ..., 2.52, 3.26, 2.99])"
      ]
     },
     "execution_count": 117,
     "metadata": {},
     "output_type": "execute_result"
    }
   ],
   "source": [
    "μ = 3.0\n",
    "σ = 0.3\n",
    "trial_num = 100_000\n",
    "gpa_distribution = np.random.normal(μ,σ, trial_num)\n",
    "gpa_distribution = gpa_distribution.round(2)\n",
    "gpa_distribution"
   ]
  },
  {
   "cell_type": "code",
   "execution_count": 121,
   "metadata": {},
   "outputs": [
    {
     "name": "stdout",
     "output_type": "stream",
     "text": [
      "GPA for top 5% studendt is: 3.49\n"
     ]
    }
   ],
   "source": [
    "percent_5 = (np.percentile(gpa_distribution, 95).mean())\n",
    "print(\"GPA for top 5% studendt is: {:.2f}\".format(percent_5))"
   ]
  },
  {
   "cell_type": "code",
   "execution_count": 3,
   "metadata": {},
   "outputs": [
    {
     "name": "stdout",
     "output_type": "stream",
     "text": [
      "GPA for top 5% studendt is: 3.49\n"
     ]
    }
   ],
   "source": [
    "μ = 3.0\n",
    "σ = 0.3\n",
    "print(\"GPA for top 5% studendt is: {:.2f}\".format(stats.norm(3,0.3).isf(0.05)))"
   ]
  },
  {
   "cell_type": "code",
   "execution_count": 128,
   "metadata": {},
   "outputs": [
    {
     "data": {
      "text/plain": [
       "2.75"
      ]
     },
     "execution_count": 128,
     "metadata": {},
     "output_type": "execute_result"
    }
   ],
   "source": [
    "percent_20= (np.percentile(gpa_distribution, 20).mean())\n",
    "percent_20\n"
   ]
  },
  {
   "cell_type": "code",
   "execution_count": 129,
   "metadata": {},
   "outputs": [
    {
     "data": {
      "text/plain": [
       "2.84"
      ]
     },
     "execution_count": 129,
     "metadata": {},
     "output_type": "execute_result"
    }
   ],
   "source": [
    "percent_30= (np.percentile(gpa_distribution, 30).mean())\n",
    "percent_30"
   ]
  },
  {
   "cell_type": "code",
   "execution_count": 134,
   "metadata": {},
   "outputs": [
    {
     "data": {
      "text/plain": [
       "2.7475136299281258"
      ]
     },
     "execution_count": 134,
     "metadata": {},
     "output_type": "execute_result"
    }
   ],
   "source": [
    "twenty_percent = stats.norm(μ, σ).ppf(0.2) # less than or equal to 20%\n",
    "twenty_percent"
   ]
  },
  {
   "cell_type": "code",
   "execution_count": 132,
   "metadata": {},
   "outputs": [
    {
     "data": {
      "text/plain": [
       "2.842679846187588"
      ]
     },
     "execution_count": 132,
     "metadata": {},
     "output_type": "execute_result"
    }
   ],
   "source": [
    "thirty_percent = stats.norm(μ, σ).ppf(0.3) # less than or equal to 30%\n",
    "thirty_percent"
   ]
  },
  {
   "cell_type": "code",
   "execution_count": 135,
   "metadata": {},
   "outputs": [
    {
     "name": "stdout",
     "output_type": "stream",
     "text": [
      "Eligibility for the scholarship is between the GPA range: 2.75 and 2.84\n"
     ]
    }
   ],
   "source": [
    "print(\"Eligibility for the scholarship is between the GPA range: {:.2f} and {:.2f}\".format(twenty_percent, thirty_percent))"
   ]
  },
  {
   "cell_type": "markdown",
   "metadata": {},
   "source": [
    "Marketing website: <b>\n",
    "- P =  2% average click-through rate \n",
    "---------------------------------------------------------------\n",
    "- N = 4326 visitors \n",
    "- 97 click-throughs. \n",
    "---------------------------------------------------------------\n",
    "> How likely is it that this many people or more click through?"
   ]
  },
  {
   "cell_type": "code",
   "execution_count": 60,
   "metadata": {},
   "outputs": [
    {
     "name": "stdout",
     "output_type": "stream",
     "text": [
      "Probability of equal or more than 97 click throughs: 0.14\n"
     ]
    }
   ],
   "source": [
    "option = [\"Click\",\"Skipped\"] \n",
    "clicking_dist = np.random.choice(option, [10_000,4326], p=[0.02, 0.98])\n",
    "click_num =(((clicking_dist == \"Click\").sum(axis = 1))>= 97).mean()\n",
    "print(\"Probability of equal or more than 97 click throughs: {:.2f}\".format(click_num))"
   ]
  },
  {
   "cell_type": "code",
   "execution_count": 39,
   "metadata": {},
   "outputs": [
    {
     "name": "stdout",
     "output_type": "stream",
     "text": [
      "Probability of equal or more than 97 click throughs: 0.14\n"
     ]
    }
   ],
   "source": [
    "print(\"Probability of equal or more than 97 click throughs: {:.2f}\".format(stats.binom(4326,0.02).sf(96)))\n"
   ]
  },
  {
   "cell_type": "code",
   "execution_count": null,
   "metadata": {},
   "outputs": [],
   "source": [
    "n = 4326\n",
    "p = 0.02\n",
    "\n",
    "x = np.arrange(0, 200)\n",
    "y_binom = stats.binom(n,p).pmf(x)\n",
    "y_po = stats.poisson(n*p).pmf(x)\n",
    "# plot and compare 2 models\n",
    "# in this case almost identical"
   ]
  },
  {
   "cell_type": "code",
   "execution_count": null,
   "metadata": {},
   "outputs": [],
   "source": []
  },
  {
   "cell_type": "markdown",
   "metadata": {},
   "source": [
    "You are working on some statistics homework consisting of \n",
    "100 questions \n",
    "all the answers are a probability rounded to the hundreths place. \n",
    "\n",
    "Looking to save time, you put down random probabilities as the answer to each question.\n",
    "What is the probability that at least one of your first 60 answers is correct?"
   ]
  },
  {
   "cell_type": "code",
   "execution_count": 179,
   "metadata": {},
   "outputs": [
    {
     "name": "stdout",
     "output_type": "stream",
     "text": [
      "The probabilty of getting at least 1 multiple choice question correct (Total = 60) by random guess is: 0.45\n"
     ]
    }
   ],
   "source": [
    "answer = [\"correct\", \"incorrect\"]\n",
    "prob_correct = [0.25, 0.75]\n",
    "row = np.random.choice(answer, 60, prob_correct)\n",
    "row\n",
    "p = (row == \"correct\").sum()/60\n",
    "print(\"The probabilty of getting at least 1 multiple choice question correct (Total = 60) by random guess is: {:.2f}\".format(p))\n",
    "\n"
   ]
  },
  {
   "cell_type": "code",
   "execution_count": 180,
   "metadata": {},
   "outputs": [
    {
     "name": "stdout",
     "output_type": "stream",
     "text": [
      "The probabilty of getting at least 1 multiple choice question correct (Total = 60) by random guess is: 0.45\n"
     ]
    }
   ],
   "source": [
    "# p = 0.01\n",
    "# n = 60\n",
    "\n",
    "print(\"The probabilty of getting at least 1 multiple choice question correct (Total = 60) by random guess is: {:.2f}\".format(1 - stats.binom(60,0.01).cdf(0)))"
   ]
  },
  {
   "cell_type": "markdown",
   "metadata": {},
   "source": [
    "The codeup staff tends to get upset when the student break area is not cleaned up. Suppose that there's a 3% chance that any one student cleans the break area when they visit it, and, on any given day, about 90% of the 3 active cohorts of 22 students visit the break area. How likely is it that the break area gets cleaned up each day? How likely is it that it goes two days without getting cleaned up? All week?"
   ]
  },
  {
   "cell_type": "code",
   "execution_count": 131,
   "metadata": {},
   "outputs": [
    {
     "name": "stdout",
     "output_type": "stream",
     "text": [
      "Probability of having clean breakroom: 0.84\n"
     ]
    }
   ],
   "source": [
    "traffic = round(0.9*3*22)\n",
    "clean_day = ((np.random.random([100_000, traffic]) <= 0.03).sum(axis = 1)) >= 1\n",
    "# return a list of T/F\n",
    "# indicate at least one person cleaned up breakroom\n",
    "result = np.count_nonzero(clean_day) / 100000\n",
    "# count how many days at least one person cleanned / total trials\n",
    "print(\"Probability of having clean breakroom: {:.2f}\". format(result))"
   ]
  },
  {
   "cell_type": "code",
   "execution_count": 117,
   "metadata": {},
   "outputs": [
    {
     "name": "stdout",
     "output_type": "stream",
     "text": [
      "Probability of having dirty breakroom for 2 consecutive days: 0.03\n"
     ]
    }
   ],
   "source": [
    "print(\"Probability of having dirty breakroom for 2 consecutive days: {:.2f}\". format((1 - result) ** 2))"
   ]
  },
  {
   "cell_type": "code",
   "execution_count": 114,
   "metadata": {},
   "outputs": [
    {
     "data": {
      "text/plain": [
       "0.00012661983057503533"
      ]
     },
     "execution_count": 114,
     "metadata": {},
     "output_type": "execute_result"
    }
   ],
   "source": [
    "print(\"Probability of having dirty breakroom for a whole week: {}\". format((1 - result) ** 5))"
   ]
  },
  {
   "cell_type": "code",
   "execution_count": 6,
   "metadata": {},
   "outputs": [
    {
     "name": "stdout",
     "output_type": "stream",
     "text": [
      "Probability of having clean breakroom: 0.83\n"
     ]
    }
   ],
   "source": [
    "print(\"Probability of having clean breakroom: {:.2f}\". format(stats.binom(59,0.03).sf(0)))"
   ]
  },
  {
   "cell_type": "code",
   "execution_count": 139,
   "metadata": {},
   "outputs": [
    {
     "name": "stdout",
     "output_type": "stream",
     "text": [
      "Probability of having dirty breakroom 2 days in a row: 0.02709315999999999\n"
     ]
    }
   ],
   "source": [
    "print(\"Probability of having dirty breakroom 2 days in a row: {}\". format((stats.binom(2, (1-result)).sf(1))))"
   ]
  },
  {
   "cell_type": "code",
   "execution_count": 138,
   "metadata": {},
   "outputs": [
    {
     "name": "stdout",
     "output_type": "stream",
     "text": [
      "Probability of having dirty breakroom 5 days in a row: 0.00012082287187210964\n"
     ]
    }
   ],
   "source": [
    "print(\"Probability of having dirty breakroom 5 days in a row: {}\". format((stats.binom(5, (1-result)).sf(4))))"
   ]
  },
  {
   "cell_type": "markdown",
   "metadata": {},
   "source": [
    "average people in line when your lunch break starts is \n",
    "normally distributed \n",
    "μ = 15 \n",
    "σ = 3 \n",
    "\n",
    "2 minutes/order\n",
    "10 minutes from ordering to getting your food, \n",
    "\n",
    "Probability having >= 15 minutes to eat \n",
    "Assume you have one hour for lunch, and ignore travel time to and from La Panaderia."
   ]
  },
  {
   "cell_type": "markdown",
   "metadata": {},
   "source": [
    ">noon, wait line = 15 +/- 3\n",
    "range = 12 - 18\n",
    "worse case scenario, \n",
    "time in line will be 18 * 2 = 36min\n",
    "plus order-receive food = 10min\n",
    "worse wait time = 46min\n",
    "-------------------------------------------------------------------\n",
    "Assume no people in line:\n",
    "2 + 10 + 15 = 27 (my own order, wait, eat)\n",
    "60 - 27 = 33min \n",
    "Can only have at least 15min to eat if people in line <= 14"
   ]
  },
  {
   "cell_type": "code",
   "execution_count": 140,
   "metadata": {},
   "outputs": [
    {
     "name": "stdout",
     "output_type": "stream",
     "text": [
      "Probability of having at least 45 minute to eat: 0.69\n"
     ]
    }
   ],
   "source": [
    "μ = 15\n",
    "σ = 3\n",
    "trial_n = 100_000\n",
    "line = np.random.normal(μ, σ, trial_n).round()\n",
    "line\n",
    "wait_time = (line*2)+2+10\n",
    "wait_time\n",
    "p = (wait_time <= 44).mean()\n",
    "\n",
    "print(\"Probability of having at least 45 minute to eat: {:.2f}\".format(p))"
   ]
  },
  {
   "cell_type": "code",
   "execution_count": 151,
   "metadata": {},
   "outputs": [
    {
     "data": {
      "text/plain": [
       "0.6305586598182363"
      ]
     },
     "execution_count": 151,
     "metadata": {},
     "output_type": "execute_result"
    }
   ],
   "source": [
    "μ = 15\n",
    "σ = 3\n",
    "time = 60-12-15\n",
    "# 2(max_people) = 33\n",
    "max_people = round(33/2)\n",
    "stats.norm(μ, σ).cdf(max_people)"
   ]
  },
  {
   "cell_type": "markdown",
   "metadata": {},
   "source": [
    "Use employees data \n",
    "Find μ, σ for current employees\n",
    "Model the distribution of employees salaries with a normal distribution and answer the following questions:\n",
    "\n",
    "- What percent of employees earn less than 60,000?\n",
    "- What percent of employees earn more than 95,000?\n",
    "- What percent of employees earn between 65,000 and 80,000?\n",
    "- What do the top 5% of employees make?"
   ]
  },
  {
   "cell_type": "code",
   "execution_count": 236,
   "metadata": {},
   "outputs": [
    {
     "name": "stdout",
     "output_type": "stream",
     "text": [
      "Input desired database name: employees\n",
      "Key in the query select * from salaries where to_date > now()\n"
     ]
    },
    {
     "data": {
      "text/html": [
       "<div>\n",
       "<style scoped>\n",
       "    .dataframe tbody tr th:only-of-type {\n",
       "        vertical-align: middle;\n",
       "    }\n",
       "\n",
       "    .dataframe tbody tr th {\n",
       "        vertical-align: top;\n",
       "    }\n",
       "\n",
       "    .dataframe thead th {\n",
       "        text-align: right;\n",
       "    }\n",
       "</style>\n",
       "<table border=\"1\" class=\"dataframe\">\n",
       "  <thead>\n",
       "    <tr style=\"text-align: right;\">\n",
       "      <th></th>\n",
       "      <th>emp_no</th>\n",
       "      <th>salary</th>\n",
       "      <th>from_date</th>\n",
       "      <th>to_date</th>\n",
       "    </tr>\n",
       "  </thead>\n",
       "  <tbody>\n",
       "    <tr>\n",
       "      <th>0</th>\n",
       "      <td>10001</td>\n",
       "      <td>88958</td>\n",
       "      <td>2002-06-22</td>\n",
       "      <td>9999-01-01</td>\n",
       "    </tr>\n",
       "    <tr>\n",
       "      <th>1</th>\n",
       "      <td>10002</td>\n",
       "      <td>72527</td>\n",
       "      <td>2001-08-02</td>\n",
       "      <td>9999-01-01</td>\n",
       "    </tr>\n",
       "    <tr>\n",
       "      <th>2</th>\n",
       "      <td>10003</td>\n",
       "      <td>43311</td>\n",
       "      <td>2001-12-01</td>\n",
       "      <td>9999-01-01</td>\n",
       "    </tr>\n",
       "    <tr>\n",
       "      <th>3</th>\n",
       "      <td>10004</td>\n",
       "      <td>74057</td>\n",
       "      <td>2001-11-27</td>\n",
       "      <td>9999-01-01</td>\n",
       "    </tr>\n",
       "    <tr>\n",
       "      <th>4</th>\n",
       "      <td>10005</td>\n",
       "      <td>94692</td>\n",
       "      <td>2001-09-09</td>\n",
       "      <td>9999-01-01</td>\n",
       "    </tr>\n",
       "  </tbody>\n",
       "</table>\n",
       "</div>"
      ],
      "text/plain": [
       "   emp_no  salary   from_date     to_date\n",
       "0   10001   88958  2002-06-22  9999-01-01\n",
       "1   10002   72527  2001-08-02  9999-01-01\n",
       "2   10003   43311  2001-12-01  9999-01-01\n",
       "3   10004   74057  2001-11-27  9999-01-01\n",
       "4   10005   94692  2001-09-09  9999-01-01"
      ]
     },
     "execution_count": 236,
     "metadata": {},
     "output_type": "execute_result"
    }
   ],
   "source": [
    "def get_db_url():\n",
    "    url = f'mysql+pymysql://{user}:{password}@{host}/{database_name}'\n",
    "    return url\n",
    "from env import host, user, password\n",
    "database_name = input(\"Input desired database name: \")\n",
    "query = input(\"Key in the query \")\n",
    "df = pd.read_sql(query,get_db_url())\n",
    "df.head(5)"
   ]
  },
  {
   "cell_type": "code",
   "execution_count": 248,
   "metadata": {},
   "outputs": [
    {
     "name": "stdout",
     "output_type": "stream",
     "text": [
      "Average salary: 72012.24\n"
     ]
    }
   ],
   "source": [
    "μ_sal = df.salary.mean()\n",
    "print(\"Average salary: {:.2f}\".format(μ_sal))"
   ]
  },
  {
   "cell_type": "code",
   "execution_count": 250,
   "metadata": {},
   "outputs": [
    {
     "name": "stdout",
     "output_type": "stream",
     "text": [
      "Standard deviation of salary: 17310.00\n"
     ]
    }
   ],
   "source": [
    "σ_sal = df.salary.std()\n",
    "print(\"Standard deviation of salary: {:.2f}\".format(σ_sal))"
   ]
  },
  {
   "cell_type": "code",
   "execution_count": 298,
   "metadata": {},
   "outputs": [
    {
     "name": "stdout",
     "output_type": "stream",
     "text": [
      "Probabilty of employers...\n",
      "Earning less than 60K is 0.24\n",
      "Earning higher than 95K is 0.09\n",
      "Earning between 65K and 80K is 0.33\n",
      "Top 5% earning: $100622.34\n"
     ]
    }
   ],
   "source": [
    "sal_dist = np.random.normal(μ_sal,σ_sal,240124)\n",
    "# lower_60 = (sal_dist < 60000).sum()/240124\n",
    "higher_95 = (sal_dist > 95000).sum()/240124\n",
    "between_65_80 = (np.count_nonzero(sal_dist[(np.where((sal_dist > 65000) & (sal_dist < 80000)))]))/240124\n",
    "between_65_80\n",
    "top_5_percent = (np.percentile(sal_dist, 95))\n",
    "\n",
    "print(\"Probabilty of employers...\") \n",
    "print(\"Earning less than 60K is {:.2f}\".format(lower_60))\n",
    "print(\"Earning higher than 95K is {:.2f}\".format(higher_95))\n",
    "print(\"Earning between 65K and 80K is {:.2f}\".format(between_65_80))\n",
    "print(\"Top 5% earning: ${:.2f}\". format(top_5_percent))\n"
   ]
  },
  {
   "cell_type": "code",
   "execution_count": 256,
   "metadata": {},
   "outputs": [
    {
     "name": "stdout",
     "output_type": "stream",
     "text": [
      "Probability of employees earning less than 60K: 0.24\n"
     ]
    }
   ],
   "source": [
    "salary_below_60K = stats.norm(μ,σ).cdf(59999)\n",
    "print(\"Probability of employees earning less than 60K: {:.2f}\".format(salary_below_60K))"
   ]
  },
  {
   "cell_type": "code",
   "execution_count": 259,
   "metadata": {},
   "outputs": [
    {
     "name": "stdout",
     "output_type": "stream",
     "text": [
      "Probability of employees earning more than 95K: 0.09\n"
     ]
    }
   ],
   "source": [
    "salary_above_95K = stats.norm(μ,σ).sf(95000)\n",
    "salary_above_95K\n",
    "print(\"Probability of employees earning more than 95K: {:.2f}\".format(salary_above_95K))"
   ]
  },
  {
   "cell_type": "code",
   "execution_count": 247,
   "metadata": {},
   "outputs": [
    {
     "data": {
      "text/plain": [
       "0.33508179968418816"
      ]
     },
     "execution_count": 247,
     "metadata": {},
     "output_type": "execute_result"
    }
   ],
   "source": [
    "# What percent of employees earn between 65,000 and 80,000?\n",
    "emp_total = df.emp_no.count()\n",
    "(stats.norm(μ,σ).cdf(80000)-stats.norm(μ,σ).cdf(64999))"
   ]
  },
  {
   "cell_type": "code",
   "execution_count": 244,
   "metadata": {},
   "outputs": [
    {
     "data": {
      "text/plain": [
       "240124"
      ]
     },
     "execution_count": 244,
     "metadata": {},
     "output_type": "execute_result"
    }
   ],
   "source": [
    "emp_total = df.emp_no.count()\n",
    "emp_total"
   ]
  },
  {
   "cell_type": "code",
   "execution_count": 246,
   "metadata": {},
   "outputs": [
    {
     "data": {
      "text/plain": [
       "emp_no       240124\n",
       "salary        67724\n",
       "from_date       364\n",
       "to_date           1\n",
       "dtype: int64"
      ]
     },
     "execution_count": 246,
     "metadata": {},
     "output_type": "execute_result"
    }
   ],
   "source": [
    "df.nunique()"
   ]
  },
  {
   "cell_type": "code",
   "execution_count": 262,
   "metadata": {},
   "outputs": [
    {
     "name": "stdout",
     "output_type": "stream",
     "text": [
      "Top 5% of employees make $100484.64\n"
     ]
    }
   ],
   "source": [
    "salary_top95 = stats.norm(μ,σ).isf(0.05)\n",
    "salary_top95\n",
    "print(\"Top 5% of employees make ${:.2f}\".format(salary_top95))"
   ]
  },
  {
   "cell_type": "code",
   "execution_count": null,
   "metadata": {},
   "outputs": [],
   "source": []
  }
 ],
 "metadata": {
  "kernelspec": {
   "display_name": "Python 3",
   "language": "python",
   "name": "python3"
  },
  "language_info": {
   "codemirror_mode": {
    "name": "ipython",
    "version": 3
   },
   "file_extension": ".py",
   "mimetype": "text/x-python",
   "name": "python",
   "nbconvert_exporter": "python",
   "pygments_lexer": "ipython3",
   "version": "3.7.3"
  },
  "toc": {
   "base_numbering": 1,
   "nav_menu": {},
   "number_sections": true,
   "sideBar": true,
   "skip_h1_title": false,
   "title_cell": "Table of Contents",
   "title_sidebar": "Contents",
   "toc_cell": false,
   "toc_position": {},
   "toc_section_display": true,
   "toc_window_display": false
  },
  "varInspector": {
   "cols": {
    "lenName": 16,
    "lenType": 16,
    "lenVar": 40
   },
   "kernels_config": {
    "python": {
     "delete_cmd_postfix": "",
     "delete_cmd_prefix": "del ",
     "library": "var_list.py",
     "varRefreshCmd": "print(var_dic_list())"
    },
    "r": {
     "delete_cmd_postfix": ") ",
     "delete_cmd_prefix": "rm(",
     "library": "var_list.r",
     "varRefreshCmd": "cat(var_dic_list()) "
    }
   },
   "types_to_exclude": [
    "module",
    "function",
    "builtin_function_or_method",
    "instance",
    "_Feature"
   ],
   "window_display": false
  }
 },
 "nbformat": 4,
 "nbformat_minor": 2
}
