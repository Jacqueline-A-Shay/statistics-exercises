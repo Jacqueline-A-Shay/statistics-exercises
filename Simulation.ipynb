{
 "cells": [
  {
   "cell_type": "code",
   "execution_count": null,
   "metadata": {},
   "outputs": [],
   "source": [
    "import numpy as np\n",
    "import pandas as pd\n",
    "import matplotlib.pyplot as plt\n",
    "%matplotlib inline\n",
    "\n",
    "np.random.seed(123)"
   ]
  },
  {
   "cell_type": "code",
   "execution_count": 36,
   "metadata": {},
   "outputs": [
    {
     "name": "stdout",
     "output_type": "stream",
     "text": [
      "The probability of roll doubles when rolling two dices is: 0.17\n"
     ]
    }
   ],
   "source": [
    "# How likely is it that you roll doubles when rolling two dice?\n",
    "dice_roll_num = 2\n",
    "trial_num = 100_000\n",
    "\n",
    "df = pd.DataFrame(np.random.choice([1,2,3,4,5,6], (trial_num, dice_roll_num)))\n",
    "df.head()\n",
    "\n",
    "# p_double\n",
    "\n",
    "def row_vs(series):\n",
    "    return series.iloc[0] == series.iloc[1]\n",
    "    \n",
    "print(\"The probability of roll doubles when rolling two dices is: {:.2f}\".format(df.apply(row_vs, axis = 1).mean()))"
   ]
  },
  {
   "cell_type": "code",
   "execution_count": 22,
   "metadata": {},
   "outputs": [
    {
     "data": {
      "text/plain": [
       "0.1758"
      ]
     },
     "execution_count": 22,
     "metadata": {},
     "output_type": "execute_result"
    }
   ],
   "source": [
    "dice_sample = pd.DataFrame(np.random.randint(1,7,(1000000,2)))\n",
    "p_doubles = (dice_sample[0] == dice_sample[1]).mean()\n",
    "p_doubles\n",
    "\n",
    "rolls = np.random.randint(1, 7, (10_000, 2))\n",
    "p = (rolls[:, 0] == rolls[:, 1]).mean()\n",
    "p"
   ]
  },
  {
   "cell_type": "code",
   "execution_count": 16,
   "metadata": {},
   "outputs": [],
   "source": [
    "# If you flip 8 coins, what is the probability of getting exactly 3 heads? \n",
    "# What is the probability of getting more than 3 heads?\n",
    "toss_coin_num = 8\n",
    "trial_num = 10_000\n",
    "\n",
    "df = pd.DataFrame(np.random.choice([1,2], (trial_num, toss_coin_num)))\n",
    "# let 1 = head & 2 = Tail\n",
    "\n"
   ]
  },
  {
   "cell_type": "code",
   "execution_count": 17,
   "metadata": {},
   "outputs": [
    {
     "name": "stdout",
     "output_type": "stream",
     "text": [
      "The probability of getting exactly 3 heads when flipping coins for 8 times: 0.21\n",
      "The probability of getting more than 3 heads when flipping coins for 8 times: 0.64\n"
     ]
    }
   ],
   "source": [
    "# p_double\n",
    "\n",
    "def coin_toss(series):\n",
    "    counter = 0\n",
    "    for c in series:\n",
    "        if c == 1:\n",
    "            counter += 1\n",
    "    return counter == 3\n",
    "\n",
    "def coin_get_more_than_3(series):\n",
    "    counter = 0\n",
    "    for c in series:\n",
    "        if c == 1:\n",
    "            counter += 1\n",
    "    return counter > 3\n",
    "    \n",
    "print(\"The probability of getting exactly 3 heads when flipping coins for 8 times: {:.2f}\".format(df.apply(coin_toss, axis = 1).mean()))\n",
    "print(\"The probability of getting more than 3 heads when flipping coins for 8 times: {:.2f}\".format(df.apply(coin_get_more_than_3, axis = 1).mean()))"
   ]
  },
  {
   "cell_type": "code",
   "execution_count": 18,
   "metadata": {},
   "outputs": [
    {
     "data": {
      "text/plain": [
       "0.6261"
      ]
     },
     "execution_count": 18,
     "metadata": {},
     "output_type": "execute_result"
    }
   ],
   "source": [
    "flips = np.random.choice(['Heads', 'Tails'], (10_000, 8))\n",
    "p = ((flips == 'Heads').sum(axis=1) > 3).mean()\n",
    "p"
   ]
  },
  {
   "cell_type": "code",
   "execution_count": 21,
   "metadata": {},
   "outputs": [
    {
     "name": "stdout",
     "output_type": "stream",
     "text": [
      "P(get exactly 3 heads):  0.218455 and P(get more than 3 heads): 0.63725\n"
     ]
    }
   ],
   "source": [
    "coins = pd.DataFrame(np.random.randint(0,2,(1000000,8)))\n",
    "p_three_heads = (coins.sum(1) == 3).mean()\n",
    "p_over_three = (coins.sum(1) > 3).mean()\n",
    "print(\"P(get exactly 3 heads): \", p_three_heads, \"and P(get more than 3 heads):\",p_over_three)"
   ]
  },
  {
   "cell_type": "code",
   "execution_count": 29,
   "metadata": {},
   "outputs": [
    {
     "name": "stdout",
     "output_type": "stream",
     "text": [
      "Probability of seeing 2 DS on billboard is: 0.06, 0.06, 0.06\n"
     ]
    }
   ],
   "source": [
    "# At Codeup, approximate cohort ratio --> web dev: DS = 3:1\n",
    "# Assuming that Codeup randomly selects an alumni to put on a billboard, \n",
    "# what are the odds that the two billboards I drive past both have data science students \n",
    "# on them?\n",
    "\n",
    "# Every billboard, 3/4 chance is WD and 1/4 is DS\n",
    "# Probability of DS and then another DS --> 1/4 * 1/4\n",
    "options = ['Web Dev'] * 3 + ['Data Science']\n",
    "p = ((np.random.choice(options, (10_000, 2)) == 'Data Science').prod(axis=1)).mean()\n",
    "q = (((np.random.choice(options, (10_000, 2)) == 'Data Science').sum(axis=1)) == 2).mean()\n",
    "z = (((np.random.choice([\"web dev\",\"data science\"], (100_000,2), p =[0.75,0.25])) == 'data science').sum(axis = 1) == 2).mean()\n",
    "print(\"Probability of seeing 2 DS on billboard is: {:.2f}, {:.2f}, {:.2f}\".format(p,q,z))"
   ]
  },
  {
   "cell_type": "code",
   "execution_count": 30,
   "metadata": {},
   "outputs": [],
   "source": [
    "# Codeup students buy, on average, 3 poptart packages (+- 1.5) a day \n",
    "# from the snack vending machine. \n",
    "# If on monday the machine is restocked with 17 poptart packages, \n",
    "# how likely is it that I will be able to buy some poptarts on Friday afternoon?\n",
    "\n",
    "# use the known mean and std dev to simulate how many poptarts will be bought per day\n",
    "mu, sigma = 3, 1.5 # mean and standard deviation\n",
    "\n",
    "M = np.random.normal(mu, sigma, 100_000)\n",
    "T = np.random.normal(mu, sigma, 100_000)\n",
    "W = np.random.normal(mu, sigma, 100_000)\n",
    "R = np.random.normal(mu, sigma, 100_000)\n",
    "F = np.random.normal(mu, sigma, 100_000)\n",
    "\n",
    "df = pd.DataFrame({'Monday': M,\n",
    "                   'Tuesday': T,\n",
    "                   'Wednesday': W,\n",
    "                   'Thursday': R,\n",
    "                   'Friday': F})\n",
    "df[df < 0] = 0\n",
    "df = df.round()\n",
    "# df.apply(lambda row: sum(row.values), axis = 1)) <= 16).mean()"
   ]
  },
  {
   "cell_type": "code",
   "execution_count": 32,
   "metadata": {},
   "outputs": [],
   "source": [
    "n = 10_000\n",
    "\n",
    "pt_consumption = np.round(np.random.normal(3, 1.5, (n, 5))) #random generate and make even numbers \n",
    "pt_consumption = np.where(pt_consumption < 0, 0, pt_consumption) #take care of negative numbers \n",
    "# (pt_consumption.sum(axis=1) < 17).mean()"
   ]
  },
  {
   "cell_type": "code",
   "execution_count": 34,
   "metadata": {},
   "outputs": [
    {
     "name": "stdout",
     "output_type": "stream",
     "text": [
      "Probability to be able to get a poptart on Friday: 0.67, 0.67\n"
     ]
    }
   ],
   "source": [
    "print('Probability to be able to get a poptart on Friday: {:.2f}, {:.2f}'.format(((df.apply(lambda row: sum(row.values), axis = 1)) <= 16).mean(), (pt_consumption.sum(axis=1) < 17).mean()))"
   ]
  },
  {
   "cell_type": "code",
   "execution_count": 35,
   "metadata": {},
   "outputs": [],
   "source": [
    "# Compare Heights\n",
    "# Men have an average height of 178 cm and standard deviation of 8cm.\n",
    "# Women have a mean of 170, sd = 6cm.\n",
    "# If a man and woman are chosen at random, P(woman taller than man)?\n",
    "\n",
    "\n",
    "M = np.random.normal(178, 8, 100_000)\n",
    "F = np.random.normal(170, 6, 100_000)\n",
    "\n",
    "df = pd.DataFrame({'Male': M,\n",
    "                   'Female': F})\n",
    "# df.apply(lambda row: row[1] > row[0] in row.values, axis = 1).mean()"
   ]
  },
  {
   "cell_type": "code",
   "execution_count": 36,
   "metadata": {},
   "outputs": [
    {
     "name": "stdout",
     "output_type": "stream",
     "text": [
      "The probability of women taller than men is: 0.21\n"
     ]
    }
   ],
   "source": [
    "print(\"The probability of women taller than men is: {:.2f}\".format(df.apply(lambda row: row[1] > row[0] in row.values, axis = 1).mean()))"
   ]
  },
  {
   "cell_type": "code",
   "execution_count": 38,
   "metadata": {},
   "outputs": [
    {
     "name": "stdout",
     "output_type": "stream",
     "text": [
      "Answers for other methods, 0.212155,0.21112\n"
     ]
    }
   ],
   "source": [
    "men = np.random.normal(178, 8, 1000000)\n",
    "women = np.random.normal(170, 6, 1000000)\n",
    "p_woman_taller = (women > men).mean() # if arrays share same size, vectorize the comparison\n",
    "\n",
    "# -- OR\n",
    "M = np.random.normal(178, 8, 100_000)\n",
    "F = np.random.normal(170, 6, 100_000)\n",
    "\n",
    "df = pd.DataFrame({'Male': M,'Female': F})\n",
    "p_women = df.apply(lambda row: row[1] > row[0] in row.values, axis = 1).mean()\n",
    "\n",
    "print(\"Answers for other methods, {},{}\".format(p_woman_taller,p_women))"
   ]
  },
  {
   "cell_type": "code",
   "execution_count": 1,
   "metadata": {},
   "outputs": [
    {
     "name": "stdout",
     "output_type": "stream",
     "text": [
      "The probability that all 50 students successfully download Anaconda: 0.81685\n"
     ]
    }
   ],
   "source": [
    "# When installing anaconda on a student's computer, \n",
    "# 1/250 (= 0.004 = 0.4%) chance that download is corrupted and the installation fails. \n",
    "\n",
    "# What are the odds that after having 50 students download anaconda, \n",
    "# no one has an installation issue? 100 students?\n",
    "\n",
    "\n",
    "n = 100_000\n",
    "\n",
    "downloads = np.random.choice(['Download Success', 'Corrupted!'], (n, 50), p=[249/250, 1/250])\n",
    "trial_50 = ((downloads == 'Corrupted!').sum(axis=1) == 0).mean()\n",
    "\n",
    "\n",
    "print('The probability that all 50 students successfully download Anaconda: {}'.format(trial_50))"
   ]
  },
  {
   "cell_type": "code",
   "execution_count": 2,
   "metadata": {},
   "outputs": [
    {
     "name": "stdout",
     "output_type": "stream",
     "text": [
      "The probability that all 100 students successfully download Anaconda: 0.66739\n"
     ]
    }
   ],
   "source": [
    "downloads = np.random.choice(['Download Success', 'Corrupted!'], (n, 100), p=[249/250, 1/250])\n",
    "trial_100 = ((downloads == 'Corrupted!').sum(axis=1) == 0).mean()\n",
    "print('The probability that all 100 students successfully download Anaconda: {}'.format(trial_100))"
   ]
  },
  {
   "cell_type": "code",
   "execution_count": null,
   "metadata": {},
   "outputs": [],
   "source": [
    "# What is the probability that we observe an installation issue within the \n",
    "# first 150 students that download anaconda?\n",
    "\n",
    "downloads = np.random.choice(['Download Success', 'Corrupted!'], (n, 150), p=[249/250, 1/250])\n",
    "error = ((downloads == 'Corrupted!').sum(axis=1) >= 1).mean()\n",
    "print('The probability that an failure occurs within 150 students downloading Anaconda: {}'.format(error))"
   ]
  },
  {
   "cell_type": "code",
   "execution_count": 159,
   "metadata": {},
   "outputs": [
    {
     "name": "stdout",
     "output_type": "stream",
     "text": [
      "The probability that all 450 students successfully download Anaconda: 99.55555555555556%\n"
     ]
    }
   ],
   "source": [
    "# How likely is it that 450 students all download anaconda without an issue?\n",
    "downloads = np.random.choice(['Download Success', 'Corrupted!'], (n, 450), p=[249/250, 1/250])\n",
    "trial_100 = ((downloads == 'Corrupted!').sum(axis=1) == 0).mean()\n",
    "print('The probability that all 450 students successfully download Anaconda: {}'.format(percent))"
   ]
  },
  {
   "cell_type": "code",
   "execution_count": null,
   "metadata": {},
   "outputs": [],
   "source": [
    "# 70% chance on any given day that there will be >= 1 food truck at Travis Park. \n",
    "# However, you haven't seen a food truck there in 3 days. How unlikely is this?\n",
    "option = [0,1] # 0 = no food truck, 1 = with food truck\n",
    "M = np.random.choice(option, 100_000, p=[0.3,0.7])\n",
    "df = pd.DataFrame({'Food_Truck': M})\n",
    "df\n",
    "print(\"The probability of not seeing any food truck at Travis Park in 3 days is: {:.2f}\".format((df.Food_Truck.rolling(3).sum() ==0 ).mean()))\n",
    "\n"
   ]
  },
  {
   "cell_type": "code",
   "execution_count": null,
   "metadata": {},
   "outputs": [],
   "source": [
    "# How likely is it that a food truck will show up sometime this week?\n",
    "truck = np.random.choice([\"Show\", \"No show\"], (10_000, 3) ,p = [0.7, 0.3])\n",
    "((truck == \"No show\").sum(axis = 1) == 3).mean()\n",
    "(truck == \"No show\").all(axis=1).mean()\n",
    "\n",
    "truck = np.random.choice([\"Show\", \"No show\"], (10_000, 5) ,p = [0.7, 0.3])\n",
    "(((truck == \"Show\").sum(axis = 1)) >= 1).mean()\n",
    "(truck == \"Show\").any(axis = 1).mean()\n"
   ]
  },
  {
   "cell_type": "code",
   "execution_count": null,
   "metadata": {},
   "outputs": [],
   "source": [
    "\"\"\"\n",
    "P(2 people share same bday) when:\n",
    "23 or 40 people in one room\n",
    "\"\"\"\n",
    "import pandas as pd\n",
    "bday_23 = np.random.randint(0,365,(1000,23))\n",
    "bday_23 = pd.DataFrame(bday_23)\n",
    "p_shared_23 = bday_23.apply(lambda x: len(set(x)) != len(x),axis=1).mean()"
   ]
  }
 ],
 "metadata": {
  "kernelspec": {
   "display_name": "Python 3",
   "language": "python",
   "name": "python3"
  },
  "language_info": {
   "codemirror_mode": {
    "name": "ipython",
    "version": 3
   },
   "file_extension": ".py",
   "mimetype": "text/x-python",
   "name": "python",
   "nbconvert_exporter": "python",
   "pygments_lexer": "ipython3",
   "version": "3.7.3"
  },
  "toc": {
   "base_numbering": 1,
   "nav_menu": {},
   "number_sections": true,
   "sideBar": true,
   "skip_h1_title": false,
   "title_cell": "Table of Contents",
   "title_sidebar": "Contents",
   "toc_cell": false,
   "toc_position": {},
   "toc_section_display": true,
   "toc_window_display": false
  },
  "varInspector": {
   "cols": {
    "lenName": 16,
    "lenType": 16,
    "lenVar": 40
   },
   "kernels_config": {
    "python": {
     "delete_cmd_postfix": "",
     "delete_cmd_prefix": "del ",
     "library": "var_list.py",
     "varRefreshCmd": "print(var_dic_list())"
    },
    "r": {
     "delete_cmd_postfix": ") ",
     "delete_cmd_prefix": "rm(",
     "library": "var_list.r",
     "varRefreshCmd": "cat(var_dic_list()) "
    }
   },
   "types_to_exclude": [
    "module",
    "function",
    "builtin_function_or_method",
    "instance",
    "_Feature"
   ],
   "window_display": false
  }
 },
 "nbformat": 4,
 "nbformat_minor": 2
}
