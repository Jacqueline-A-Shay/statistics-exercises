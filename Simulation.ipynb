{
 "cells": [
  {
   "cell_type": "code",
   "execution_count": 1,
   "metadata": {},
   "outputs": [],
   "source": [
    "import numpy as np\n",
    "import pandas as pd\n",
    "import matplotlib.pyplot as plt\n",
    "%matplotlib inline\n",
    "\n",
    "np.random.seed(123)"
   ]
  },
  {
   "cell_type": "code",
   "execution_count": null,
   "metadata": {},
   "outputs": [],
   "source": []
  },
  {
   "cell_type": "code",
   "execution_count": 36,
   "metadata": {},
   "outputs": [
    {
     "name": "stdout",
     "output_type": "stream",
     "text": [
      "The probability of roll doubles when rolling two dices is: 0.17\n"
     ]
    }
   ],
   "source": [
    "# How likely is it that you roll doubles when rolling two dice?\n",
    "dice_roll_num = 2\n",
    "trial_num = 100_000\n",
    "\n",
    "df = pd.DataFrame(np.random.choice([1,2,3,4,5,6], (trial_num, dice_roll_num)))\n",
    "df.head()\n",
    "\n",
    "# p_double\n",
    "\n",
    "def row_vs(series):\n",
    "    return series.iloc[0] == series.iloc[1]\n",
    "    \n",
    "print(\"The probability of roll doubles when rolling two dices is: {:.2f}\".format(df.apply(row_vs, axis = 1).mean()))"
   ]
  },
  {
   "cell_type": "code",
   "execution_count": 50,
   "metadata": {},
   "outputs": [
    {
     "data": {
      "text/html": [
       "<div>\n",
       "<style scoped>\n",
       "    .dataframe tbody tr th:only-of-type {\n",
       "        vertical-align: middle;\n",
       "    }\n",
       "\n",
       "    .dataframe tbody tr th {\n",
       "        vertical-align: top;\n",
       "    }\n",
       "\n",
       "    .dataframe thead th {\n",
       "        text-align: right;\n",
       "    }\n",
       "</style>\n",
       "<table border=\"1\" class=\"dataframe\">\n",
       "  <thead>\n",
       "    <tr style=\"text-align: right;\">\n",
       "      <th></th>\n",
       "      <th>0</th>\n",
       "      <th>1</th>\n",
       "      <th>2</th>\n",
       "      <th>3</th>\n",
       "      <th>4</th>\n",
       "      <th>5</th>\n",
       "      <th>6</th>\n",
       "      <th>7</th>\n",
       "    </tr>\n",
       "  </thead>\n",
       "  <tbody>\n",
       "    <tr>\n",
       "      <th>0</th>\n",
       "      <td>2</td>\n",
       "      <td>1</td>\n",
       "      <td>2</td>\n",
       "      <td>1</td>\n",
       "      <td>1</td>\n",
       "      <td>2</td>\n",
       "      <td>1</td>\n",
       "      <td>1</td>\n",
       "    </tr>\n",
       "    <tr>\n",
       "      <th>1</th>\n",
       "      <td>2</td>\n",
       "      <td>2</td>\n",
       "      <td>1</td>\n",
       "      <td>1</td>\n",
       "      <td>2</td>\n",
       "      <td>2</td>\n",
       "      <td>2</td>\n",
       "      <td>2</td>\n",
       "    </tr>\n",
       "    <tr>\n",
       "      <th>2</th>\n",
       "      <td>2</td>\n",
       "      <td>1</td>\n",
       "      <td>2</td>\n",
       "      <td>2</td>\n",
       "      <td>1</td>\n",
       "      <td>2</td>\n",
       "      <td>2</td>\n",
       "      <td>1</td>\n",
       "    </tr>\n",
       "    <tr>\n",
       "      <th>3</th>\n",
       "      <td>2</td>\n",
       "      <td>1</td>\n",
       "      <td>2</td>\n",
       "      <td>2</td>\n",
       "      <td>1</td>\n",
       "      <td>1</td>\n",
       "      <td>1</td>\n",
       "      <td>1</td>\n",
       "    </tr>\n",
       "    <tr>\n",
       "      <th>4</th>\n",
       "      <td>2</td>\n",
       "      <td>1</td>\n",
       "      <td>1</td>\n",
       "      <td>1</td>\n",
       "      <td>1</td>\n",
       "      <td>2</td>\n",
       "      <td>1</td>\n",
       "      <td>1</td>\n",
       "    </tr>\n",
       "  </tbody>\n",
       "</table>\n",
       "</div>"
      ],
      "text/plain": [
       "   0  1  2  3  4  5  6  7\n",
       "0  2  1  2  1  1  2  1  1\n",
       "1  2  2  1  1  2  2  2  2\n",
       "2  2  1  2  2  1  2  2  1\n",
       "3  2  1  2  2  1  1  1  1\n",
       "4  2  1  1  1  1  2  1  1"
      ]
     },
     "execution_count": 50,
     "metadata": {},
     "output_type": "execute_result"
    }
   ],
   "source": [
    "# If you flip 8 coins, what is the probability of getting exactly 3 heads? \n",
    "# What is the probability of getting more than 3 heads?\n",
    "toss_coin_num = 8\n",
    "trial_num = 10_000\n",
    "\n",
    "df = pd.DataFrame(np.random.choice([1,2], (trial_num, toss_coin_num)))\n",
    "# let 1 = head & 2 = Tail\n",
    "df.head()\n"
   ]
  },
  {
   "cell_type": "code",
   "execution_count": 51,
   "metadata": {},
   "outputs": [
    {
     "name": "stdout",
     "output_type": "stream",
     "text": [
      "The probability of getting exactly 3 heads when flipping coins for 8 times: 0.22\n",
      "The probability of getting more than 3 heads when flipping coins for 8 times: 0.85\n"
     ]
    }
   ],
   "source": [
    "# p_double\n",
    "\n",
    "def coin_toss(series):\n",
    "    counter = 0\n",
    "    for c in series:\n",
    "        if c == 1:\n",
    "            counter += 1\n",
    "    return counter == 3\n",
    "\n",
    "def coin_get_more_than_3(series):\n",
    "    counter = 0\n",
    "    for c in series:\n",
    "        if c == 1:\n",
    "            counter += 1\n",
    "    return counter >= 3\n",
    "    \n",
    "print(\"The probability of getting exactly 3 heads when flipping coins for 8 times: {:.2f}\".format(df.apply(coin_toss, axis = 1).mean()))\n",
    "print(\"The probability of getting more than 3 heads when flipping coins for 8 times: {:.2f}\".format(df.apply(coin_get_more_than_3, axis = 1).mean()))"
   ]
  },
  {
   "cell_type": "code",
   "execution_count": 59,
   "metadata": {},
   "outputs": [
    {
     "data": {
      "text/html": [
       "<div>\n",
       "<style scoped>\n",
       "    .dataframe tbody tr th:only-of-type {\n",
       "        vertical-align: middle;\n",
       "    }\n",
       "\n",
       "    .dataframe tbody tr th {\n",
       "        vertical-align: top;\n",
       "    }\n",
       "\n",
       "    .dataframe thead th {\n",
       "        text-align: right;\n",
       "    }\n",
       "</style>\n",
       "<table border=\"1\" class=\"dataframe\">\n",
       "  <thead>\n",
       "    <tr style=\"text-align: right;\">\n",
       "      <th></th>\n",
       "      <th>0</th>\n",
       "      <th>1</th>\n",
       "    </tr>\n",
       "  </thead>\n",
       "  <tbody>\n",
       "    <tr>\n",
       "      <th>0</th>\n",
       "      <td>2</td>\n",
       "      <td>2</td>\n",
       "    </tr>\n",
       "    <tr>\n",
       "      <th>1</th>\n",
       "      <td>2</td>\n",
       "      <td>1</td>\n",
       "    </tr>\n",
       "    <tr>\n",
       "      <th>2</th>\n",
       "      <td>2</td>\n",
       "      <td>2</td>\n",
       "    </tr>\n",
       "    <tr>\n",
       "      <th>3</th>\n",
       "      <td>1</td>\n",
       "      <td>1</td>\n",
       "    </tr>\n",
       "    <tr>\n",
       "      <th>4</th>\n",
       "      <td>2</td>\n",
       "      <td>1</td>\n",
       "    </tr>\n",
       "  </tbody>\n",
       "</table>\n",
       "</div>"
      ],
      "text/plain": [
       "   0  1\n",
       "0  2  2\n",
       "1  2  1\n",
       "2  2  2\n",
       "3  1  1\n",
       "4  2  1"
      ]
     },
     "execution_count": 59,
     "metadata": {},
     "output_type": "execute_result"
    }
   ],
   "source": [
    "# At Codeup, approximate cohort ratio --> web dev: DS = 3:1\n",
    "# Assuming that Codeup randomly selects an alumni to put on a billboard, \n",
    "# what are the odds that the two billboards I drive past both have data science students \n",
    "# on them?\n",
    "\n",
    "# Every billboard, 3/4 chance is WD and 1/4 is DS\n",
    "# Probability of DS and then another DS --> 1/4 * 1/4\n",
    "\n",
    "see_bb = 2\n",
    "trial_num = 100_000\n",
    "\n",
    "df = pd.DataFrame(np.random.choice([1,2,2,2], (trial_num, see_bb)))\n",
    "# let 1 = DS & 2 = Web Dev\n",
    "df.head()"
   ]
  },
  {
   "cell_type": "code",
   "execution_count": 60,
   "metadata": {},
   "outputs": [
    {
     "name": "stdout",
     "output_type": "stream",
     "text": [
      "The probability seeing 2 consecutive Data Science students on billboard: 0.06\n"
     ]
    }
   ],
   "source": [
    "def see_bb(series):\n",
    "    counter = 0\n",
    "    for c in series:\n",
    "        if c == 1:\n",
    "            counter += 1\n",
    "    return counter == 2\n",
    "    \n",
    "print(\"The probability seeing 2 consecutive Data Science students on billboard: {:.2f}\".format(df.apply(see_bb, axis = 1).mean()))"
   ]
  },
  {
   "cell_type": "code",
   "execution_count": 124,
   "metadata": {},
   "outputs": [
    {
     "data": {
      "text/html": [
       "<div>\n",
       "<style scoped>\n",
       "    .dataframe tbody tr th:only-of-type {\n",
       "        vertical-align: middle;\n",
       "    }\n",
       "\n",
       "    .dataframe tbody tr th {\n",
       "        vertical-align: top;\n",
       "    }\n",
       "\n",
       "    .dataframe thead th {\n",
       "        text-align: right;\n",
       "    }\n",
       "</style>\n",
       "<table border=\"1\" class=\"dataframe\">\n",
       "  <thead>\n",
       "    <tr style=\"text-align: right;\">\n",
       "      <th></th>\n",
       "      <th>Monday</th>\n",
       "      <th>Tuesday</th>\n",
       "      <th>Wednesday</th>\n",
       "      <th>Thursday</th>\n",
       "      <th>Friday</th>\n",
       "    </tr>\n",
       "  </thead>\n",
       "  <tbody>\n",
       "    <tr>\n",
       "      <th>0</th>\n",
       "      <td>4.0</td>\n",
       "      <td>4.0</td>\n",
       "      <td>4.0</td>\n",
       "      <td>2.0</td>\n",
       "      <td>3.0</td>\n",
       "    </tr>\n",
       "    <tr>\n",
       "      <th>1</th>\n",
       "      <td>0.0</td>\n",
       "      <td>2.0</td>\n",
       "      <td>3.0</td>\n",
       "      <td>4.0</td>\n",
       "      <td>5.0</td>\n",
       "    </tr>\n",
       "    <tr>\n",
       "      <th>2</th>\n",
       "      <td>0.0</td>\n",
       "      <td>3.0</td>\n",
       "      <td>1.0</td>\n",
       "      <td>0.0</td>\n",
       "      <td>4.0</td>\n",
       "    </tr>\n",
       "    <tr>\n",
       "      <th>3</th>\n",
       "      <td>0.0</td>\n",
       "      <td>4.0</td>\n",
       "      <td>3.0</td>\n",
       "      <td>3.0</td>\n",
       "      <td>3.0</td>\n",
       "    </tr>\n",
       "    <tr>\n",
       "      <th>4</th>\n",
       "      <td>3.0</td>\n",
       "      <td>5.0</td>\n",
       "      <td>4.0</td>\n",
       "      <td>3.0</td>\n",
       "      <td>5.0</td>\n",
       "    </tr>\n",
       "  </tbody>\n",
       "</table>\n",
       "</div>"
      ],
      "text/plain": [
       "   Monday  Tuesday  Wednesday  Thursday  Friday\n",
       "0     4.0      4.0        4.0       2.0     3.0\n",
       "1     0.0      2.0        3.0       4.0     5.0\n",
       "2     0.0      3.0        1.0       0.0     4.0\n",
       "3     0.0      4.0        3.0       3.0     3.0\n",
       "4     3.0      5.0        4.0       3.0     5.0"
      ]
     },
     "execution_count": 124,
     "metadata": {},
     "output_type": "execute_result"
    }
   ],
   "source": [
    "# Codeup students buy, on average, 3 poptart packages (+- 1.5) a day \n",
    "# from the snack vending machine. \n",
    "# If on monday the machine is restocked with 17 poptart packages, \n",
    "# how likely is it that I will be able to buy some poptarts on Friday afternoon?\n",
    "\n",
    "# use the known mean and std dev to simulate how many poptarts will be bought per day\n",
    "mu, sigma = 3, 1.5 # mean and standard deviation\n",
    "\n",
    "M = np.random.normal(mu, sigma, 100_000)\n",
    "T = np.random.normal(mu, sigma, 100_000)\n",
    "W = np.random.normal(mu, sigma, 100_000)\n",
    "R = np.random.normal(mu, sigma, 100_000)\n",
    "F = np.random.normal(mu, sigma, 100_000)\n",
    "\n",
    "df = pd.DataFrame({'Monday': M,\n",
    "                   'Tuesday': T,\n",
    "                   'Wednesday': W,\n",
    "                   'Thursday': R,\n",
    "                   'Friday': F})\n",
    "df[df < 0] = 0\n",
    "df = df.round()\n",
    "df.head()"
   ]
  },
  {
   "cell_type": "code",
   "execution_count": 125,
   "metadata": {},
   "outputs": [
    {
     "name": "stdout",
     "output_type": "stream",
     "text": [
      "Probability to be able to get a poptart on Friday: 0.77\n"
     ]
    }
   ],
   "source": [
    "print('Probability to be able to get a poptart on Friday: {:.2f}'.format(((df.apply(lambda row: sum(row.values), axis = 1)) <= 17).mean()))"
   ]
  },
  {
   "cell_type": "code",
   "execution_count": 95,
   "metadata": {},
   "outputs": [
    {
     "data": {
      "text/html": [
       "<div>\n",
       "<style scoped>\n",
       "    .dataframe tbody tr th:only-of-type {\n",
       "        vertical-align: middle;\n",
       "    }\n",
       "\n",
       "    .dataframe tbody tr th {\n",
       "        vertical-align: top;\n",
       "    }\n",
       "\n",
       "    .dataframe thead th {\n",
       "        text-align: right;\n",
       "    }\n",
       "</style>\n",
       "<table border=\"1\" class=\"dataframe\">\n",
       "  <thead>\n",
       "    <tr style=\"text-align: right;\">\n",
       "      <th></th>\n",
       "      <th>Male</th>\n",
       "      <th>Female</th>\n",
       "    </tr>\n",
       "  </thead>\n",
       "  <tbody>\n",
       "    <tr>\n",
       "      <th>0</th>\n",
       "      <td>185.310137</td>\n",
       "      <td>177.471769</td>\n",
       "    </tr>\n",
       "    <tr>\n",
       "      <th>1</th>\n",
       "      <td>185.753206</td>\n",
       "      <td>167.529318</td>\n",
       "    </tr>\n",
       "    <tr>\n",
       "      <th>2</th>\n",
       "      <td>202.160461</td>\n",
       "      <td>170.957482</td>\n",
       "    </tr>\n",
       "    <tr>\n",
       "      <th>3</th>\n",
       "      <td>186.571693</td>\n",
       "      <td>177.941917</td>\n",
       "    </tr>\n",
       "    <tr>\n",
       "      <th>4</th>\n",
       "      <td>185.604150</td>\n",
       "      <td>172.589826</td>\n",
       "    </tr>\n",
       "  </tbody>\n",
       "</table>\n",
       "</div>"
      ],
      "text/plain": [
       "         Male      Female\n",
       "0  185.310137  177.471769\n",
       "1  185.753206  167.529318\n",
       "2  202.160461  170.957482\n",
       "3  186.571693  177.941917\n",
       "4  185.604150  172.589826"
      ]
     },
     "execution_count": 95,
     "metadata": {},
     "output_type": "execute_result"
    }
   ],
   "source": [
    "# Compare Heights\n",
    "# Men have an average height of 178 cm and standard deviation of 8cm.\n",
    "# Women have a mean of 170, sd = 6cm.\n",
    "# If a man and woman are chosen at random, P(woman taller than man)?\n",
    "\n",
    "\n",
    "M = np.random.normal(178, 8, 100_000)\n",
    "F = np.random.normal(170, 6, 100_000)\n",
    "\n",
    "df = pd.DataFrame({'Male': M,\n",
    "                   'Female': F})\n",
    "df.head()"
   ]
  },
  {
   "cell_type": "code",
   "execution_count": 121,
   "metadata": {},
   "outputs": [
    {
     "name": "stdout",
     "output_type": "stream",
     "text": [
      "The probability of women taller than men is: 0.21\n"
     ]
    }
   ],
   "source": [
    "print(\"The probability of women taller than men is: {:.2f}\".format(df.apply(lambda row: row[1] > row[0] in row.values, axis = 1).mean()))"
   ]
  },
  {
   "cell_type": "code",
   "execution_count": 155,
   "metadata": {},
   "outputs": [
    {
     "name": "stdout",
     "output_type": "stream",
     "text": [
      "The probability that all 50 students successfully download Anaconda: 100.0%\n"
     ]
    }
   ],
   "source": [
    "# When installing anaconda on a student's computer, \n",
    "# 1/250 (= 0.004 = 0.4%) chance that download is corrupted and the installation fails. \n",
    "\n",
    "# What are the odds that after having 50 students download anaconda, \n",
    "# no one has an installation issue? 100 students?\n",
    "\n",
    "\n",
    "option = [0,1] # 0 = no problem, 1 = fail\n",
    "M = np.random.choice(option, 50, p=[0.996, 0.004])\n",
    "df = pd.DataFrame({'Rate': M})\n",
    "percent = (df[\"Rate\"].apply(lambda n: n == 0)).mean()*100\n",
    "percent = str(percent) + '%'\n",
    "percent\n",
    "print('The probability that all 50 students successfully download Anaconda: {}'.format(percent))"
   ]
  },
  {
   "cell_type": "code",
   "execution_count": 153,
   "metadata": {},
   "outputs": [
    {
     "name": "stdout",
     "output_type": "stream",
     "text": [
      "The probability that all 100 students successfully download Anaconda: 100.0%\n"
     ]
    }
   ],
   "source": [
    "option = [0,1] # 0 = no problem, 1 = fail\n",
    "M = np.random.choice(option, 100, p=[0.996, 0.004])\n",
    "df = pd.DataFrame({'Rate': M})\n",
    "percent = (df[\"Rate\"].apply(lambda n: n == 0)).mean()*100\n",
    "percent = str(percent) + '%'\n",
    "percent\n",
    "print('The probability that all 100 students successfully download Anaconda: {}'.format(percent))"
   ]
  },
  {
   "cell_type": "code",
   "execution_count": 156,
   "metadata": {},
   "outputs": [
    {
     "name": "stdout",
     "output_type": "stream",
     "text": [
      "The probability that an failure occurs within 150 students downloading Anaconda: 0.0%\n"
     ]
    }
   ],
   "source": [
    "# What is the probability that we observe an installation issue within the \n",
    "# first 150 students that download anaconda?\n",
    "\n",
    "option = [0,1] # 0 = no problem, 1 = fail\n",
    "M = np.random.choice(option, 150, p=[0.996, 0.004])\n",
    "df = pd.DataFrame({'Rate': M})\n",
    "percent = (df[\"Rate\"].apply(lambda n: n == 1)).mean()*100\n",
    "percent = str(percent) + '%'\n",
    "percent\n",
    "print('The probability that an failure occurs within 150 students downloading Anaconda: {}'.format(percent))"
   ]
  },
  {
   "cell_type": "code",
   "execution_count": 159,
   "metadata": {},
   "outputs": [
    {
     "name": "stdout",
     "output_type": "stream",
     "text": [
      "The probability that all 450 students successfully download Anaconda: 99.55555555555556%\n"
     ]
    }
   ],
   "source": [
    "# How likely is it that 450 students all download anaconda without an issue?\n",
    "option = [0,1] # 0 = no problem, 1 = fail\n",
    "M = np.random.choice(option, 450, p=[0.996, 0.004])\n",
    "df = pd.DataFrame({'Rate': M})\n",
    "percent = (df[\"Rate\"].apply(lambda n: n == 0)).mean()*100\n",
    "percent = str(percent) + '%'\n",
    "percent\n",
    "print('The probability that all 450 students successfully download Anaconda: {}'.format(percent))"
   ]
  },
  {
   "cell_type": "code",
   "execution_count": 2,
   "metadata": {},
   "outputs": [
    {
     "name": "stdout",
     "output_type": "stream",
     "text": [
      "The probability of not seeing any food truck at Travis Park in 3 days is: 0.03\n"
     ]
    }
   ],
   "source": [
    "# 70% chance on any given day that there will be >= 1 food truck at Travis Park. \n",
    "# However, you haven't seen a food truck there in 3 days. How unlikely is this?\n",
    "option = [0,1] # 0 = no food truck, 1 = with food truck\n",
    "M = np.random.choice(option, 100_000, p=[0.3,0.7])\n",
    "df = pd.DataFrame({'Food_Truck': M})\n",
    "\n",
    "print(\"The probability of not seeing any food truck at Travis Park in 3 days is: {:.2f}\".format((df.Food_Truck.rolling(3).sum() ==0 ).mean()))\n",
    "\n"
   ]
  },
  {
   "cell_type": "code",
   "execution_count": 11,
   "metadata": {},
   "outputs": [
    {
     "name": "stdout",
     "output_type": "stream",
     "text": [
      "The probability of at least 1 food truck will showing up at Travis Park is: 0.997592\n"
     ]
    }
   ],
   "source": [
    "# How likely is it that a food truck will show up sometime this week?\n",
    "\n",
    "option = [0,1] # 0 = no food truck, 1 = with food truck\n",
    "M = np.random.choice(option, 1_000_000, p=[0.3,0.7])\n",
    "df = pd.DataFrame({'Food_Truck': M})\n",
    "\n",
    "print(\"The probability of at least 1 food truck will showing up at Travis Park is: {}\".format((df.Food_Truck.rolling(5).sum() >= 1).mean()))"
   ]
  },
  {
   "cell_type": "code",
   "execution_count": 25,
   "metadata": {},
   "outputs": [
    {
     "data": {
      "text/html": [
       "<div>\n",
       "<style scoped>\n",
       "    .dataframe tbody tr th:only-of-type {\n",
       "        vertical-align: middle;\n",
       "    }\n",
       "\n",
       "    .dataframe tbody tr th {\n",
       "        vertical-align: top;\n",
       "    }\n",
       "\n",
       "    .dataframe thead th {\n",
       "        text-align: right;\n",
       "    }\n",
       "</style>\n",
       "<table border=\"1\" class=\"dataframe\">\n",
       "  <thead>\n",
       "    <tr style=\"text-align: right;\">\n",
       "      <th></th>\n",
       "      <th>0</th>\n",
       "      <th>1</th>\n",
       "      <th>2</th>\n",
       "      <th>3</th>\n",
       "      <th>4</th>\n",
       "      <th>5</th>\n",
       "      <th>6</th>\n",
       "      <th>7</th>\n",
       "      <th>8</th>\n",
       "      <th>9</th>\n",
       "      <th>...</th>\n",
       "      <th>30</th>\n",
       "      <th>31</th>\n",
       "      <th>32</th>\n",
       "      <th>33</th>\n",
       "      <th>34</th>\n",
       "      <th>35</th>\n",
       "      <th>36</th>\n",
       "      <th>37</th>\n",
       "      <th>38</th>\n",
       "      <th>39</th>\n",
       "    </tr>\n",
       "  </thead>\n",
       "  <tbody>\n",
       "    <tr>\n",
       "      <th>0</th>\n",
       "      <td>91.0</td>\n",
       "      <td>132.0</td>\n",
       "      <td>118.0</td>\n",
       "      <td>137.0</td>\n",
       "      <td>4.0</td>\n",
       "      <td>64.0</td>\n",
       "      <td>14.0</td>\n",
       "      <td>257.0</td>\n",
       "      <td>213.0</td>\n",
       "      <td>16.0</td>\n",
       "      <td>...</td>\n",
       "      <td>102.0</td>\n",
       "      <td>336.0</td>\n",
       "      <td>78.0</td>\n",
       "      <td>255.0</td>\n",
       "      <td>59.0</td>\n",
       "      <td>77.0</td>\n",
       "      <td>284.0</td>\n",
       "      <td>32.0</td>\n",
       "      <td>201.0</td>\n",
       "      <td>228.0</td>\n",
       "    </tr>\n",
       "    <tr>\n",
       "      <th>1</th>\n",
       "      <td>114.0</td>\n",
       "      <td>299.0</td>\n",
       "      <td>267.0</td>\n",
       "      <td>121.0</td>\n",
       "      <td>260.0</td>\n",
       "      <td>131.0</td>\n",
       "      <td>55.0</td>\n",
       "      <td>220.0</td>\n",
       "      <td>297.0</td>\n",
       "      <td>299.0</td>\n",
       "      <td>...</td>\n",
       "      <td>250.0</td>\n",
       "      <td>143.0</td>\n",
       "      <td>16.0</td>\n",
       "      <td>260.0</td>\n",
       "      <td>268.0</td>\n",
       "      <td>78.0</td>\n",
       "      <td>244.0</td>\n",
       "      <td>25.0</td>\n",
       "      <td>124.0</td>\n",
       "      <td>43.0</td>\n",
       "    </tr>\n",
       "    <tr>\n",
       "      <th>2</th>\n",
       "      <td>340.0</td>\n",
       "      <td>182.0</td>\n",
       "      <td>307.0</td>\n",
       "      <td>278.0</td>\n",
       "      <td>0.0</td>\n",
       "      <td>74.0</td>\n",
       "      <td>179.0</td>\n",
       "      <td>148.0</td>\n",
       "      <td>195.0</td>\n",
       "      <td>226.0</td>\n",
       "      <td>...</td>\n",
       "      <td>302.0</td>\n",
       "      <td>180.0</td>\n",
       "      <td>192.0</td>\n",
       "      <td>75.0</td>\n",
       "      <td>48.0</td>\n",
       "      <td>21.0</td>\n",
       "      <td>1.0</td>\n",
       "      <td>175.0</td>\n",
       "      <td>161.0</td>\n",
       "      <td>336.0</td>\n",
       "    </tr>\n",
       "    <tr>\n",
       "      <th>3</th>\n",
       "      <td>78.0</td>\n",
       "      <td>78.0</td>\n",
       "      <td>191.0</td>\n",
       "      <td>129.0</td>\n",
       "      <td>263.0</td>\n",
       "      <td>37.0</td>\n",
       "      <td>273.0</td>\n",
       "      <td>348.0</td>\n",
       "      <td>330.0</td>\n",
       "      <td>227.0</td>\n",
       "      <td>...</td>\n",
       "      <td>351.0</td>\n",
       "      <td>258.0</td>\n",
       "      <td>163.0</td>\n",
       "      <td>288.0</td>\n",
       "      <td>174.0</td>\n",
       "      <td>78.0</td>\n",
       "      <td>263.0</td>\n",
       "      <td>82.0</td>\n",
       "      <td>15.0</td>\n",
       "      <td>173.0</td>\n",
       "    </tr>\n",
       "    <tr>\n",
       "      <th>4</th>\n",
       "      <td>77.0</td>\n",
       "      <td>306.0</td>\n",
       "      <td>251.0</td>\n",
       "      <td>266.0</td>\n",
       "      <td>127.0</td>\n",
       "      <td>120.0</td>\n",
       "      <td>279.0</td>\n",
       "      <td>234.0</td>\n",
       "      <td>159.0</td>\n",
       "      <td>97.0</td>\n",
       "      <td>...</td>\n",
       "      <td>101.0</td>\n",
       "      <td>6.0</td>\n",
       "      <td>208.0</td>\n",
       "      <td>109.0</td>\n",
       "      <td>138.0</td>\n",
       "      <td>322.0</td>\n",
       "      <td>223.0</td>\n",
       "      <td>242.0</td>\n",
       "      <td>100.0</td>\n",
       "      <td>168.0</td>\n",
       "    </tr>\n",
       "  </tbody>\n",
       "</table>\n",
       "<p>5 rows × 40 columns</p>\n",
       "</div>"
      ],
      "text/plain": [
       "      0      1      2      3      4      5      6      7      8      9   ...  \\\n",
       "0   91.0  132.0  118.0  137.0    4.0   64.0   14.0  257.0  213.0   16.0  ...   \n",
       "1  114.0  299.0  267.0  121.0  260.0  131.0   55.0  220.0  297.0  299.0  ...   \n",
       "2  340.0  182.0  307.0  278.0    0.0   74.0  179.0  148.0  195.0  226.0  ...   \n",
       "3   78.0   78.0  191.0  129.0  263.0   37.0  273.0  348.0  330.0  227.0  ...   \n",
       "4   77.0  306.0  251.0  266.0  127.0  120.0  279.0  234.0  159.0   97.0  ...   \n",
       "\n",
       "      30     31     32     33     34     35     36     37     38     39  \n",
       "0  102.0  336.0   78.0  255.0   59.0   77.0  284.0   32.0  201.0  228.0  \n",
       "1  250.0  143.0   16.0  260.0  268.0   78.0  244.0   25.0  124.0   43.0  \n",
       "2  302.0  180.0  192.0   75.0   48.0   21.0    1.0  175.0  161.0  336.0  \n",
       "3  351.0  258.0  163.0  288.0  174.0   78.0  263.0   82.0   15.0  173.0  \n",
       "4  101.0    6.0  208.0  109.0  138.0  322.0  223.0  242.0  100.0  168.0  \n",
       "\n",
       "[5 rows x 40 columns]"
      ]
     },
     "execution_count": 25,
     "metadata": {},
     "output_type": "execute_result"
    }
   ],
   "source": [
    "# If 23 people are in the same room, what are the odds that two of them share a birthday? \n",
    "# What if it's 20 people? 40?\n",
    "# 23 - 1 pair 23*(22/2)\n",
    "\n",
    "# If you flip 8 coins, what is the probability of getting exactly 3 heads? \n",
    "# What is the probability of getting more than 3 heads?\n",
    "person = 40\n",
    "trial_num = 1_000_000\n",
    "\n",
    "df = pd.DataFrame(np.random.uniform(0,365,(trial_num, person)))\n",
    "df = df.round()\n",
    "df.head()\n"
   ]
  },
  {
   "cell_type": "code",
   "execution_count": 26,
   "metadata": {},
   "outputs": [
    {
     "data": {
      "text/plain": [
       "0         False\n",
       "1         False\n",
       "2         False\n",
       "3         False\n",
       "4         False\n",
       "5         False\n",
       "6         False\n",
       "7         False\n",
       "8         False\n",
       "9         False\n",
       "10        False\n",
       "11        False\n",
       "12        False\n",
       "13        False\n",
       "14        False\n",
       "15        False\n",
       "16        False\n",
       "17        False\n",
       "18        False\n",
       "19        False\n",
       "20        False\n",
       "21        False\n",
       "22        False\n",
       "23        False\n",
       "24        False\n",
       "25        False\n",
       "26        False\n",
       "27        False\n",
       "28        False\n",
       "29        False\n",
       "          ...  \n",
       "999970    False\n",
       "999971    False\n",
       "999972    False\n",
       "999973    False\n",
       "999974    False\n",
       "999975    False\n",
       "999976    False\n",
       "999977    False\n",
       "999978    False\n",
       "999979    False\n",
       "999980    False\n",
       "999981    False\n",
       "999982    False\n",
       "999983    False\n",
       "999984    False\n",
       "999985    False\n",
       "999986    False\n",
       "999987    False\n",
       "999988    False\n",
       "999989    False\n",
       "999990    False\n",
       "999991    False\n",
       "999992    False\n",
       "999993    False\n",
       "999994    False\n",
       "999995    False\n",
       "999996    False\n",
       "999997    False\n",
       "999998    False\n",
       "999999    False\n",
       "Length: 1000000, dtype: bool"
      ]
     },
     "execution_count": 26,
     "metadata": {},
     "output_type": "execute_result"
    }
   ],
   "source": [
    "dup = df.duplicated()\n",
    "dup\n"
   ]
  },
  {
   "cell_type": "code",
   "execution_count": 23,
   "metadata": {},
   "outputs": [
    {
     "name": "stdout",
     "output_type": "stream",
     "text": [
      "Probability of people sharing same birthday within a population of 23 is:  0.0\n"
     ]
    }
   ],
   "source": [
    "dup = dup.mean()\n",
    "print(\"Probability of people sharing same birthday within a population of 23 is: \", dup)\n"
   ]
  },
  {
   "cell_type": "code",
   "execution_count": 27,
   "metadata": {},
   "outputs": [
    {
     "data": {
      "text/plain": [
       "count     1000000\n",
       "unique          1\n",
       "top         False\n",
       "freq      1000000\n",
       "dtype: object"
      ]
     },
     "execution_count": 27,
     "metadata": {},
     "output_type": "execute_result"
    }
   ],
   "source": [
    "dup.describe()"
   ]
  },
  {
   "cell_type": "code",
   "execution_count": null,
   "metadata": {},
   "outputs": [],
   "source": []
  }
 ],
 "metadata": {
  "kernelspec": {
   "display_name": "Python 3",
   "language": "python",
   "name": "python3"
  },
  "language_info": {
   "codemirror_mode": {
    "name": "ipython",
    "version": 3
   },
   "file_extension": ".py",
   "mimetype": "text/x-python",
   "name": "python",
   "nbconvert_exporter": "python",
   "pygments_lexer": "ipython3",
   "version": "3.7.3"
  },
  "toc": {
   "base_numbering": 1,
   "nav_menu": {},
   "number_sections": true,
   "sideBar": true,
   "skip_h1_title": false,
   "title_cell": "Table of Contents",
   "title_sidebar": "Contents",
   "toc_cell": false,
   "toc_position": {},
   "toc_section_display": true,
   "toc_window_display": false
  },
  "varInspector": {
   "cols": {
    "lenName": 16,
    "lenType": 16,
    "lenVar": 40
   },
   "kernels_config": {
    "python": {
     "delete_cmd_postfix": "",
     "delete_cmd_prefix": "del ",
     "library": "var_list.py",
     "varRefreshCmd": "print(var_dic_list())"
    },
    "r": {
     "delete_cmd_postfix": ") ",
     "delete_cmd_prefix": "rm(",
     "library": "var_list.r",
     "varRefreshCmd": "cat(var_dic_list()) "
    }
   },
   "types_to_exclude": [
    "module",
    "function",
    "builtin_function_or_method",
    "instance",
    "_Feature"
   ],
   "window_display": false
  }
 },
 "nbformat": 4,
 "nbformat_minor": 2
}
