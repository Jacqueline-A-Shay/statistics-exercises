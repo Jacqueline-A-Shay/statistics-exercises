{
 "cells": [
  {
   "cell_type": "markdown",
   "metadata": {},
   "source": [
    "- Is the website redesign any good?\n",
    "\n",
    "> H0: The website design is good<b>\n",
    "\n",
    "> Ha: The website design is not good<b>\n",
    "    \n",
    "------------------------------------------------------------------------    \n",
    "\n",
    "True negative: design is good & accepted design is good\n",
    "\n",
    "\n",
    "------------------------------------------------------------------------    \n",
    "\n",
    "\n",
    "Type  I: design is good but reject design good \n",
    "\n",
    "------------------------------------------------------------------------    \n",
    "\n",
    "Type II: design is not good but accept as good \n",
    "\n",
    "------------------------------------------------------------------------    \n",
    "\n",
    "True positive: design is not good and reject design is good\n",
    "    \n",
    "\n"
   ]
  },
  {
   "cell_type": "code",
   "execution_count": null,
   "metadata": {},
   "outputs": [],
   "source": []
  },
  {
   "cell_type": "markdown",
   "metadata": {},
   "source": [
    "- Is our television ad driving more sales?\n",
    "\n",
    "> H0: The tv ads drive more sales<b>\n",
    "\n",
    "> Ha: The tv ads does not drive more sales<b>\n",
    "    \n",
    "------------------------------------------------------------------------    \n",
    "\n",
    "True negative: ads drive more sales and accept ads do drive more sales\n",
    "\n",
    "\n",
    "------------------------------------------------------------------------    \n",
    "\n",
    "\n",
    "Type  I: ads drive more sales BUT reject ads drive more sales \n",
    "\n",
    "------------------------------------------------------------------------    \n",
    "\n",
    "Type II: ads do not drive more sales BUT accept ads drive more sales  \n",
    "\n",
    "------------------------------------------------------------------------    \n",
    "\n",
    "True positive: ads do not drive more sales and reject ads drive more sales\n"
   ]
  },
  {
   "cell_type": "markdown",
   "metadata": {},
   "source": [
    "- Has the network latency gone up since we switched internet service providers?\n",
    "\n",
    "> H0: network latency is related to the change in service provider <b>\n",
    "\n",
    "> Ha: network latency is not related to the change in service provider <b>\n",
    "    \n",
    "------------------------------------------------------------------------    \n",
    "\n",
    "True negative: network latency is related to the change in service provider, accept the relationship\n",
    "\n",
    "\n",
    "------------------------------------------------------------------------    \n",
    "\n",
    "\n",
    "Type  I: network latency is related to the change in service provider, BUT reject the relationship \n",
    "\n",
    "------------------------------------------------------------------------    \n",
    "\n",
    "Type II: network latency is NOT related to the change in service provider, BUT accept the relationship  \n",
    "\n",
    "------------------------------------------------------------------------    \n",
    "\n",
    "True positive: network latency is NOT related to the change in service provider, and also reject the relationship  "
   ]
  },
  {
   "cell_type": "code",
   "execution_count": 1,
   "metadata": {},
   "outputs": [],
   "source": [
    "from math import sqrt\n",
    "from scipy import stats\n",
    "\n",
    "%matplotlib inline\n",
    "import matplotlib.pyplot as plt\n",
    "import numpy as np\n",
    "import pandas as pd"
   ]
  },
  {
   "cell_type": "markdown",
   "metadata": {},
   "source": [
    "Ace Realty wants to determine whether the average time it takes to sell homes is different for its two offices. \n",
    "\n",
    "- A sample of 40 sales from office #1 revealed a mean of 90 days and a standard deviation of 15 days. \n",
    "\n",
    "\n",
    "- A sample of 50 sales from office #2 revealed a mean of 100 days and a standard deviation of 20 days. \n",
    "\n",
    "\n",
    "- Use a .05 level of significance.\n",
    "\n",
    "> H0: No difference in avg home selling time between two offices\n",
    "    \n",
    "> Ha: Average time it takes to sell homes is different for its two offices "
   ]
  },
  {
   "cell_type": "code",
   "execution_count": 180,
   "metadata": {},
   "outputs": [
    {
     "name": "stdout",
     "output_type": "stream",
     "text": [
      "Ttest_indResult(statistic=-2.6626664253369667, pvalue=0.009217032158420223)\n"
     ]
    }
   ],
   "source": [
    "dist_1 = stats.norm(90, 15).rvs(40)\n",
    "dist_2 = stats.norm(100,20).rvs(50)\n",
    "\n",
    "# n1 = 40\n",
    "# n2 = 50\n",
    "\n",
    "# μ1 = 90\n",
    "# μ2 = 100\n",
    "\n",
    "# σ1 = 15\n",
    "# σ2 = 20\n",
    "\n",
    "# α = 0.05\n",
    "\n",
    "print(stats.ttest_ind(dist_1, dist_2))\n",
    "# Reject H0, Average time is different, p-value of 0.0092 "
   ]
  },
  {
   "cell_type": "markdown",
   "metadata": {},
   "source": [
    "Load the mpg dataset and use it to answer the following questions:\n",
    "\n",
    "- Is there a difference in fuel-efficiency in cars from 2008 vs 1999?\n",
    "\n",
    "- Are compact cars more fuel-efficient than the average car?\n",
    "\n",
    "- Do manual cars get better gas mileage than automatic cars?"
   ]
  },
  {
   "cell_type": "code",
   "execution_count": 181,
   "metadata": {},
   "outputs": [],
   "source": [
    "from pydataset import data"
   ]
  },
  {
   "cell_type": "code",
   "execution_count": 183,
   "metadata": {
    "scrolled": false
   },
   "outputs": [
    {
     "data": {
      "text/html": [
       "<div>\n",
       "<style scoped>\n",
       "    .dataframe tbody tr th:only-of-type {\n",
       "        vertical-align: middle;\n",
       "    }\n",
       "\n",
       "    .dataframe tbody tr th {\n",
       "        vertical-align: top;\n",
       "    }\n",
       "\n",
       "    .dataframe thead th {\n",
       "        text-align: right;\n",
       "    }\n",
       "</style>\n",
       "<table border=\"1\" class=\"dataframe\">\n",
       "  <thead>\n",
       "    <tr style=\"text-align: right;\">\n",
       "      <th></th>\n",
       "      <th>manufacturer</th>\n",
       "      <th>model</th>\n",
       "      <th>displ</th>\n",
       "      <th>year</th>\n",
       "      <th>cyl</th>\n",
       "      <th>trans</th>\n",
       "      <th>drv</th>\n",
       "      <th>cty</th>\n",
       "      <th>hwy</th>\n",
       "      <th>fl</th>\n",
       "      <th>class</th>\n",
       "    </tr>\n",
       "  </thead>\n",
       "  <tbody>\n",
       "    <tr>\n",
       "      <th>1</th>\n",
       "      <td>audi</td>\n",
       "      <td>a4</td>\n",
       "      <td>1.8</td>\n",
       "      <td>1999</td>\n",
       "      <td>4</td>\n",
       "      <td>auto(l5)</td>\n",
       "      <td>f</td>\n",
       "      <td>18</td>\n",
       "      <td>29</td>\n",
       "      <td>p</td>\n",
       "      <td>compact</td>\n",
       "    </tr>\n",
       "    <tr>\n",
       "      <th>2</th>\n",
       "      <td>audi</td>\n",
       "      <td>a4</td>\n",
       "      <td>1.8</td>\n",
       "      <td>1999</td>\n",
       "      <td>4</td>\n",
       "      <td>manual(m5)</td>\n",
       "      <td>f</td>\n",
       "      <td>21</td>\n",
       "      <td>29</td>\n",
       "      <td>p</td>\n",
       "      <td>compact</td>\n",
       "    </tr>\n",
       "    <tr>\n",
       "      <th>3</th>\n",
       "      <td>audi</td>\n",
       "      <td>a4</td>\n",
       "      <td>2.0</td>\n",
       "      <td>2008</td>\n",
       "      <td>4</td>\n",
       "      <td>manual(m6)</td>\n",
       "      <td>f</td>\n",
       "      <td>20</td>\n",
       "      <td>31</td>\n",
       "      <td>p</td>\n",
       "      <td>compact</td>\n",
       "    </tr>\n",
       "    <tr>\n",
       "      <th>4</th>\n",
       "      <td>audi</td>\n",
       "      <td>a4</td>\n",
       "      <td>2.0</td>\n",
       "      <td>2008</td>\n",
       "      <td>4</td>\n",
       "      <td>auto(av)</td>\n",
       "      <td>f</td>\n",
       "      <td>21</td>\n",
       "      <td>30</td>\n",
       "      <td>p</td>\n",
       "      <td>compact</td>\n",
       "    </tr>\n",
       "    <tr>\n",
       "      <th>5</th>\n",
       "      <td>audi</td>\n",
       "      <td>a4</td>\n",
       "      <td>2.8</td>\n",
       "      <td>1999</td>\n",
       "      <td>6</td>\n",
       "      <td>auto(l5)</td>\n",
       "      <td>f</td>\n",
       "      <td>16</td>\n",
       "      <td>26</td>\n",
       "      <td>p</td>\n",
       "      <td>compact</td>\n",
       "    </tr>\n",
       "  </tbody>\n",
       "</table>\n",
       "</div>"
      ],
      "text/plain": [
       "  manufacturer model  displ  year  cyl       trans drv  cty  hwy fl    class\n",
       "1         audi    a4    1.8  1999    4    auto(l5)   f   18   29  p  compact\n",
       "2         audi    a4    1.8  1999    4  manual(m5)   f   21   29  p  compact\n",
       "3         audi    a4    2.0  2008    4  manual(m6)   f   20   31  p  compact\n",
       "4         audi    a4    2.0  2008    4    auto(av)   f   21   30  p  compact\n",
       "5         audi    a4    2.8  1999    6    auto(l5)   f   16   26  p  compact"
      ]
     },
     "execution_count": 183,
     "metadata": {},
     "output_type": "execute_result"
    }
   ],
   "source": [
    "mpg = data(\"mpg\")\n",
    "mpg.head()"
   ]
  },
  {
   "cell_type": "markdown",
   "metadata": {},
   "source": [
    "Is there a difference in fuel-efficiency in cars from 2008 vs 1999?\n",
    "\n",
    "- H0: There is no difference in fuel-efficiency in cars from 2008 vs 1999\n",
    "- Ha: There is difference in fuel-efficiency in cars from 2008 vs 1999\n",
    "- set α = 0.05\n",
    "\n",
    "> p-value = 0.82 > α, fail to reject H0, might be no difference"
   ]
  },
  {
   "cell_type": "code",
   "execution_count": 214,
   "metadata": {},
   "outputs": [
    {
     "data": {
      "text/plain": [
       "Ttest_indResult(statistic=0.21960177245940962, pvalue=0.8263744040323578)"
      ]
     },
     "execution_count": 214,
     "metadata": {},
     "output_type": "execute_result"
    }
   ],
   "source": [
    "mpg[\"avg_mileage\"] = (mpg.cty + mpg.hwy)/2\n",
    "mpg_1999 = mpg[mpg[\"year\"] == 1999].avg_mileage\n",
    "mpg_2008 = mpg[mpg[\"year\"] == 2008].avg_mileage\n",
    "\n",
    "t_mpg = (stats.ttest_ind(mpg_1999 , mpg_2008))\n",
    "t_mpg"
   ]
  },
  {
   "cell_type": "markdown",
   "metadata": {},
   "source": [
    "Are compact cars more fuel-efficient than the average car?\n",
    "- H0: There is no difference in fuel-efficiency between compact cars and other cars\n",
    "- Ha: There is a difference in fuel-efficiency between compact cars and other cars\n",
    "- set α = 0.05\n",
    "\n",
    "> p-value = 1.31e-10 < α, reject H0, there is a difference in fuel-efficiency between compact car and the others"
   ]
  },
  {
   "cell_type": "code",
   "execution_count": 45,
   "metadata": {},
   "outputs": [
    {
     "data": {
      "text/plain": [
       "Ttest_indResult(statistic=6.731177612837954, pvalue=1.3059121585018135e-10)"
      ]
     },
     "execution_count": 45,
     "metadata": {},
     "output_type": "execute_result"
    }
   ],
   "source": [
    "mpg_compact = mpg[mpg[\"class\"] == \"compact\"].avg_mileage\n",
    "mpg_not_compact = mpg[mpg[\"class\"] != \"compact\"].avg_mileage\n",
    "\n",
    "t_class = (stats.ttest_ind(mpg_compact , mpg_not_compact))\n",
    "t_class\n"
   ]
  },
  {
   "cell_type": "markdown",
   "metadata": {},
   "source": [
    "Do manual cars get better gas mileage than automatic cars?\n",
    "- H0: There is no difference in fuel-efficiency between manual and auto cars\n",
    "- Ha: There is a difference in fuel-efficiency between manual and auto cars\n",
    "- set α = 0.05\n",
    "\n",
    "> p-value = 7.15e-6 < α, reject H0"
   ]
  },
  {
   "cell_type": "code",
   "execution_count": 48,
   "metadata": {},
   "outputs": [
    {
     "data": {
      "text/plain": [
       "Ttest_indResult(statistic=4.593437735750014, pvalue=7.154374401145683e-06)"
      ]
     },
     "execution_count": 48,
     "metadata": {},
     "output_type": "execute_result"
    }
   ],
   "source": [
    "manual_car = mpg[mpg[\"trans\"].str.contains(\"man\")].avg_mileage\n",
    "auto_car = mpg[mpg[\"trans\"].str.contains(\"auto\")].avg_mileage\n",
    "stats.ttest_ind(manual_car, auto_car)\n",
    "\n",
    "# alternative\n",
    "# mpg['is_auto'] = mpg['trans'].apply(lambda x: 'auto' in x)\n",
    "# manual = mpg[~mpg['is_auto']]['mpg']\n",
    "# auto = mpg[mpg['is_auto']]['mpg']"
   ]
  },
  {
   "cell_type": "markdown",
   "metadata": {},
   "source": [
    "**Use telco_churn data.**\n",
    "- Does tenure correlate with monthly charges? Total charges? \n",
    "- What happens if you control for phone and internet service?"
   ]
  },
  {
   "cell_type": "code",
   "execution_count": 312,
   "metadata": {},
   "outputs": [
    {
     "name": "stdout",
     "output_type": "stream",
     "text": [
      "Input desired database name: telco_churn\n",
      "Key in the query SELECT * FROM customers JOIN internet_service_types USING (internet_service_type_id)\n"
     ]
    },
    {
     "data": {
      "text/html": [
       "<div>\n",
       "<style scoped>\n",
       "    .dataframe tbody tr th:only-of-type {\n",
       "        vertical-align: middle;\n",
       "    }\n",
       "\n",
       "    .dataframe tbody tr th {\n",
       "        vertical-align: top;\n",
       "    }\n",
       "\n",
       "    .dataframe thead th {\n",
       "        text-align: right;\n",
       "    }\n",
       "</style>\n",
       "<table border=\"1\" class=\"dataframe\">\n",
       "  <thead>\n",
       "    <tr style=\"text-align: right;\">\n",
       "      <th></th>\n",
       "      <th>internet_service_type_id</th>\n",
       "      <th>customer_id</th>\n",
       "      <th>gender</th>\n",
       "      <th>senior_citizen</th>\n",
       "      <th>partner</th>\n",
       "      <th>dependents</th>\n",
       "      <th>tenure</th>\n",
       "      <th>phone_service</th>\n",
       "      <th>multiple_lines</th>\n",
       "      <th>online_security</th>\n",
       "      <th>...</th>\n",
       "      <th>tech_support</th>\n",
       "      <th>streaming_tv</th>\n",
       "      <th>streaming_movies</th>\n",
       "      <th>contract_type_id</th>\n",
       "      <th>paperless_billing</th>\n",
       "      <th>payment_type_id</th>\n",
       "      <th>monthly_charges</th>\n",
       "      <th>total_charges</th>\n",
       "      <th>churn</th>\n",
       "      <th>internet_service_type</th>\n",
       "    </tr>\n",
       "  </thead>\n",
       "  <tbody>\n",
       "    <tr>\n",
       "      <th>0</th>\n",
       "      <td>1</td>\n",
       "      <td>0002-ORFBO</td>\n",
       "      <td>Female</td>\n",
       "      <td>0</td>\n",
       "      <td>Yes</td>\n",
       "      <td>Yes</td>\n",
       "      <td>9</td>\n",
       "      <td>Yes</td>\n",
       "      <td>No</td>\n",
       "      <td>No</td>\n",
       "      <td>...</td>\n",
       "      <td>Yes</td>\n",
       "      <td>Yes</td>\n",
       "      <td>No</td>\n",
       "      <td>2</td>\n",
       "      <td>Yes</td>\n",
       "      <td>2</td>\n",
       "      <td>65.60</td>\n",
       "      <td>593.3</td>\n",
       "      <td>No</td>\n",
       "      <td>DSL</td>\n",
       "    </tr>\n",
       "    <tr>\n",
       "      <th>1</th>\n",
       "      <td>1</td>\n",
       "      <td>0003-MKNFE</td>\n",
       "      <td>Male</td>\n",
       "      <td>0</td>\n",
       "      <td>No</td>\n",
       "      <td>No</td>\n",
       "      <td>9</td>\n",
       "      <td>Yes</td>\n",
       "      <td>Yes</td>\n",
       "      <td>No</td>\n",
       "      <td>...</td>\n",
       "      <td>No</td>\n",
       "      <td>No</td>\n",
       "      <td>Yes</td>\n",
       "      <td>1</td>\n",
       "      <td>No</td>\n",
       "      <td>2</td>\n",
       "      <td>59.90</td>\n",
       "      <td>542.4</td>\n",
       "      <td>No</td>\n",
       "      <td>DSL</td>\n",
       "    </tr>\n",
       "    <tr>\n",
       "      <th>2</th>\n",
       "      <td>1</td>\n",
       "      <td>0013-MHZWF</td>\n",
       "      <td>Female</td>\n",
       "      <td>0</td>\n",
       "      <td>No</td>\n",
       "      <td>Yes</td>\n",
       "      <td>9</td>\n",
       "      <td>Yes</td>\n",
       "      <td>No</td>\n",
       "      <td>No</td>\n",
       "      <td>...</td>\n",
       "      <td>Yes</td>\n",
       "      <td>Yes</td>\n",
       "      <td>Yes</td>\n",
       "      <td>1</td>\n",
       "      <td>Yes</td>\n",
       "      <td>4</td>\n",
       "      <td>69.40</td>\n",
       "      <td>571.45</td>\n",
       "      <td>No</td>\n",
       "      <td>DSL</td>\n",
       "    </tr>\n",
       "    <tr>\n",
       "      <th>3</th>\n",
       "      <td>1</td>\n",
       "      <td>0015-UOCOJ</td>\n",
       "      <td>Female</td>\n",
       "      <td>1</td>\n",
       "      <td>No</td>\n",
       "      <td>No</td>\n",
       "      <td>7</td>\n",
       "      <td>Yes</td>\n",
       "      <td>No</td>\n",
       "      <td>Yes</td>\n",
       "      <td>...</td>\n",
       "      <td>No</td>\n",
       "      <td>No</td>\n",
       "      <td>No</td>\n",
       "      <td>1</td>\n",
       "      <td>Yes</td>\n",
       "      <td>1</td>\n",
       "      <td>48.20</td>\n",
       "      <td>340.35</td>\n",
       "      <td>No</td>\n",
       "      <td>DSL</td>\n",
       "    </tr>\n",
       "    <tr>\n",
       "      <th>4</th>\n",
       "      <td>1</td>\n",
       "      <td>0016-QLJIS</td>\n",
       "      <td>Female</td>\n",
       "      <td>0</td>\n",
       "      <td>Yes</td>\n",
       "      <td>Yes</td>\n",
       "      <td>65</td>\n",
       "      <td>Yes</td>\n",
       "      <td>Yes</td>\n",
       "      <td>Yes</td>\n",
       "      <td>...</td>\n",
       "      <td>Yes</td>\n",
       "      <td>Yes</td>\n",
       "      <td>Yes</td>\n",
       "      <td>3</td>\n",
       "      <td>Yes</td>\n",
       "      <td>2</td>\n",
       "      <td>90.45</td>\n",
       "      <td>5957.9</td>\n",
       "      <td>No</td>\n",
       "      <td>DSL</td>\n",
       "    </tr>\n",
       "  </tbody>\n",
       "</table>\n",
       "<p>5 rows × 22 columns</p>\n",
       "</div>"
      ],
      "text/plain": [
       "   internet_service_type_id customer_id  gender  senior_citizen partner  \\\n",
       "0                         1  0002-ORFBO  Female               0     Yes   \n",
       "1                         1  0003-MKNFE    Male               0      No   \n",
       "2                         1  0013-MHZWF  Female               0      No   \n",
       "3                         1  0015-UOCOJ  Female               1      No   \n",
       "4                         1  0016-QLJIS  Female               0     Yes   \n",
       "\n",
       "  dependents  tenure phone_service multiple_lines online_security  ...  \\\n",
       "0        Yes       9           Yes             No              No  ...   \n",
       "1         No       9           Yes            Yes              No  ...   \n",
       "2        Yes       9           Yes             No              No  ...   \n",
       "3         No       7           Yes             No             Yes  ...   \n",
       "4        Yes      65           Yes            Yes             Yes  ...   \n",
       "\n",
       "  tech_support streaming_tv streaming_movies contract_type_id  \\\n",
       "0          Yes          Yes               No                2   \n",
       "1           No           No              Yes                1   \n",
       "2          Yes          Yes              Yes                1   \n",
       "3           No           No               No                1   \n",
       "4          Yes          Yes              Yes                3   \n",
       "\n",
       "  paperless_billing  payment_type_id monthly_charges  total_charges  churn  \\\n",
       "0               Yes                2           65.60          593.3     No   \n",
       "1                No                2           59.90          542.4     No   \n",
       "2               Yes                4           69.40         571.45     No   \n",
       "3               Yes                1           48.20         340.35     No   \n",
       "4               Yes                2           90.45         5957.9     No   \n",
       "\n",
       "  internet_service_type  \n",
       "0                   DSL  \n",
       "1                   DSL  \n",
       "2                   DSL  \n",
       "3                   DSL  \n",
       "4                   DSL  \n",
       "\n",
       "[5 rows x 22 columns]"
      ]
     },
     "execution_count": 312,
     "metadata": {},
     "output_type": "execute_result"
    }
   ],
   "source": [
    "def get_db_url():\n",
    "    url = f'mysql+pymysql://{user}:{password}@{host}/{database_name}'\n",
    "    return url\n",
    "from env import host, user, password\n",
    "database_name = input(\"Input desired database name: \")\n",
    "query = input(\"Key in the query \")\n",
    "customer = pd.read_sql(query,get_db_url())\n",
    "customer.head(5)"
   ]
  },
  {
   "cell_type": "markdown",
   "metadata": {},
   "source": [
    "```sql\n",
    "SELECT * FROM customers\n",
    "JOIN internet_service_types USING (internet_service_type_id)\n",
    "'''"
   ]
  },
  {
   "cell_type": "code",
   "execution_count": 313,
   "metadata": {},
   "outputs": [],
   "source": [
    "# keep designated col\n",
    "# df = df[[\"col1\",\"col2\"]]\n",
    "customer = customer[['tenure', 'total_charges', 'monthly_charges', 'internet_service_type', 'phone_service']]\n",
    "#customer.total_charges = customer.total_charges.str.replace(\" \",\"\")\n",
    "# cleanup total_charges, delete the rows containg empty cells\n",
    "customer = customer[customer.total_charges != ' ']\n",
    "customer.total_charges = customer.total_charges.astype(float)\n",
    "# SQL_syntax WHERE total_charges != ' '\n",
    "# customer.total_charges = pd.to_numeric(customer.total_charges)\n",
    "# customer.total_charges = customer.total_charges.astype(float)\n",
    "# customer.total_charges = customer.total_charges.dropna()\n"
   ]
  },
  {
   "cell_type": "code",
   "execution_count": 314,
   "metadata": {},
   "outputs": [
    {
     "data": {
      "text/html": [
       "<div>\n",
       "<style scoped>\n",
       "    .dataframe tbody tr th:only-of-type {\n",
       "        vertical-align: middle;\n",
       "    }\n",
       "\n",
       "    .dataframe tbody tr th {\n",
       "        vertical-align: top;\n",
       "    }\n",
       "\n",
       "    .dataframe thead th {\n",
       "        text-align: right;\n",
       "    }\n",
       "</style>\n",
       "<table border=\"1\" class=\"dataframe\">\n",
       "  <thead>\n",
       "    <tr style=\"text-align: right;\">\n",
       "      <th></th>\n",
       "      <th>tenure</th>\n",
       "      <th>total_charges</th>\n",
       "      <th>monthly_charges</th>\n",
       "      <th>internet_service_type</th>\n",
       "      <th>phone_service</th>\n",
       "    </tr>\n",
       "  </thead>\n",
       "  <tbody>\n",
       "    <tr>\n",
       "      <th>0</th>\n",
       "      <td>9</td>\n",
       "      <td>593.30</td>\n",
       "      <td>65.60</td>\n",
       "      <td>DSL</td>\n",
       "      <td>Yes</td>\n",
       "    </tr>\n",
       "    <tr>\n",
       "      <th>1</th>\n",
       "      <td>9</td>\n",
       "      <td>542.40</td>\n",
       "      <td>59.90</td>\n",
       "      <td>DSL</td>\n",
       "      <td>Yes</td>\n",
       "    </tr>\n",
       "    <tr>\n",
       "      <th>2</th>\n",
       "      <td>9</td>\n",
       "      <td>571.45</td>\n",
       "      <td>69.40</td>\n",
       "      <td>DSL</td>\n",
       "      <td>Yes</td>\n",
       "    </tr>\n",
       "    <tr>\n",
       "      <th>3</th>\n",
       "      <td>7</td>\n",
       "      <td>340.35</td>\n",
       "      <td>48.20</td>\n",
       "      <td>DSL</td>\n",
       "      <td>Yes</td>\n",
       "    </tr>\n",
       "    <tr>\n",
       "      <th>4</th>\n",
       "      <td>65</td>\n",
       "      <td>5957.90</td>\n",
       "      <td>90.45</td>\n",
       "      <td>DSL</td>\n",
       "      <td>Yes</td>\n",
       "    </tr>\n",
       "  </tbody>\n",
       "</table>\n",
       "</div>"
      ],
      "text/plain": [
       "   tenure  total_charges  monthly_charges internet_service_type phone_service\n",
       "0       9         593.30            65.60                   DSL           Yes\n",
       "1       9         542.40            59.90                   DSL           Yes\n",
       "2       9         571.45            69.40                   DSL           Yes\n",
       "3       7         340.35            48.20                   DSL           Yes\n",
       "4      65        5957.90            90.45                   DSL           Yes"
      ]
     },
     "execution_count": 314,
     "metadata": {},
     "output_type": "execute_result"
    }
   ],
   "source": [
    "customer.head()"
   ]
  },
  {
   "cell_type": "code",
   "execution_count": 291,
   "metadata": {},
   "outputs": [
    {
     "data": {
      "text/plain": [
       "<seaborn.axisgrid.FacetGrid at 0x1a98e06ef0>"
      ]
     },
     "execution_count": 291,
     "metadata": {},
     "output_type": "execute_result"
    },
    {
     "data": {
      "image/png": "[encoded data removed]",
      "text/plain": [
       "<Figure size 360x360 with 1 Axes>"
      ]
     },
     "metadata": {
      "needs_background": "light"
     },
     "output_type": "display_data"
    }
   ],
   "source": [
    "# alpha, add hue and col\n",
    "sns.relplot(data = customer, y = 'total_charges', x = 'tenure', alpha = .5)"
   ]
  },
  {
   "cell_type": "code",
   "execution_count": 293,
   "metadata": {},
   "outputs": [
    {
     "data": {
      "text/plain": [
       "<seaborn.axisgrid.FacetGrid at 0x1a98e061d0>"
      ]
     },
     "execution_count": 293,
     "metadata": {},
     "output_type": "execute_result"
    },
    {
     "data": {
      "image/png": "[encoded data removed]",
      "text/plain": [
       "<Figure size 503.75x360 with 1 Axes>"
      ]
     },
     "metadata": {
      "needs_background": "light"
     },
     "output_type": "display_data"
    }
   ],
   "source": [
    "# alpha, add hue and col\n",
    "sns.relplot(data = customer, y = 'total_charges', x = 'tenure', alpha = .5, hue = 'internet_service_type')"
   ]
  },
  {
   "cell_type": "code",
   "execution_count": 294,
   "metadata": {},
   "outputs": [
    {
     "data": {
      "text/plain": [
       "<seaborn.axisgrid.FacetGrid at 0x1a99b1e828>"
      ]
     },
     "execution_count": 294,
     "metadata": {},
     "output_type": "execute_result"
    },
    {
     "data": {
      "image/png": "[encoded data removed]",
      "text/plain": [
       "<Figure size 863.75x360 with 2 Axes>"
      ]
     },
     "metadata": {
      "needs_background": "light"
     },
     "output_type": "display_data"
    }
   ],
   "source": [
    "# alpha, add hue and col\n",
    "sns.relplot(data = customer, y = 'total_charges', x = 'tenure', alpha = .5, hue = 'internet_service_type', col = 'phone_service')"
   ]
  },
  {
   "cell_type": "code",
   "execution_count": 295,
   "metadata": {},
   "outputs": [
    {
     "name": "stdout",
     "output_type": "stream",
     "text": [
      "0.24789985628615002 4.0940449915016345e-99\n"
     ]
    }
   ],
   "source": [
    "r, p = stats.pearsonr(customer.tenure, customer.monthly_charges)\n",
    "print(r,p)\n",
    "# It is statistically significant that monthly charge is slightly correlated to tenure"
   ]
  },
  {
   "cell_type": "code",
   "execution_count": 315,
   "metadata": {},
   "outputs": [
    {
     "name": "stdout",
     "output_type": "stream",
     "text": [
      "0.825880460933202 0.0\n"
     ]
    }
   ],
   "source": [
    "r, p = stats.pearsonr(customer.tenure, customer.total_charges)\n",
    "print(r,p)\n",
    "# the result that there's strong correlation between the two variables is statistically significance"
   ]
  },
  {
   "cell_type": "code",
   "execution_count": 317,
   "metadata": {},
   "outputs": [
    {
     "data": {
      "text/plain": [
       "(0.9319346187418096, 0.0)"
      ]
     },
     "execution_count": 317,
     "metadata": {},
     "output_type": "execute_result"
    }
   ],
   "source": [
    "any_internet = customer[customer.internet_service_type != 'None']\n",
    "\n",
    "stats.pearsonr(any_internet.tenure, any_internet.total_charges)"
   ]
  },
  {
   "cell_type": "code",
   "execution_count": 319,
   "metadata": {},
   "outputs": [
    {
     "data": {
      "text/plain": [
       "(0.9814648859044287, 0.0)"
      ]
     },
     "execution_count": 319,
     "metadata": {},
     "output_type": "execute_result"
    }
   ],
   "source": [
    "no_internet = customer[customer.internet_service_type == 'None']\n",
    "stats.pearsonr(no_internet.tenure, no_internet.total_charges)\n"
   ]
  },
  {
   "cell_type": "code",
   "execution_count": 320,
   "metadata": {},
   "outputs": [
    {
     "data": {
      "text/plain": [
       "<matplotlib.axes._subplots.AxesSubplot at 0x1ab04704e0>"
      ]
     },
     "execution_count": 320,
     "metadata": {},
     "output_type": "execute_result"
    },
    {
     "data": {
      "image/png": "[encoded data removed]",
      "text/plain": [
       "<Figure size 432x288 with 1 Axes>"
      ]
     },
     "metadata": {
      "needs_background": "light"
     },
     "output_type": "display_data"
    }
   ],
   "source": [
    "no_internet.plot.scatter(y = 'total_charges', x = 'tenure')"
   ]
  },
  {
   "cell_type": "markdown",
   "metadata": {},
   "source": [
    "### Notice how p-value becomes smaller and smaller along the increase of sample size.\n",
    "\n",
    "### Echo the point that data science != statistics.  Although statistics is plays an important role in DS."
   ]
  },
  {
   "cell_type": "code",
   "execution_count": null,
   "metadata": {},
   "outputs": [],
   "source": []
  },
  {
   "cell_type": "markdown",
   "metadata": {},
   "source": [
    "**Use employees database.**\n",
    "\n",
    "- Is there a relationship between how long an employee has been with the company and their salary?\n",
    "- Is there a relationship between how long an employee has been with the company and the number of titles they have had?"
   ]
  },
  {
   "cell_type": "code",
   "execution_count": null,
   "metadata": {},
   "outputs": [],
   "source": [
    "# # clean, agg in SQL\n",
    "# if(\n",
    "# de.to_date = '9999-01-01', # if this is true,\n",
    "# select max(hire_date) from employees # get this\n",
    "# de.to_date) # if de.to_date != 9999-01-01, do this step"
   ]
  },
  {
   "cell_type": "code",
   "execution_count": 333,
   "metadata": {},
   "outputs": [
    {
     "name": "stdout",
     "output_type": "stream",
     "text": [
      "Input desired database name: employees\n",
      "Key in the query select * from employees e join salaries s on e.emp_no = s.emp_no where to_date > now();\n"
     ]
    },
    {
     "data": {
      "text/html": [
       "<div>\n",
       "<style scoped>\n",
       "    .dataframe tbody tr th:only-of-type {\n",
       "        vertical-align: middle;\n",
       "    }\n",
       "\n",
       "    .dataframe tbody tr th {\n",
       "        vertical-align: top;\n",
       "    }\n",
       "\n",
       "    .dataframe thead th {\n",
       "        text-align: right;\n",
       "    }\n",
       "</style>\n",
       "<table border=\"1\" class=\"dataframe\">\n",
       "  <thead>\n",
       "    <tr style=\"text-align: right;\">\n",
       "      <th></th>\n",
       "      <th>emp_no</th>\n",
       "      <th>birth_date</th>\n",
       "      <th>first_name</th>\n",
       "      <th>last_name</th>\n",
       "      <th>gender</th>\n",
       "      <th>hire_date</th>\n",
       "      <th>emp_no</th>\n",
       "      <th>salary</th>\n",
       "      <th>from_date</th>\n",
       "      <th>to_date</th>\n",
       "    </tr>\n",
       "  </thead>\n",
       "  <tbody>\n",
       "    <tr>\n",
       "      <th>0</th>\n",
       "      <td>10001</td>\n",
       "      <td>1953-09-02</td>\n",
       "      <td>Georgi</td>\n",
       "      <td>Facello</td>\n",
       "      <td>M</td>\n",
       "      <td>1986-06-26</td>\n",
       "      <td>10001</td>\n",
       "      <td>88958</td>\n",
       "      <td>2002-06-22</td>\n",
       "      <td>9999-01-01</td>\n",
       "    </tr>\n",
       "    <tr>\n",
       "      <th>1</th>\n",
       "      <td>10002</td>\n",
       "      <td>1964-06-02</td>\n",
       "      <td>Bezalel</td>\n",
       "      <td>Simmel</td>\n",
       "      <td>F</td>\n",
       "      <td>1985-11-21</td>\n",
       "      <td>10002</td>\n",
       "      <td>72527</td>\n",
       "      <td>2001-08-02</td>\n",
       "      <td>9999-01-01</td>\n",
       "    </tr>\n",
       "    <tr>\n",
       "      <th>2</th>\n",
       "      <td>10003</td>\n",
       "      <td>1959-12-03</td>\n",
       "      <td>Parto</td>\n",
       "      <td>Bamford</td>\n",
       "      <td>M</td>\n",
       "      <td>1986-08-28</td>\n",
       "      <td>10003</td>\n",
       "      <td>43311</td>\n",
       "      <td>2001-12-01</td>\n",
       "      <td>9999-01-01</td>\n",
       "    </tr>\n",
       "    <tr>\n",
       "      <th>3</th>\n",
       "      <td>10004</td>\n",
       "      <td>1954-05-01</td>\n",
       "      <td>Chirstian</td>\n",
       "      <td>Koblick</td>\n",
       "      <td>M</td>\n",
       "      <td>1986-12-01</td>\n",
       "      <td>10004</td>\n",
       "      <td>74057</td>\n",
       "      <td>2001-11-27</td>\n",
       "      <td>9999-01-01</td>\n",
       "    </tr>\n",
       "    <tr>\n",
       "      <th>4</th>\n",
       "      <td>10005</td>\n",
       "      <td>1955-01-21</td>\n",
       "      <td>Kyoichi</td>\n",
       "      <td>Maliniak</td>\n",
       "      <td>M</td>\n",
       "      <td>1989-09-12</td>\n",
       "      <td>10005</td>\n",
       "      <td>94692</td>\n",
       "      <td>2001-09-09</td>\n",
       "      <td>9999-01-01</td>\n",
       "    </tr>\n",
       "  </tbody>\n",
       "</table>\n",
       "</div>"
      ],
      "text/plain": [
       "   emp_no  birth_date first_name last_name gender   hire_date  emp_no  salary  \\\n",
       "0   10001  1953-09-02     Georgi   Facello      M  1986-06-26   10001   88958   \n",
       "1   10002  1964-06-02    Bezalel    Simmel      F  1985-11-21   10002   72527   \n",
       "2   10003  1959-12-03      Parto   Bamford      M  1986-08-28   10003   43311   \n",
       "3   10004  1954-05-01  Chirstian   Koblick      M  1986-12-01   10004   74057   \n",
       "4   10005  1955-01-21    Kyoichi  Maliniak      M  1989-09-12   10005   94692   \n",
       "\n",
       "    from_date     to_date  \n",
       "0  2002-06-22  9999-01-01  \n",
       "1  2001-08-02  9999-01-01  \n",
       "2  2001-12-01  9999-01-01  \n",
       "3  2001-11-27  9999-01-01  \n",
       "4  2001-09-09  9999-01-01  "
      ]
     },
     "execution_count": 333,
     "metadata": {},
     "output_type": "execute_result"
    }
   ],
   "source": [
    "def get_db_url():\n",
    "    url = f'mysql+pymysql://{user}:{password}@{host}/{database_name}'\n",
    "    return url\n",
    "from env import host, user, password\n",
    "database_name = input(\"Input desired database name: \")\n",
    "query = input(\"Key in the query \")\n",
    "sal_emp = pd.read_sql(query,get_db_url())\n",
    "sal_emp.head(5)\n",
    "# Alternatively, use SQL \n",
    "# SELECT DATEDIFF('2019-10-07', to_date) AS tenure from salaries;"
   ]
  },
  {
   "cell_type": "code",
   "execution_count": 195,
   "metadata": {},
   "outputs": [],
   "source": [
    "import datetime as dt\n",
    "from datetime import timedelta "
   ]
  },
  {
   "cell_type": "code",
   "execution_count": 334,
   "metadata": {},
   "outputs": [
    {
     "data": {
      "text/html": [
       "<div>\n",
       "<style scoped>\n",
       "    .dataframe tbody tr th:only-of-type {\n",
       "        vertical-align: middle;\n",
       "    }\n",
       "\n",
       "    .dataframe tbody tr th {\n",
       "        vertical-align: top;\n",
       "    }\n",
       "\n",
       "    .dataframe thead th {\n",
       "        text-align: right;\n",
       "    }\n",
       "</style>\n",
       "<table border=\"1\" class=\"dataframe\">\n",
       "  <thead>\n",
       "    <tr style=\"text-align: right;\">\n",
       "      <th></th>\n",
       "      <th>emp_no</th>\n",
       "      <th>birth_date</th>\n",
       "      <th>first_name</th>\n",
       "      <th>last_name</th>\n",
       "      <th>gender</th>\n",
       "      <th>hire_date</th>\n",
       "      <th>emp_no</th>\n",
       "      <th>salary</th>\n",
       "      <th>from_date</th>\n",
       "      <th>to_date</th>\n",
       "      <th>tenure</th>\n",
       "    </tr>\n",
       "  </thead>\n",
       "  <tbody>\n",
       "    <tr>\n",
       "      <th>0</th>\n",
       "      <td>10001</td>\n",
       "      <td>1953-09-02</td>\n",
       "      <td>Georgi</td>\n",
       "      <td>Facello</td>\n",
       "      <td>M</td>\n",
       "      <td>1986-06-26</td>\n",
       "      <td>10001</td>\n",
       "      <td>88958</td>\n",
       "      <td>2002-06-22</td>\n",
       "      <td>9999-01-01</td>\n",
       "      <td>12157</td>\n",
       "    </tr>\n",
       "    <tr>\n",
       "      <th>1</th>\n",
       "      <td>10002</td>\n",
       "      <td>1964-06-02</td>\n",
       "      <td>Bezalel</td>\n",
       "      <td>Simmel</td>\n",
       "      <td>F</td>\n",
       "      <td>1985-11-21</td>\n",
       "      <td>10002</td>\n",
       "      <td>72527</td>\n",
       "      <td>2001-08-02</td>\n",
       "      <td>9999-01-01</td>\n",
       "      <td>12374</td>\n",
       "    </tr>\n",
       "    <tr>\n",
       "      <th>2</th>\n",
       "      <td>10003</td>\n",
       "      <td>1959-12-03</td>\n",
       "      <td>Parto</td>\n",
       "      <td>Bamford</td>\n",
       "      <td>M</td>\n",
       "      <td>1986-08-28</td>\n",
       "      <td>10003</td>\n",
       "      <td>43311</td>\n",
       "      <td>2001-12-01</td>\n",
       "      <td>9999-01-01</td>\n",
       "      <td>12094</td>\n",
       "    </tr>\n",
       "    <tr>\n",
       "      <th>3</th>\n",
       "      <td>10004</td>\n",
       "      <td>1954-05-01</td>\n",
       "      <td>Chirstian</td>\n",
       "      <td>Koblick</td>\n",
       "      <td>M</td>\n",
       "      <td>1986-12-01</td>\n",
       "      <td>10004</td>\n",
       "      <td>74057</td>\n",
       "      <td>2001-11-27</td>\n",
       "      <td>9999-01-01</td>\n",
       "      <td>11999</td>\n",
       "    </tr>\n",
       "    <tr>\n",
       "      <th>4</th>\n",
       "      <td>10005</td>\n",
       "      <td>1955-01-21</td>\n",
       "      <td>Kyoichi</td>\n",
       "      <td>Maliniak</td>\n",
       "      <td>M</td>\n",
       "      <td>1989-09-12</td>\n",
       "      <td>10005</td>\n",
       "      <td>94692</td>\n",
       "      <td>2001-09-09</td>\n",
       "      <td>9999-01-01</td>\n",
       "      <td>10983</td>\n",
       "    </tr>\n",
       "  </tbody>\n",
       "</table>\n",
       "</div>"
      ],
      "text/plain": [
       "   emp_no  birth_date first_name last_name gender   hire_date  emp_no  salary  \\\n",
       "0   10001  1953-09-02     Georgi   Facello      M  1986-06-26   10001   88958   \n",
       "1   10002  1964-06-02    Bezalel    Simmel      F  1985-11-21   10002   72527   \n",
       "2   10003  1959-12-03      Parto   Bamford      M  1986-08-28   10003   43311   \n",
       "3   10004  1954-05-01  Chirstian   Koblick      M  1986-12-01   10004   74057   \n",
       "4   10005  1955-01-21    Kyoichi  Maliniak      M  1989-09-12   10005   94692   \n",
       "\n",
       "    from_date     to_date  tenure  \n",
       "0  2002-06-22  9999-01-01   12157  \n",
       "1  2001-08-02  9999-01-01   12374  \n",
       "2  2001-12-01  9999-01-01   12094  \n",
       "3  2001-11-27  9999-01-01   11999  \n",
       "4  2001-09-09  9999-01-01   10983  "
      ]
     },
     "execution_count": 334,
     "metadata": {},
     "output_type": "execute_result"
    }
   ],
   "source": [
    "#sal_emp[\"now\"] = pd.Timestamp.now().date()\n",
    "sal_emp[\"tenure\"] = ((pd.Timestamp.now().date()) - sal_emp.hire_date).dt.days.astype(int)\n",
    "#salary.tenure = salary.tenure.str.strip(\" days\")\n",
    "# salary.tenure = salary.tenure.astype(timedelta).map(lambda x: np.nan if pd.isnull(x) else x.days)\n",
    "sal_emp.head()"
   ]
  },
  {
   "cell_type": "code",
   "execution_count": 173,
   "metadata": {},
   "outputs": [
    {
     "name": "stdout",
     "output_type": "stream",
     "text": [
      "Correlation between tenure and salary is: correlation = 0.30646256131860783 with p-value of:  0.0\n"
     ]
    }
   ],
   "source": [
    "r, p = stats.pearsonr(sal_emp.tenure, sal_emp.salary)\n",
    "print(\"Correlation between tenure and salary is: correlation =\",r, \"with p-value of: \",p)\n",
    "# Positive correlation between tenure and emp salary"
   ]
  },
  {
   "cell_type": "markdown",
   "metadata": {},
   "source": [
    "**Is there a relationship between tenure and the number of titles they have had?**\n",
    "\n",
    "- $H0: $ No correlation between tenure and number of titles\n",
    "- $Hα: $ There is a correlation between tenure and number of titles"
   ]
  },
  {
   "cell_type": "code",
   "execution_count": 199,
   "metadata": {},
   "outputs": [
    {
     "name": "stdout",
     "output_type": "stream",
     "text": [
      "Input desired database name: employees\n",
      "Key in the query select datediff(curdate(),e.hire_date) as tenure, count(title) as n_titles from employees as e join titles as t using(emp_no)  group by emp_no;\n"
     ]
    },
    {
     "data": {
      "text/html": [
       "<div>\n",
       "<style scoped>\n",
       "    .dataframe tbody tr th:only-of-type {\n",
       "        vertical-align: middle;\n",
       "    }\n",
       "\n",
       "    .dataframe tbody tr th {\n",
       "        vertical-align: top;\n",
       "    }\n",
       "\n",
       "    .dataframe thead th {\n",
       "        text-align: right;\n",
       "    }\n",
       "</style>\n",
       "<table border=\"1\" class=\"dataframe\">\n",
       "  <thead>\n",
       "    <tr style=\"text-align: right;\">\n",
       "      <th></th>\n",
       "      <th>tenure</th>\n",
       "      <th>n_titles</th>\n",
       "    </tr>\n",
       "  </thead>\n",
       "  <tbody>\n",
       "    <tr>\n",
       "      <th>0</th>\n",
       "      <td>12157</td>\n",
       "      <td>1</td>\n",
       "    </tr>\n",
       "    <tr>\n",
       "      <th>1</th>\n",
       "      <td>12374</td>\n",
       "      <td>1</td>\n",
       "    </tr>\n",
       "    <tr>\n",
       "      <th>2</th>\n",
       "      <td>12094</td>\n",
       "      <td>1</td>\n",
       "    </tr>\n",
       "    <tr>\n",
       "      <th>3</th>\n",
       "      <td>11999</td>\n",
       "      <td>2</td>\n",
       "    </tr>\n",
       "    <tr>\n",
       "      <th>4</th>\n",
       "      <td>10983</td>\n",
       "      <td>2</td>\n",
       "    </tr>\n",
       "  </tbody>\n",
       "</table>\n",
       "</div>"
      ],
      "text/plain": [
       "   tenure  n_titles\n",
       "0   12157         1\n",
       "1   12374         1\n",
       "2   12094         1\n",
       "3   11999         2\n",
       "4   10983         2"
      ]
     },
     "execution_count": 199,
     "metadata": {},
     "output_type": "execute_result"
    }
   ],
   "source": [
    "def get_db_url():\n",
    "    url = f'mysql+pymysql://{user}:{password}@{host}/{database_name}'\n",
    "    return url\n",
    "from env import host, user, password\n",
    "database_name = input(\"Input desired database name: \")\n",
    "query = input(\"Key in the query \")\n",
    "tenure_title = pd.read_sql(query,get_db_url())\n",
    "tenure_title.head(5)"
   ]
  },
  {
   "cell_type": "code",
   "execution_count": 201,
   "metadata": {},
   "outputs": [
    {
     "name": "stdout",
     "output_type": "stream",
     "text": [
      "Correlation between tenure and title# is: correlation = 0.266598929913662 with p-value of:  0.0\n"
     ]
    }
   ],
   "source": [
    "r, p = stats.pearsonr(tenure_title.tenure, tenure_title.n_titles)\n",
    "print(\"Correlation between tenure and title# is: correlation =\",r, \"with p-value of: \",p)\n",
    "# There is a slight correlation between the two variables.\n",
    "# p < 0.05, reject null, there is a correlation between the two variables"
   ]
  },
  {
   "cell_type": "code",
   "execution_count": null,
   "metadata": {},
   "outputs": [],
   "source": [
    "employees[employees.department.isin(['Sales','Marketing'])]"
   ]
  },
  {
   "cell_type": "markdown",
   "metadata": {},
   "source": [
    "```sql\n",
    "SELECT\n",
    "    DATEDIFF(end_date, start_date) / 365.25 AS tenure,\n",
    "    salary\n",
    "FROM (\n",
    "    SELECT\n",
    "        e.emp_no,\n",
    "        e.hire_date AS start_date,\n",
    "        MAX(s.salary) AS salary,\n",
    "        IF(\n",
    "            de.to_date = '9999-01-01',\n",
    "            (SELECT MAX(hire_date) FROM employees),\n",
    "            de.to_date\n",
    "        ) as end_date\n",
    "    FROM employees e\n",
    "    JOIN dept_emp de USING (emp_no)\n",
    "    JOIN salaries s USING (emp_no)\n",
    "    GROUP BY e.emp_no, start_date, end_date\n",
    ") a\n",
    "```"
   ]
  },
  {
   "cell_type": "code",
   "execution_count": 322,
   "metadata": {},
   "outputs": [
    {
     "name": "stdout",
     "output_type": "stream",
     "text": [
      "Input desired database name: employees\n",
      "Key in the query SELECT     DATEDIFF(end_date, start_date) / 365.25 AS tenure,     salary FROM (     SELECT         e.emp_no,         e.hire_date AS start_date,         MAX(s.salary) AS salary,         IF(             de.to_date = '9999-01-01',             (SELECT MAX(hire_date) FROM employees),             de.to_date         ) as end_date     FROM employees e     JOIN dept_emp de USING (emp_no)     JOIN salaries s USING (emp_no)     GROUP BY e.emp_no, start_date, end_date ) a\n"
     ]
    },
    {
     "data": {
      "text/html": [
       "<div>\n",
       "<style scoped>\n",
       "    .dataframe tbody tr th:only-of-type {\n",
       "        vertical-align: middle;\n",
       "    }\n",
       "\n",
       "    .dataframe tbody tr th {\n",
       "        vertical-align: top;\n",
       "    }\n",
       "\n",
       "    .dataframe thead th {\n",
       "        text-align: right;\n",
       "    }\n",
       "</style>\n",
       "<table border=\"1\" class=\"dataframe\">\n",
       "  <thead>\n",
       "    <tr style=\"text-align: right;\">\n",
       "      <th></th>\n",
       "      <th>tenure</th>\n",
       "      <th>salary</th>\n",
       "    </tr>\n",
       "  </thead>\n",
       "  <tbody>\n",
       "    <tr>\n",
       "      <th>0</th>\n",
       "      <td>13.5907</td>\n",
       "      <td>88958</td>\n",
       "    </tr>\n",
       "    <tr>\n",
       "      <th>1</th>\n",
       "      <td>14.1848</td>\n",
       "      <td>72527</td>\n",
       "    </tr>\n",
       "    <tr>\n",
       "      <th>2</th>\n",
       "      <td>13.4182</td>\n",
       "      <td>43699</td>\n",
       "    </tr>\n",
       "    <tr>\n",
       "      <th>3</th>\n",
       "      <td>13.1581</td>\n",
       "      <td>74057</td>\n",
       "    </tr>\n",
       "    <tr>\n",
       "      <th>4</th>\n",
       "      <td>10.3765</td>\n",
       "      <td>94692</td>\n",
       "    </tr>\n",
       "  </tbody>\n",
       "</table>\n",
       "</div>"
      ],
      "text/plain": [
       "    tenure  salary\n",
       "0  13.5907   88958\n",
       "1  14.1848   72527\n",
       "2  13.4182   43699\n",
       "3  13.1581   74057\n",
       "4  10.3765   94692"
      ]
     },
     "execution_count": 322,
     "metadata": {},
     "output_type": "execute_result"
    }
   ],
   "source": [
    "def get_db_url():\n",
    "    url = f'mysql+pymysql://{user}:{password}@{host}/{database_name}'\n",
    "    return url\n",
    "from env import host, user, password\n",
    "database_name = input(\"Input desired database name: \")\n",
    "query = input(\"Key in the query \")\n",
    "emp = pd.read_sql(query,get_db_url())\n",
    "emp.head(5)"
   ]
  },
  {
   "cell_type": "code",
   "execution_count": 324,
   "metadata": {},
   "outputs": [
    {
     "data": {
      "text/plain": [
       "(0.30984532042633584, 0.0)"
      ]
     },
     "execution_count": 324,
     "metadata": {},
     "output_type": "execute_result"
    }
   ],
   "source": [
    "stats.pearsonr(emp.tenure, emp.salary) # moderate positive correlation between tenure and salary"
   ]
  },
  {
   "cell_type": "markdown",
   "metadata": {},
   "source": [
    "```sql\n",
    "SELECT\n",
    "    DATEDIFF(end_date, start_date) / 365.25 AS tenure,\n",
    "    n_titles\n",
    "FROM (\n",
    "    SELECT\n",
    "        e.emp_no,\n",
    "        e.hire_date AS start_date,\n",
    "        COUNT(*) AS n_titles,\n",
    "        IF(\n",
    "            de.to_date = '9999-01-01',\n",
    "            (SELECT MAX(hire_date) FROM employees),\n",
    "            de.to_date\n",
    "        ) as end_date\n",
    "    FROM employees e\n",
    "    JOIN dept_emp de USING (emp_no)\n",
    "    JOIN titles t USING (emp_no)\n",
    "    GROUP BY e.emp_no, start_date, end_date\n",
    ") a\n",
    "```"
   ]
  },
  {
   "cell_type": "code",
   "execution_count": 325,
   "metadata": {},
   "outputs": [
    {
     "name": "stdout",
     "output_type": "stream",
     "text": [
      "Input desired database name: employees\n",
      "Key in the query SELECT     DATEDIFF(end_date, start_date) / 365.25 AS tenure,     n_titles FROM (     SELECT         e.emp_no,         e.hire_date AS start_date,         COUNT(*) AS n_titles,         IF(             de.to_date = '9999-01-01',             (SELECT MAX(hire_date) FROM employees),             de.to_date         ) as end_date     FROM employees e     JOIN dept_emp de USING (emp_no)     JOIN titles t USING (emp_no)     GROUP BY e.emp_no, start_date, end_date ) a\n"
     ]
    },
    {
     "data": {
      "text/html": [
       "<div>\n",
       "<style scoped>\n",
       "    .dataframe tbody tr th:only-of-type {\n",
       "        vertical-align: middle;\n",
       "    }\n",
       "\n",
       "    .dataframe tbody tr th {\n",
       "        vertical-align: top;\n",
       "    }\n",
       "\n",
       "    .dataframe thead th {\n",
       "        text-align: right;\n",
       "    }\n",
       "</style>\n",
       "<table border=\"1\" class=\"dataframe\">\n",
       "  <thead>\n",
       "    <tr style=\"text-align: right;\">\n",
       "      <th></th>\n",
       "      <th>tenure</th>\n",
       "      <th>n_titles</th>\n",
       "    </tr>\n",
       "  </thead>\n",
       "  <tbody>\n",
       "    <tr>\n",
       "      <th>0</th>\n",
       "      <td>13.5907</td>\n",
       "      <td>1</td>\n",
       "    </tr>\n",
       "    <tr>\n",
       "      <th>1</th>\n",
       "      <td>14.1848</td>\n",
       "      <td>1</td>\n",
       "    </tr>\n",
       "    <tr>\n",
       "      <th>2</th>\n",
       "      <td>13.4182</td>\n",
       "      <td>1</td>\n",
       "    </tr>\n",
       "    <tr>\n",
       "      <th>3</th>\n",
       "      <td>13.1581</td>\n",
       "      <td>2</td>\n",
       "    </tr>\n",
       "    <tr>\n",
       "      <th>4</th>\n",
       "      <td>10.3765</td>\n",
       "      <td>2</td>\n",
       "    </tr>\n",
       "  </tbody>\n",
       "</table>\n",
       "</div>"
      ],
      "text/plain": [
       "    tenure  n_titles\n",
       "0  13.5907         1\n",
       "1  14.1848         1\n",
       "2  13.4182         1\n",
       "3  13.1581         2\n",
       "4  10.3765         2"
      ]
     },
     "execution_count": 325,
     "metadata": {},
     "output_type": "execute_result"
    }
   ],
   "source": [
    "def get_db_url():\n",
    "    url = f'mysql+pymysql://{user}:{password}@{host}/{database_name}'\n",
    "    return url\n",
    "from env import host, user, password\n",
    "database_name = input(\"Input desired database name: \")\n",
    "query = input(\"Key in the query \")\n",
    "emp_title = pd.read_sql(query,get_db_url())\n",
    "emp_title.head(5)"
   ]
  },
  {
   "cell_type": "code",
   "execution_count": 327,
   "metadata": {},
   "outputs": [
    {
     "data": {
      "text/plain": [
       "(0.31705767504938237, 0.0)"
      ]
     },
     "execution_count": 327,
     "metadata": {},
     "output_type": "execute_result"
    }
   ],
   "source": [
    "stats.pearsonr(emp_title.tenure, emp_title.n_titles) # moderate positive correlation between tenure and salary"
   ]
  },
  {
   "cell_type": "code",
   "execution_count": null,
   "metadata": {},
   "outputs": [],
   "source": []
  },
  {
   "cell_type": "code",
   "execution_count": null,
   "metadata": {},
   "outputs": [],
   "source": []
  },
  {
   "cell_type": "markdown",
   "metadata": {},
   "source": [
    "Use the sleepstudy data. \n",
    "\n",
    "**Is there a relationship between days and reaction time?**"
   ]
  },
  {
   "cell_type": "code",
   "execution_count": 215,
   "metadata": {},
   "outputs": [
    {
     "data": {
      "text/html": [
       "<div>\n",
       "<style scoped>\n",
       "    .dataframe tbody tr th:only-of-type {\n",
       "        vertical-align: middle;\n",
       "    }\n",
       "\n",
       "    .dataframe tbody tr th {\n",
       "        vertical-align: top;\n",
       "    }\n",
       "\n",
       "    .dataframe thead th {\n",
       "        text-align: right;\n",
       "    }\n",
       "</style>\n",
       "<table border=\"1\" class=\"dataframe\">\n",
       "  <thead>\n",
       "    <tr style=\"text-align: right;\">\n",
       "      <th></th>\n",
       "      <th>Reaction</th>\n",
       "      <th>Days</th>\n",
       "      <th>Subject</th>\n",
       "    </tr>\n",
       "  </thead>\n",
       "  <tbody>\n",
       "    <tr>\n",
       "      <th>1</th>\n",
       "      <td>249.5600</td>\n",
       "      <td>0</td>\n",
       "      <td>308</td>\n",
       "    </tr>\n",
       "    <tr>\n",
       "      <th>2</th>\n",
       "      <td>258.7047</td>\n",
       "      <td>1</td>\n",
       "      <td>308</td>\n",
       "    </tr>\n",
       "    <tr>\n",
       "      <th>3</th>\n",
       "      <td>250.8006</td>\n",
       "      <td>2</td>\n",
       "      <td>308</td>\n",
       "    </tr>\n",
       "    <tr>\n",
       "      <th>4</th>\n",
       "      <td>321.4398</td>\n",
       "      <td>3</td>\n",
       "      <td>308</td>\n",
       "    </tr>\n",
       "    <tr>\n",
       "      <th>5</th>\n",
       "      <td>356.8519</td>\n",
       "      <td>4</td>\n",
       "      <td>308</td>\n",
       "    </tr>\n",
       "  </tbody>\n",
       "</table>\n",
       "</div>"
      ],
      "text/plain": [
       "   Reaction  Days  Subject\n",
       "1  249.5600     0      308\n",
       "2  258.7047     1      308\n",
       "3  250.8006     2      308\n",
       "4  321.4398     3      308\n",
       "5  356.8519     4      308"
      ]
     },
     "execution_count": 215,
     "metadata": {},
     "output_type": "execute_result"
    }
   ],
   "source": [
    "sleep = data('sleepstudy')\n",
    "sleep.head()"
   ]
  },
  {
   "cell_type": "code",
   "execution_count": 207,
   "metadata": {},
   "outputs": [
    {
     "data": {
      "text/plain": [
       "(0.5352302262650253, 9.894096322214812e-15)"
      ]
     },
     "execution_count": 207,
     "metadata": {},
     "output_type": "execute_result"
    }
   ],
   "source": [
    "stats.pearsonr(sleep.Reaction,sleep.Days) \n",
    "# There is a fairly strong positive correlation between day and reaction during sleep"
   ]
  },
  {
   "cell_type": "markdown",
   "metadata": {},
   "source": [
    "__Welcome to CHI SQUARE!__"
   ]
  },
  {
   "cell_type": "code",
   "execution_count": null,
   "metadata": {},
   "outputs": [],
   "source": [
    "# chi2, p, degf, expected = stats.chi2_contingency(observed)\n",
    "\n",
    "# print('Observed\\n')\n",
    "# print(observed.values)\n",
    "# print('---\\nExpected\\n')\n",
    "# print(expected)\n",
    "# print('---\\n')\n",
    "# print(f'chi^2 = {chi2:.4f}')\n",
    "# print(f'p     = {p:.4f}')"
   ]
  },
  {
   "cell_type": "markdown",
   "metadata": {},
   "source": [
    "Use the following contingency table to help answer the question of whether using a macbook and being a codeup student are independent of each other.\n",
    "                                      \n",
    "|              | Codeup_Student | Not_Codeup_Student |\n",
    "|--------------|----------------|--------------------|\n",
    "| Mac_User     |       49       |         20         |\n",
    "| Non-Mac_User |        1       |         30         |"
   ]
  },
  {
   "cell_type": "code",
   "execution_count": 211,
   "metadata": {},
   "outputs": [
    {
     "name": "stdout",
     "output_type": "stream",
     "text": [
      "chi-square =  36.65264142122487\n",
      "p-value =  1.4116760526193828e-09\n"
     ]
    }
   ],
   "source": [
    "index = ['MAC', 'NONE_MAC']\n",
    "columns = ['Codeup', 'NONE_Codeup']\n",
    "MB = pd.DataFrame([[49,20], [1, 30]], index=index, columns=columns)\n",
    "chi2, p, degf, expected = stats.chi2_contingency(MB)\n",
    "print(\"chi-square = \",  chi2)\n",
    "print(\"p-value = \", p)"
   ]
  },
  {
   "cell_type": "markdown",
   "metadata": {},
   "source": [
    "__Choose another 2 categorical variables from the mpg dataset and perform a $chi^2$ contingency table test with them.__ \n",
    "\n",
    "Be sure to state your null and alternative hypotheses.\n",
    "\n",
    "\n",
    "- $H0: $ Type of drv makes no difference in avg gas mileage\n",
    "- $Hα: $ There is a relationship between drv and avg gas mileage performance"
   ]
  },
  {
   "cell_type": "code",
   "execution_count": 216,
   "metadata": {},
   "outputs": [
    {
     "data": {
      "text/html": [
       "<div>\n",
       "<style scoped>\n",
       "    .dataframe tbody tr th:only-of-type {\n",
       "        vertical-align: middle;\n",
       "    }\n",
       "\n",
       "    .dataframe tbody tr th {\n",
       "        vertical-align: top;\n",
       "    }\n",
       "\n",
       "    .dataframe thead th {\n",
       "        text-align: right;\n",
       "    }\n",
       "</style>\n",
       "<table border=\"1\" class=\"dataframe\">\n",
       "  <thead>\n",
       "    <tr style=\"text-align: right;\">\n",
       "      <th></th>\n",
       "      <th>manufacturer</th>\n",
       "      <th>model</th>\n",
       "      <th>displ</th>\n",
       "      <th>year</th>\n",
       "      <th>cyl</th>\n",
       "      <th>trans</th>\n",
       "      <th>drv</th>\n",
       "      <th>cty</th>\n",
       "      <th>hwy</th>\n",
       "      <th>fl</th>\n",
       "      <th>class</th>\n",
       "      <th>avg_mileage</th>\n",
       "    </tr>\n",
       "  </thead>\n",
       "  <tbody>\n",
       "    <tr>\n",
       "      <th>1</th>\n",
       "      <td>audi</td>\n",
       "      <td>a4</td>\n",
       "      <td>1.8</td>\n",
       "      <td>1999</td>\n",
       "      <td>4</td>\n",
       "      <td>auto(l5)</td>\n",
       "      <td>f</td>\n",
       "      <td>18</td>\n",
       "      <td>29</td>\n",
       "      <td>p</td>\n",
       "      <td>compact</td>\n",
       "      <td>23.5</td>\n",
       "    </tr>\n",
       "    <tr>\n",
       "      <th>2</th>\n",
       "      <td>audi</td>\n",
       "      <td>a4</td>\n",
       "      <td>1.8</td>\n",
       "      <td>1999</td>\n",
       "      <td>4</td>\n",
       "      <td>manual(m5)</td>\n",
       "      <td>f</td>\n",
       "      <td>21</td>\n",
       "      <td>29</td>\n",
       "      <td>p</td>\n",
       "      <td>compact</td>\n",
       "      <td>25.0</td>\n",
       "    </tr>\n",
       "    <tr>\n",
       "      <th>3</th>\n",
       "      <td>audi</td>\n",
       "      <td>a4</td>\n",
       "      <td>2.0</td>\n",
       "      <td>2008</td>\n",
       "      <td>4</td>\n",
       "      <td>manual(m6)</td>\n",
       "      <td>f</td>\n",
       "      <td>20</td>\n",
       "      <td>31</td>\n",
       "      <td>p</td>\n",
       "      <td>compact</td>\n",
       "      <td>25.5</td>\n",
       "    </tr>\n",
       "    <tr>\n",
       "      <th>4</th>\n",
       "      <td>audi</td>\n",
       "      <td>a4</td>\n",
       "      <td>2.0</td>\n",
       "      <td>2008</td>\n",
       "      <td>4</td>\n",
       "      <td>auto(av)</td>\n",
       "      <td>f</td>\n",
       "      <td>21</td>\n",
       "      <td>30</td>\n",
       "      <td>p</td>\n",
       "      <td>compact</td>\n",
       "      <td>25.5</td>\n",
       "    </tr>\n",
       "    <tr>\n",
       "      <th>5</th>\n",
       "      <td>audi</td>\n",
       "      <td>a4</td>\n",
       "      <td>2.8</td>\n",
       "      <td>1999</td>\n",
       "      <td>6</td>\n",
       "      <td>auto(l5)</td>\n",
       "      <td>f</td>\n",
       "      <td>16</td>\n",
       "      <td>26</td>\n",
       "      <td>p</td>\n",
       "      <td>compact</td>\n",
       "      <td>21.0</td>\n",
       "    </tr>\n",
       "  </tbody>\n",
       "</table>\n",
       "</div>"
      ],
      "text/plain": [
       "  manufacturer model  displ  year  cyl       trans drv  cty  hwy fl    class  \\\n",
       "1         audi    a4    1.8  1999    4    auto(l5)   f   18   29  p  compact   \n",
       "2         audi    a4    1.8  1999    4  manual(m5)   f   21   29  p  compact   \n",
       "3         audi    a4    2.0  2008    4  manual(m6)   f   20   31  p  compact   \n",
       "4         audi    a4    2.0  2008    4    auto(av)   f   21   30  p  compact   \n",
       "5         audi    a4    2.8  1999    6    auto(l5)   f   16   26  p  compact   \n",
       "\n",
       "   avg_mileage  \n",
       "1         23.5  \n",
       "2         25.0  \n",
       "3         25.5  \n",
       "4         25.5  \n",
       "5         21.0  "
      ]
     },
     "execution_count": 216,
     "metadata": {},
     "output_type": "execute_result"
    }
   ],
   "source": [
    "mpg.head()"
   ]
  },
  {
   "cell_type": "code",
   "execution_count": 218,
   "metadata": {},
   "outputs": [
    {
     "name": "stdout",
     "output_type": "stream",
     "text": [
      "chi-square =  200.4209027116945\n",
      "p-value =  9.96172168718799e-13\n"
     ]
    }
   ],
   "source": [
    "chi2, p, degf, expected = stats.chi2_contingency(pd.crosstab(mpg.drv, mpg.avg_mileage))\n",
    "print(\"chi-square = \",  chi2)\n",
    "print(\"p-value = \", p)\n",
    "# minimum p-value, reject H0, type of drv do affect avg gas mileage"
   ]
  },
  {
   "cell_type": "markdown",
   "metadata": {},
   "source": [
    "Use the data from the employees database to answer these questions:\n",
    "\n",
    "- Is an employee's gender independent of whether an employee works in sales or marketing? (current employees)\n",
    "- Is an employee's gender independent of whether or not they are or have been a manager?\n",
    "\n",
    "- use table: employees (hire_date, gender), departments, dept_manager, dept_emp "
   ]
  },
  {
   "cell_type": "code",
   "execution_count": 229,
   "metadata": {},
   "outputs": [
    {
     "name": "stdout",
     "output_type": "stream",
     "text": [
      "Input desired database name: employees\n",
      "Key in the query select gender, dept_name     from employees     join dept_emp as de using(emp_no)     join departments using(dept_no)     where de.to_date > now();\n"
     ]
    },
    {
     "data": {
      "text/html": [
       "<div>\n",
       "<style scoped>\n",
       "    .dataframe tbody tr th:only-of-type {\n",
       "        vertical-align: middle;\n",
       "    }\n",
       "\n",
       "    .dataframe tbody tr th {\n",
       "        vertical-align: top;\n",
       "    }\n",
       "\n",
       "    .dataframe thead th {\n",
       "        text-align: right;\n",
       "    }\n",
       "</style>\n",
       "<table border=\"1\" class=\"dataframe\">\n",
       "  <thead>\n",
       "    <tr style=\"text-align: right;\">\n",
       "      <th></th>\n",
       "      <th>gender</th>\n",
       "      <th>dept_name</th>\n",
       "    </tr>\n",
       "  </thead>\n",
       "  <tbody>\n",
       "    <tr>\n",
       "      <th>0</th>\n",
       "      <td>M</td>\n",
       "      <td>Customer Service</td>\n",
       "    </tr>\n",
       "    <tr>\n",
       "      <th>1</th>\n",
       "      <td>F</td>\n",
       "      <td>Customer Service</td>\n",
       "    </tr>\n",
       "    <tr>\n",
       "      <th>2</th>\n",
       "      <td>M</td>\n",
       "      <td>Customer Service</td>\n",
       "    </tr>\n",
       "    <tr>\n",
       "      <th>3</th>\n",
       "      <td>F</td>\n",
       "      <td>Customer Service</td>\n",
       "    </tr>\n",
       "    <tr>\n",
       "      <th>4</th>\n",
       "      <td>F</td>\n",
       "      <td>Customer Service</td>\n",
       "    </tr>\n",
       "  </tbody>\n",
       "</table>\n",
       "</div>"
      ],
      "text/plain": [
       "  gender         dept_name\n",
       "0      M  Customer Service\n",
       "1      F  Customer Service\n",
       "2      M  Customer Service\n",
       "3      F  Customer Service\n",
       "4      F  Customer Service"
      ]
     },
     "execution_count": 229,
     "metadata": {},
     "output_type": "execute_result"
    }
   ],
   "source": [
    "def get_db_url():\n",
    "    url = f'mysql+pymysql://{user}:{password}@{host}/{database_name}'\n",
    "    return url\n",
    "from env import host, user, password\n",
    "database_name = input(\"Input desired database name: \")\n",
    "query = input(\"Key in the query \")\n",
    "get_dept = pd.read_sql(query,get_db_url())\n",
    "get_dept.head(5)"
   ]
  },
  {
   "cell_type": "code",
   "execution_count": 287,
   "metadata": {},
   "outputs": [],
   "source": [
    "# use \"```sql sql CODE``` to create code snippets"
   ]
  },
  {
   "cell_type": "markdown",
   "metadata": {},
   "source": [
    "```sql\n",
    "select gender, dept_name\n",
    "from employees\n",
    "join dept_emp as de using(emp_no)\n",
    "join departments using(dept_no)\n",
    "where de.to_date > now();\n",
    "```"
   ]
  },
  {
   "cell_type": "code",
   "execution_count": 238,
   "metadata": {},
   "outputs": [
    {
     "name": "stdout",
     "output_type": "stream",
     "text": [
      "chi =  0.3240332004060638 p =  0.5691938610810126\n"
     ]
    }
   ],
   "source": [
    "get_dept = x['dept_name'].apply(lambda x: x in ['Marketing', 'Sales'])\n",
    "rel = x[get_dept]\n",
    "pd.crosstab(rel.gender, rel.dept_name)\n",
    "chi, p, degf, expected = stats.chi2_contingency(pd.crosstab(rel.gender, rel.dept_name))\n",
    "print(\"chi = \", chi, \"p = \", p)"
   ]
  },
  {
   "cell_type": "code",
   "execution_count": null,
   "metadata": {},
   "outputs": [],
   "source": [
    "# select e.gender, count(dm.emp_no) count\n",
    "#     from employees e\n",
    "#     left join dept_manager dm on dm.emp_no = e.emp_no\n",
    "#     group by e.emp_no;"
   ]
  },
  {
   "cell_type": "code",
   "execution_count": 228,
   "metadata": {},
   "outputs": [
    {
     "name": "stdout",
     "output_type": "stream",
     "text": [
      "chi =  1.4566857643547197 p =  0.22745818732810363\n"
     ]
    }
   ],
   "source": [
    "count['mngt'] = count['count'] > 0\n",
    "chi, p, degf, expected = stats.chi2_contingency(pd.crosstab(count.gender, count.mngt))\n",
    "print(\"chi = \", chi, \"p = \", p)"
   ]
  },
  {
   "cell_type": "code",
   "execution_count": null,
   "metadata": {},
   "outputs": [],
   "source": []
  },
  {
   "cell_type": "code",
   "execution_count": null,
   "metadata": {},
   "outputs": [],
   "source": []
  },
  {
   "cell_type": "code",
   "execution_count": null,
   "metadata": {},
   "outputs": [],
   "source": []
  },
  {
   "cell_type": "code",
   "execution_count": null,
   "metadata": {},
   "outputs": [],
   "source": []
  },
  {
   "cell_type": "code",
   "execution_count": null,
   "metadata": {},
   "outputs": [],
   "source": []
  },
  {
   "cell_type": "code",
   "execution_count": null,
   "metadata": {},
   "outputs": [],
   "source": [
    "def get_db_url():\n",
    "    url = f'mysql+pymysql://{user}:{password}@{host}/{database_name}'\n",
    "    return url\n",
    "from env import host, user, password\n",
    "database_name = input(\"Input desired database name: \")\n",
    "query = input(\"Key in the query \")\n",
    "gender_dept = pd.read_sql(query,get_db_url())\n",
    "gender_dept.head(5)"
   ]
  },
  {
   "cell_type": "code",
   "execution_count": null,
   "metadata": {},
   "outputs": [],
   "source": [
    "```sql\n",
    "SELECT\n",
    "    e.gender,\n",
    "    d.dept_name AS department\n",
    "FROM employees e\n",
    "JOIN dept_emp de USING (emp_no)\n",
    "JOIN departments d USING (dept_no)\n",
    "WHERE de.to_date > NOW()\n",
    "'''"
   ]
  },
  {
   "cell_type": "code",
   "execution_count": 331,
   "metadata": {},
   "outputs": [
    {
     "data": {
      "text/plain": [
       "(0.3240332004060638,\n",
       " 0.5691938610810126,\n",
       " 1,\n",
       " array([[ 5893.2426013, 14969.7573987],\n",
       "        [ 8948.7573987, 22731.2426013]]))"
      ]
     },
     "execution_count": 331,
     "metadata": {},
     "output_type": "execute_result"
    }
   ],
   "source": [
    "gender_dept = gender_dept[gender_dept.department.isin(['Sales', 'Marketing'])]\n",
    "ctab = pd.crosstab(gender_dept.gender, gender_dept.department)\n",
    "\n",
    "stats.chi2_contingency(ctab)"
   ]
  },
  {
   "cell_type": "markdown",
   "metadata": {},
   "source": [
    "```sql\n",
    "SELECT\n",
    "    e.emp_no IN (SELECT emp_no FROM dept_manager) AS is_manager,\n",
    "    e.gender\n",
    "FROM employees e```\n",
    "\n",
    "employees = pd.read_sql(query, get_db_url('employees'))"
   ]
  },
  {
   "cell_type": "code",
   "execution_count": null,
   "metadata": {},
   "outputs": [],
   "source": [
    "employees.is_manager.value_counts()"
   ]
  },
  {
   "cell_type": "code",
   "execution_count": null,
   "metadata": {},
   "outputs": [],
   "source": [
    "stats.chi2_contingency(pd.crosstab(employees.is_manager, employees.gender))"
   ]
  },
  {
   "cell_type": "markdown",
   "metadata": {},
   "source": [
    "```sql\n",
    "SELECT\n",
    "    COALESCE(dept_name, 'OVERALL AVERAGE') AS dept,\n",
    "    AVG(is_female) AS p_female,\n",
    "    COUNT(*) AS n\n",
    "FROM (\n",
    "    SELECT\n",
    "        e.gender = 'F' AS is_female,\n",
    "        d.dept_name\n",
    "    FROM employees e\n",
    "    JOIN dept_emp de USING (emp_no)\n",
    "    JOIN departments d USING (dept_no)\n",
    ") a\n",
    "GROUP BY dept_name WITH ROLLUP;"
   ]
  },
  {
   "cell_type": "code",
   "execution_count": null,
   "metadata": {},
   "outputs": [],
   "source": []
  },
  {
   "cell_type": "code",
   "execution_count": null,
   "metadata": {},
   "outputs": [],
   "source": []
  },
  {
   "cell_type": "markdown",
   "metadata": {},
   "source": []
  },
  {
   "cell_type": "code",
   "execution_count": 265,
   "metadata": {},
   "outputs": [
    {
     "data": {
      "text/html": [
       "<div>\n",
       "<style scoped>\n",
       "    .dataframe tbody tr th:only-of-type {\n",
       "        vertical-align: middle;\n",
       "    }\n",
       "\n",
       "    .dataframe tbody tr th {\n",
       "        vertical-align: top;\n",
       "    }\n",
       "\n",
       "    .dataframe thead th {\n",
       "        text-align: right;\n",
       "    }\n",
       "</style>\n",
       "<table border=\"1\" class=\"dataframe\">\n",
       "  <thead>\n",
       "    <tr style=\"text-align: right;\">\n",
       "      <th></th>\n",
       "      <th>total_bill</th>\n",
       "      <th>tip</th>\n",
       "      <th>sex</th>\n",
       "      <th>smoker</th>\n",
       "      <th>day</th>\n",
       "      <th>time</th>\n",
       "      <th>size</th>\n",
       "    </tr>\n",
       "  </thead>\n",
       "  <tbody>\n",
       "    <tr>\n",
       "      <th>1</th>\n",
       "      <td>16.99</td>\n",
       "      <td>1.01</td>\n",
       "      <td>Female</td>\n",
       "      <td>No</td>\n",
       "      <td>Sun</td>\n",
       "      <td>Dinner</td>\n",
       "      <td>2</td>\n",
       "    </tr>\n",
       "    <tr>\n",
       "      <th>2</th>\n",
       "      <td>10.34</td>\n",
       "      <td>1.66</td>\n",
       "      <td>Male</td>\n",
       "      <td>No</td>\n",
       "      <td>Sun</td>\n",
       "      <td>Dinner</td>\n",
       "      <td>3</td>\n",
       "    </tr>\n",
       "    <tr>\n",
       "      <th>3</th>\n",
       "      <td>21.01</td>\n",
       "      <td>3.50</td>\n",
       "      <td>Male</td>\n",
       "      <td>No</td>\n",
       "      <td>Sun</td>\n",
       "      <td>Dinner</td>\n",
       "      <td>3</td>\n",
       "    </tr>\n",
       "    <tr>\n",
       "      <th>4</th>\n",
       "      <td>23.68</td>\n",
       "      <td>3.31</td>\n",
       "      <td>Male</td>\n",
       "      <td>No</td>\n",
       "      <td>Sun</td>\n",
       "      <td>Dinner</td>\n",
       "      <td>2</td>\n",
       "    </tr>\n",
       "    <tr>\n",
       "      <th>5</th>\n",
       "      <td>24.59</td>\n",
       "      <td>3.61</td>\n",
       "      <td>Female</td>\n",
       "      <td>No</td>\n",
       "      <td>Sun</td>\n",
       "      <td>Dinner</td>\n",
       "      <td>4</td>\n",
       "    </tr>\n",
       "  </tbody>\n",
       "</table>\n",
       "</div>"
      ],
      "text/plain": [
       "   total_bill   tip     sex smoker  day    time  size\n",
       "1       16.99  1.01  Female     No  Sun  Dinner     2\n",
       "2       10.34  1.66    Male     No  Sun  Dinner     3\n",
       "3       21.01  3.50    Male     No  Sun  Dinner     3\n",
       "4       23.68  3.31    Male     No  Sun  Dinner     2\n",
       "5       24.59  3.61  Female     No  Sun  Dinner     4"
      ]
     },
     "execution_count": 265,
     "metadata": {},
     "output_type": "execute_result"
    }
   ],
   "source": [
    "tip = data('tips')\n",
    "tip.head()"
   ]
  },
  {
   "cell_type": "code",
   "execution_count": 235,
   "metadata": {},
   "outputs": [
    {
     "data": {
      "text/plain": [
       "(244, 7)"
      ]
     },
     "execution_count": 235,
     "metadata": {},
     "output_type": "execute_result"
    }
   ],
   "source": [
    "tip.shape"
   ]
  },
  {
   "cell_type": "markdown",
   "metadata": {},
   "source": [
    "**$\\chi ^2: $ compare two categorical variables**\n",
    "\n",
    "$ H0: $, two variables are independent\n",
    "\n",
    "- Generate contingency table with:  **pd.crosstab(v1, v2)**\n",
    "- Perform test: **stats.chi2_contingency_(contingency_table)**\n",
    "\n",
    ">**$\\chi ^2$ results:**\n",
    "<br>\n",
    "> chi2 test statistic\n",
    "<br>\n",
    "> p value: if p < α, reject $ H0$\n",
    "<br>\n",
    "> degrees of freedom\n",
    "<br>\n",
    "> matrix of expected values\n",
    "\n",
    "> **code - present actual observed vs expected value as visual proof, if o/e similar, fail to reject $ H0$**\n",
    "<br>\n",
    "expected = pd.DataFrame(expected, index=['Female', 'Male'], columns=['Non-Smoker', 'Smoker'])\n",
    "<br>\n",
    "contingency_table.columns = ['Non-Smoker', 'Smoker']\n",
    "<br>\n",
    "contingency_table.index.name = ''\n",
    "<br>\n",
    "contingency_table['group'] = 'Actual'\n",
    "expected['group'] = 'Expected'\n",
    "<br>\n",
    "(pd.concat([contingency_table, expected])\n",
    ".reset_index()\n",
    ".rename({'index': 'sex'}, axis=1)\n",
    ".set_index(['group', 'sex']))\n"
   ]
  },
  {
   "cell_type": "markdown",
   "metadata": {},
   "source": [
    "$ H0: $ Dine out time (lunch/dinner) is independent of the day of a week.\n",
    "$ Hα: $ Dine out time (lunch/dinner) is related to the day of a week."
   ]
  },
  {
   "cell_type": "code",
   "execution_count": 248,
   "metadata": {},
   "outputs": [
    {
     "name": "stdout",
     "output_type": "stream",
     "text": [
      "p-value of the chi test is: 8.449897551777147e-47, thus we reject the null hypothesis\n"
     ]
    }
   ],
   "source": [
    "crtb = pd.crosstab(tip.day, tip.time)\n",
    "chi, p, dgf, e = stats.chi2_contingency(crtb)\n",
    "print(\"p-value of the chi test is: {}, thus we reject the null hypothesis\".format(p))"
   ]
  },
  {
   "cell_type": "markdown",
   "metadata": {},
   "source": [
    "**Pearson's R: Continuous vs continuous - how variables change together linearly**\n",
    "\n",
    "\n",
    "test statistics (r) - strength and direction of __linear__ correlation between the 2 variables\n",
    "\n",
    "$ H0: $ there is no linear correlation between the 2 variables\n",
    "\n",
    "Pass 2 variables as 2 Series \n",
    "\n",
    "- strong: -0.5~-1 or 0.5-1 \n",
    "- moderate: -0.3~-0.5 or 0.3~0.5\n",
    "- weak: 0.1~0.3\n",
    "- no: below 0.1"
   ]
  },
  {
   "cell_type": "markdown",
   "metadata": {},
   "source": [
    "$ H0: $ There is no linear correlation between tip and total bill.\n",
    "$ Hα: $ There IS linear correlation between tip and total bill."
   ]
  },
  {
   "cell_type": "code",
   "execution_count": 258,
   "metadata": {},
   "outputs": [
    {
     "name": "stdout",
     "output_type": "stream",
     "text": [
      "Pearson's R:  0.6757341092113645 with p-value of:  6.692470646863477e-34\n",
      "Given the small p-value, we will reject H0 and support there might be a strong correlation between the two variables\n"
     ]
    }
   ],
   "source": [
    "r, p = stats.pearsonr(tip.total_bill, tip.tip)\n",
    "print(\"Pearson's R: \", r, \"with p-value of: \", p)\n",
    "print(\"Given the small p-value, we will reject H0 and support there might be a strong correlation between the two variables\")"
   ]
  },
  {
   "cell_type": "code",
   "execution_count": 276,
   "metadata": {},
   "outputs": [
    {
     "data": {
      "text/plain": [
       "244"
      ]
     },
     "execution_count": 276,
     "metadata": {},
     "output_type": "execute_result"
    }
   ],
   "source": [
    "#dtypes = float64, but still not numeric?"
   ]
  },
  {
   "cell_type": "markdown",
   "metadata": {},
   "source": [
    "**T-test: Continuous vs Categorical**\n",
    "\n",
    ">**compare means**\n",
    "- 1 sample: compares the mean for a subgroup against the population mean\n",
    "- 2 sample: compares the means for two subgroups\n",
    "\n",
    "$ H0: $ The means between 2 variables are same\n",
    "\n",
    "\n",
    "\n",
    "To demonstrate, we'll try to answer two different questions:\n",
    "\n",
    "Is the total bill amount different for smokers?\n",
    "Is the size of the tip different for parties of 2 and parties of 4?\n",
    "1 Sample T Test\n",
    "Is the total bill amount different for smokers?\n",
    "\n",
    "To answer this question, we need two pieces of information, which we will pass along to scipy:\n",
    "\n",
    "the total bill amounts for all the smokers\n",
    "the overall total bill mean\n",
    "We will feed both of these into the ttest_1samp function from scipy's stats module.\n",
    "\n",
    "Our null hypothesis is that there is no difference, more formally:\n",
    "\n",
    "H\n",
    "0\n",
    ": The average bill for smokers is no different than the population mean."
   ]
  },
  {
   "cell_type": "code",
   "execution_count": null,
   "metadata": {},
   "outputs": [],
   "source": []
  },
  {
   "cell_type": "code",
   "execution_count": null,
   "metadata": {},
   "outputs": [],
   "source": []
  },
  {
   "cell_type": "code",
   "execution_count": null,
   "metadata": {},
   "outputs": [],
   "source": []
  },
  {
   "cell_type": "code",
   "execution_count": null,
   "metadata": {},
   "outputs": [],
   "source": []
  },
  {
   "cell_type": "code",
   "execution_count": null,
   "metadata": {},
   "outputs": [],
   "source": []
  },
  {
   "cell_type": "code",
   "execution_count": null,
   "metadata": {},
   "outputs": [],
   "source": []
  },
  {
   "cell_type": "code",
   "execution_count": null,
   "metadata": {},
   "outputs": [],
   "source": []
  },
  {
   "cell_type": "code",
   "execution_count": null,
   "metadata": {},
   "outputs": [],
   "source": []
  },
  {
   "cell_type": "code",
   "execution_count": null,
   "metadata": {},
   "outputs": [],
   "source": []
  },
  {
   "cell_type": "code",
   "execution_count": null,
   "metadata": {},
   "outputs": [],
   "source": []
  },
  {
   "cell_type": "code",
   "execution_count": null,
   "metadata": {},
   "outputs": [],
   "source": []
  },
  {
   "cell_type": "code",
   "execution_count": null,
   "metadata": {},
   "outputs": [],
   "source": []
  },
  {
   "cell_type": "markdown",
   "metadata": {},
   "source": [
    "- Is there a linear relationship between city mileage and highway mileage?\n",
    "\n",
    "$H0:$ There is no linear relationship between city and highway mileage\n",
    "\n",
    "$Ha:$ There is a linear relationship between city and highway mileage"
   ]
  },
  {
   "cell_type": "code",
   "execution_count": 5,
   "metadata": {},
   "outputs": [
    {
     "name": "stdout",
     "output_type": "stream",
     "text": [
      "0.9559159136495721 1.8683071952629614e-125\n"
     ]
    }
   ],
   "source": [
    "x = mpg.hwy\n",
    "y = mpg.cty\n",
    "r, p = stats.pearsonr(x, y)\n",
    "print(r,p)\n"
   ]
  },
  {
   "cell_type": "markdown",
   "metadata": {},
   "source": [
    "Is there a linear relationship between engine displacement(displ) and city mileage (cty)?\n",
    "\n",
    "$H0:$ There is no linear relationship between engine displacement and city mileage\n",
    "\n",
    "$Ha:$ There is linear relationship"
   ]
  },
  {
   "cell_type": "code",
   "execution_count": 9,
   "metadata": {},
   "outputs": [
    {
     "name": "stdout",
     "output_type": "stream",
     "text": [
      "r =  -0.7985239689348551 p-value =  4.737914890205637e-53\n",
      "thus there is a negative correlation between engine displacement and city mileage, we reject H0\n"
     ]
    }
   ],
   "source": [
    "x = mpg.displ\n",
    "r,p = stats.pearsonr(x,y)\n",
    "print(\"r = \",r, \"p-value = \",p)\n",
    "print(\"thus there is a negative correlation between engine displacement and city mileage, we reject H0\")"
   ]
  }
 ],
 "metadata": {
  "kernelspec": {
   "display_name": "Python 3",
   "language": "python",
   "name": "python3"
  },
  "language_info": {
   "codemirror_mode": {
    "name": "ipython",
    "version": 3
   },
   "file_extension": ".py",
   "mimetype": "text/x-python",
   "name": "python",
   "nbconvert_exporter": "python",
   "pygments_lexer": "ipython3",
   "version": "3.7.3"
  },
  "toc": {
   "base_numbering": 1,
   "nav_menu": {},
   "number_sections": true,
   "sideBar": true,
   "skip_h1_title": false,
   "title_cell": "Table of Contents",
   "title_sidebar": "Contents",
   "toc_cell": false,
   "toc_position": {},
   "toc_section_display": true,
   "toc_window_display": false
  },
  "varInspector": {
   "cols": {
    "lenName": 16,
    "lenType": 16,
    "lenVar": 40
   },
   "kernels_config": {
    "python": {
     "delete_cmd_postfix": "",
     "delete_cmd_prefix": "del ",
     "library": "var_list.py",
     "varRefreshCmd": "print(var_dic_list())"
    },
    "r": {
     "delete_cmd_postfix": ") ",
     "delete_cmd_prefix": "rm(",
     "library": "var_list.r",
     "varRefreshCmd": "cat(var_dic_list()) "
    }
   },
   "types_to_exclude": [
    "module",
    "function",
    "builtin_function_or_method",
    "instance",
    "_Feature"
   ],
   "window_display": false
  }
 },
 "nbformat": 4,
 "nbformat_minor": 2
}
