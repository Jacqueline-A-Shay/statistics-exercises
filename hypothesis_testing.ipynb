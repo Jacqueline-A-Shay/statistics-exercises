{
 "cells": [
  {
   "cell_type": "markdown",
   "metadata": {},
   "source": [
    "- Is the website redesign any good?\n",
    "\n",
    "> H0: The website design is good<b>\n",
    "\n",
    "> Ha: The website design is not good<b>\n",
    "    \n",
    "------------------------------------------------------------------------    \n",
    "\n",
    "True negative: design is good & accepted design is good\n",
    "\n",
    "\n",
    "------------------------------------------------------------------------    \n",
    "\n",
    "\n",
    "Type  I: design is good but reject design good \n",
    "\n",
    "------------------------------------------------------------------------    \n",
    "\n",
    "Type II: design is not good but accept as good \n",
    "\n",
    "------------------------------------------------------------------------    \n",
    "\n",
    "True positive: design is not good and reject design is good\n",
    "    \n",
    "\n"
   ]
  },
  {
   "cell_type": "code",
   "execution_count": null,
   "metadata": {},
   "outputs": [],
   "source": []
  },
  {
   "cell_type": "markdown",
   "metadata": {},
   "source": [
    "- Is our television ad driving more sales?\n",
    "\n",
    "> H0: The tv ads drive more sales<b>\n",
    "\n",
    "> Ha: The tv ads does not drive more sales<b>\n",
    "    \n",
    "------------------------------------------------------------------------    \n",
    "\n",
    "True negative: ads drive more sales and accept ads do drive more sales\n",
    "\n",
    "\n",
    "------------------------------------------------------------------------    \n",
    "\n",
    "\n",
    "Type  I: ads drive more sales BUT reject ads drive more sales \n",
    "\n",
    "------------------------------------------------------------------------    \n",
    "\n",
    "Type II: ads do not drive more sales BUT accept ads drive more sales  \n",
    "\n",
    "------------------------------------------------------------------------    \n",
    "\n",
    "True positive: ads do not drive more sales and reject ads drive more sales\n"
   ]
  },
  {
   "cell_type": "markdown",
   "metadata": {},
   "source": [
    "- Has the network latency gone up since we switched internet service providers?\n",
    "\n",
    "> H0: network latency is related to the change in service provider <b>\n",
    "\n",
    "> Ha: network latency is not related to the change in service provider <b>\n",
    "    \n",
    "------------------------------------------------------------------------    \n",
    "\n",
    "True negative: network latency is related to the change in service provider, accept the relationship\n",
    "\n",
    "\n",
    "------------------------------------------------------------------------    \n",
    "\n",
    "\n",
    "Type  I: network latency is related to the change in service provider, BUT reject the relationship \n",
    "\n",
    "------------------------------------------------------------------------    \n",
    "\n",
    "Type II: network latency is NOT related to the change in service provider, BUT accept the relationship  \n",
    "\n",
    "------------------------------------------------------------------------    \n",
    "\n",
    "True positive: network latency is NOT related to the change in service provider, and also reject the relationship  "
   ]
  },
  {
   "cell_type": "code",
   "execution_count": null,
   "metadata": {},
   "outputs": [],
   "source": []
  }
 ],
 "metadata": {
  "kernelspec": {
   "display_name": "Python 3",
   "language": "python",
   "name": "python3"
  },
  "language_info": {
   "codemirror_mode": {
    "name": "ipython",
    "version": 3
   },
   "file_extension": ".py",
   "mimetype": "text/x-python",
   "name": "python",
   "nbconvert_exporter": "python",
   "pygments_lexer": "ipython3",
   "version": "3.7.3"
  },
  "toc": {
   "base_numbering": 1,
   "nav_menu": {},
   "number_sections": true,
   "sideBar": true,
   "skip_h1_title": false,
   "title_cell": "Table of Contents",
   "title_sidebar": "Contents",
   "toc_cell": false,
   "toc_position": {},
   "toc_section_display": true,
   "toc_window_display": false
  },
  "varInspector": {
   "cols": {
    "lenName": 16,
    "lenType": 16,
    "lenVar": 40
   },
   "kernels_config": {
    "python": {
     "delete_cmd_postfix": "",
     "delete_cmd_prefix": "del ",
     "library": "var_list.py",
     "varRefreshCmd": "print(var_dic_list())"
    },
    "r": {
     "delete_cmd_postfix": ") ",
     "delete_cmd_prefix": "rm(",
     "library": "var_list.r",
     "varRefreshCmd": "cat(var_dic_list()) "
    }
   },
   "types_to_exclude": [
    "module",
    "function",
    "builtin_function_or_method",
    "instance",
    "_Feature"
   ],
   "window_display": false
  }
 },
 "nbformat": 4,
 "nbformat_minor": 2
}
