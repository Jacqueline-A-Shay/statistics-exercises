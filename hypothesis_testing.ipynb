{
 "cells": [
  {
   "cell_type": "markdown",
   "metadata": {},
   "source": [
    "- Is the website redesign any good?\n",
    "\n",
    "> H0: The website design is good<b>\n",
    "\n",
    "> Ha: The website design is not good<b>\n",
    "    \n",
    "------------------------------------------------------------------------    \n",
    "\n",
    "True negative: design is good & accepted design is good\n",
    "\n",
    "\n",
    "------------------------------------------------------------------------    \n",
    "\n",
    "\n",
    "Type  I: design is good but reject design good \n",
    "\n",
    "------------------------------------------------------------------------    \n",
    "\n",
    "Type II: design is not good but accept as good \n",
    "\n",
    "------------------------------------------------------------------------    \n",
    "\n",
    "True positive: design is not good and reject design is good\n",
    "    \n",
    "\n"
   ]
  },
  {
   "cell_type": "code",
   "execution_count": null,
   "metadata": {},
   "outputs": [],
   "source": []
  },
  {
   "cell_type": "markdown",
   "metadata": {},
   "source": [
    "- Is our television ad driving more sales?\n",
    "\n",
    "> H0: The tv ads drive more sales<b>\n",
    "\n",
    "> Ha: The tv ads does not drive more sales<b>\n",
    "    \n",
    "------------------------------------------------------------------------    \n",
    "\n",
    "True negative: ads drive more sales and accept ads do drive more sales\n",
    "\n",
    "\n",
    "------------------------------------------------------------------------    \n",
    "\n",
    "\n",
    "Type  I: ads drive more sales BUT reject ads drive more sales \n",
    "\n",
    "------------------------------------------------------------------------    \n",
    "\n",
    "Type II: ads do not drive more sales BUT accept ads drive more sales  \n",
    "\n",
    "------------------------------------------------------------------------    \n",
    "\n",
    "True positive: ads do not drive more sales and reject ads drive more sales\n"
   ]
  },
  {
   "cell_type": "markdown",
   "metadata": {},
   "source": [
    "- Has the network latency gone up since we switched internet service providers?\n",
    "\n",
    "> H0: network latency is related to the change in service provider <b>\n",
    "\n",
    "> Ha: network latency is not related to the change in service provider <b>\n",
    "    \n",
    "------------------------------------------------------------------------    \n",
    "\n",
    "True negative: network latency is related to the change in service provider, accept the relationship\n",
    "\n",
    "\n",
    "------------------------------------------------------------------------    \n",
    "\n",
    "\n",
    "Type  I: network latency is related to the change in service provider, BUT reject the relationship \n",
    "\n",
    "------------------------------------------------------------------------    \n",
    "\n",
    "Type II: network latency is NOT related to the change in service provider, BUT accept the relationship  \n",
    "\n",
    "------------------------------------------------------------------------    \n",
    "\n",
    "True positive: network latency is NOT related to the change in service provider, and also reject the relationship  "
   ]
  },
  {
   "cell_type": "code",
   "execution_count": 1,
   "metadata": {},
   "outputs": [],
   "source": [
    "from math import sqrt\n",
    "from scipy import stats\n",
    "\n",
    "%matplotlib inline\n",
    "import matplotlib.pyplot as plt\n",
    "import numpy as np\n",
    "import pandas as pd"
   ]
  },
  {
   "cell_type": "markdown",
   "metadata": {},
   "source": [
    "Ace Realty wants to determine whether the average time it takes to sell homes is different for its two offices. \n",
    "- A sample of 40 sales from office #1 revealed a mean of 90 days and a standard deviation of 15 days. <b>\n",
    "\n",
    "\n",
    "- A sample of 50 sales from office #2 revealed a mean of 100 days and a standard deviation of 20 days. <b>\n",
    "\n",
    "\n",
    "- Use a .05 level of significance. <b>\n",
    "\n",
    "> H0: Average time it takes to sell homes is different for its two offices <b>\n",
    "    \n",
    "> Ha: No difference in avg home selling time between two offices\n",
    "\n"
   ]
  },
  {
   "cell_type": "code",
   "execution_count": 14,
   "metadata": {},
   "outputs": [
    {
     "name": "stdout",
     "output_type": "stream",
     "text": [
      "t =  -2.6252287036468456 p =  1.9897901475507607\n",
      "1.9897901475507607  >  0.95 thus fail to reject H0\n"
     ]
    }
   ],
   "source": []
  },
  {
   "cell_type": "code",
   "execution_count": 15,
   "metadata": {},
   "outputs": [],
   "source": [
    "dist_1 = stats.norm(90, 15).rvs(40)\n",
    "dist_2 = stats.norm(100,20).rvs(50)\n",
    "\n",
    "n1 = 40\n",
    "n2 = 50\n",
    "\n",
    "μ1 = 90\n",
    "μ2 = 100\n",
    "\n",
    "σ1 = 15\n",
    "σ2 = 20\n",
    "\n",
    "α = 0.05"
   ]
  },
  {
   "cell_type": "code",
   "execution_count": 23,
   "metadata": {},
   "outputs": [
    {
     "name": "stdout",
     "output_type": "stream",
     "text": [
      "t =  -2.6252287036468456 p =  1.9897901475507607\n",
      "1.9897901475507607  >  0.05 thus fail to reject H0?\n",
      "Ttest_indResult(statistic=-3.532369944665597, pvalue=0.0006583561851786959)\n"
     ]
    }
   ],
   "source": [
    "degf = n1 + n2 - 2\n",
    "\n",
    "s_p = sqrt(((n1 - 1) * σ1**2 + (n2 - 1) * σ2**2) / (n1 + n2 - 2))\n",
    "s_p\n",
    "\n",
    "standard_error = se = sqrt(σ1**2 / n1 + σ2**2 / n2)\n",
    "\n",
    "t = (μ1 - μ2) / (s_p * sqrt(1/n1 + 1/n2))\n",
    "t\n",
    "\n",
    "pval = stats.t(degf).sf(t) * 2\n",
    "print(\"t = \",t, \"p = \", pval)\n",
    "print(p, \" > \", α, \"thus fail to reject H0?\")\n",
    "print(stats.ttest_ind(dist_1, dist_2))"
   ]
  },
  {
   "cell_type": "markdown",
   "metadata": {},
   "source": [
    "Load the mpg dataset and use it to answer the following questions:\n",
    "\n",
    "- Is there a difference in fuel-efficiency in cars from 2008 vs 1999?\n",
    "\n",
    "- Are compact cars more fuel-efficient than the average car?\n",
    "\n",
    "- Do manual cars get better gas mileage than automatic cars?"
   ]
  },
  {
   "cell_type": "code",
   "execution_count": 24,
   "metadata": {},
   "outputs": [],
   "source": [
    "from pydataset import data"
   ]
  },
  {
   "cell_type": "code",
   "execution_count": 46,
   "metadata": {
    "scrolled": false
   },
   "outputs": [
    {
     "data": {
      "text/html": [
       "<div>\n",
       "<style scoped>\n",
       "    .dataframe tbody tr th:only-of-type {\n",
       "        vertical-align: middle;\n",
       "    }\n",
       "\n",
       "    .dataframe tbody tr th {\n",
       "        vertical-align: top;\n",
       "    }\n",
       "\n",
       "    .dataframe thead th {\n",
       "        text-align: right;\n",
       "    }\n",
       "</style>\n",
       "<table border=\"1\" class=\"dataframe\">\n",
       "  <thead>\n",
       "    <tr style=\"text-align: right;\">\n",
       "      <th></th>\n",
       "      <th>manufacturer</th>\n",
       "      <th>model</th>\n",
       "      <th>displ</th>\n",
       "      <th>year</th>\n",
       "      <th>cyl</th>\n",
       "      <th>trans</th>\n",
       "      <th>drv</th>\n",
       "      <th>cty</th>\n",
       "      <th>hwy</th>\n",
       "      <th>fl</th>\n",
       "      <th>class</th>\n",
       "    </tr>\n",
       "  </thead>\n",
       "  <tbody>\n",
       "    <tr>\n",
       "      <th>1</th>\n",
       "      <td>audi</td>\n",
       "      <td>a4</td>\n",
       "      <td>1.8</td>\n",
       "      <td>1999</td>\n",
       "      <td>4</td>\n",
       "      <td>auto(l5)</td>\n",
       "      <td>f</td>\n",
       "      <td>18</td>\n",
       "      <td>29</td>\n",
       "      <td>p</td>\n",
       "      <td>compact</td>\n",
       "    </tr>\n",
       "    <tr>\n",
       "      <th>2</th>\n",
       "      <td>audi</td>\n",
       "      <td>a4</td>\n",
       "      <td>1.8</td>\n",
       "      <td>1999</td>\n",
       "      <td>4</td>\n",
       "      <td>manual(m5)</td>\n",
       "      <td>f</td>\n",
       "      <td>21</td>\n",
       "      <td>29</td>\n",
       "      <td>p</td>\n",
       "      <td>compact</td>\n",
       "    </tr>\n",
       "    <tr>\n",
       "      <th>3</th>\n",
       "      <td>audi</td>\n",
       "      <td>a4</td>\n",
       "      <td>2.0</td>\n",
       "      <td>2008</td>\n",
       "      <td>4</td>\n",
       "      <td>manual(m6)</td>\n",
       "      <td>f</td>\n",
       "      <td>20</td>\n",
       "      <td>31</td>\n",
       "      <td>p</td>\n",
       "      <td>compact</td>\n",
       "    </tr>\n",
       "    <tr>\n",
       "      <th>4</th>\n",
       "      <td>audi</td>\n",
       "      <td>a4</td>\n",
       "      <td>2.0</td>\n",
       "      <td>2008</td>\n",
       "      <td>4</td>\n",
       "      <td>auto(av)</td>\n",
       "      <td>f</td>\n",
       "      <td>21</td>\n",
       "      <td>30</td>\n",
       "      <td>p</td>\n",
       "      <td>compact</td>\n",
       "    </tr>\n",
       "    <tr>\n",
       "      <th>5</th>\n",
       "      <td>audi</td>\n",
       "      <td>a4</td>\n",
       "      <td>2.8</td>\n",
       "      <td>1999</td>\n",
       "      <td>6</td>\n",
       "      <td>auto(l5)</td>\n",
       "      <td>f</td>\n",
       "      <td>16</td>\n",
       "      <td>26</td>\n",
       "      <td>p</td>\n",
       "      <td>compact</td>\n",
       "    </tr>\n",
       "  </tbody>\n",
       "</table>\n",
       "</div>"
      ],
      "text/plain": [
       "  manufacturer model  displ  year  cyl       trans drv  cty  hwy fl    class\n",
       "1         audi    a4    1.8  1999    4    auto(l5)   f   18   29  p  compact\n",
       "2         audi    a4    1.8  1999    4  manual(m5)   f   21   29  p  compact\n",
       "3         audi    a4    2.0  2008    4  manual(m6)   f   20   31  p  compact\n",
       "4         audi    a4    2.0  2008    4    auto(av)   f   21   30  p  compact\n",
       "5         audi    a4    2.8  1999    6    auto(l5)   f   16   26  p  compact"
      ]
     },
     "execution_count": 46,
     "metadata": {},
     "output_type": "execute_result"
    }
   ],
   "source": [
    "mpg = data(\"mpg\")\n",
    "mpg.head()"
   ]
  },
  {
   "cell_type": "markdown",
   "metadata": {},
   "source": [
    "Is there a difference in fuel-efficiency in cars from 2008 vs 1999?\n",
    "\n",
    "- H0: There is no difference in fuel-efficiency in cars from 2008 vs 1999\n",
    "- Ha: There is difference in fuel-efficiency in cars from 2008 vs 1999\n",
    "- set α = 0.05\n",
    "\n",
    "> p-value = 0.82 > α, fail to reject H0"
   ]
  },
  {
   "cell_type": "code",
   "execution_count": 47,
   "metadata": {},
   "outputs": [
    {
     "data": {
      "text/plain": [
       "Ttest_indResult(statistic=0.21960177245940962, pvalue=0.8263744040323578)"
      ]
     },
     "execution_count": 47,
     "metadata": {},
     "output_type": "execute_result"
    }
   ],
   "source": [
    "mpg[\"avg_mileage\"] = (mpg.cty + mpg.hwy)/2\n",
    "mpg_1999 = mpg[mpg[\"year\"] == 1999].avg_mileage\n",
    "mpg_2008 = mpg[mpg[\"year\"] == 2008].avg_mileage\n",
    "\n",
    "t_mpg = (stats.ttest_ind(mpg_1999 , mpg_2008))\n",
    "t_mpg"
   ]
  },
  {
   "cell_type": "markdown",
   "metadata": {},
   "source": [
    "Are compact cars more fuel-efficient than the average car?\n",
    "- H0: There is no difference in fuel-efficiency between compact cars and other cars\n",
    "- Ha: There is a difference in fuel-efficiency between compact cars and other cars\n",
    "- set α = 0.05\n",
    "\n",
    "> p-value = 1.31e-10 < α, reject H0"
   ]
  },
  {
   "cell_type": "code",
   "execution_count": 45,
   "metadata": {},
   "outputs": [
    {
     "data": {
      "text/plain": [
       "Ttest_indResult(statistic=6.731177612837954, pvalue=1.3059121585018135e-10)"
      ]
     },
     "execution_count": 45,
     "metadata": {},
     "output_type": "execute_result"
    }
   ],
   "source": [
    "mpg_compact = mpg[mpg[\"class\"] == \"compact\"].avg_mileage\n",
    "mpg_not_compact = mpg[mpg[\"class\"] != \"compact\"].avg_mileage\n",
    "\n",
    "t_class = (stats.ttest_ind(mpg_compact , mpg_not_compact))\n",
    "t_class\n"
   ]
  },
  {
   "cell_type": "markdown",
   "metadata": {},
   "source": [
    "Do manual cars get better gas mileage than automatic cars?\n",
    "- H0: There is no difference in fuel-efficiency between manual and auto cars\n",
    "- Ha: There is a difference in fuel-efficiency between manual and auto cars\n",
    "- set α = 0.05\n",
    "\n",
    "> p-value = 7.15e-6 < α, reject H0"
   ]
  },
  {
   "cell_type": "code",
   "execution_count": 48,
   "metadata": {},
   "outputs": [
    {
     "data": {
      "text/plain": [
       "Ttest_indResult(statistic=4.593437735750014, pvalue=7.154374401145683e-06)"
      ]
     },
     "execution_count": 48,
     "metadata": {},
     "output_type": "execute_result"
    }
   ],
   "source": [
    "manual_car = mpg[mpg[\"trans\"].str.contains(\"man\")].avg_mileage\n",
    "auto_car = mpg[mpg[\"trans\"].str.contains(\"auto\")].avg_mileage\n",
    "stats.ttest_ind(manual_car, auto_car)"
   ]
  },
  {
   "cell_type": "code",
   "execution_count": null,
   "metadata": {},
   "outputs": [],
   "source": []
  }
 ],
 "metadata": {
  "kernelspec": {
   "display_name": "Python 3",
   "language": "python",
   "name": "python3"
  },
  "language_info": {
   "codemirror_mode": {
    "name": "ipython",
    "version": 3
   },
   "file_extension": ".py",
   "mimetype": "text/x-python",
   "name": "python",
   "nbconvert_exporter": "python",
   "pygments_lexer": "ipython3",
   "version": "3.7.3"
  },
  "toc": {
   "base_numbering": 1,
   "nav_menu": {},
   "number_sections": true,
   "sideBar": true,
   "skip_h1_title": false,
   "title_cell": "Table of Contents",
   "title_sidebar": "Contents",
   "toc_cell": false,
   "toc_position": {},
   "toc_section_display": true,
   "toc_window_display": false
  },
  "varInspector": {
   "cols": {
    "lenName": 16,
    "lenType": 16,
    "lenVar": 40
   },
   "kernels_config": {
    "python": {
     "delete_cmd_postfix": "",
     "delete_cmd_prefix": "del ",
     "library": "var_list.py",
     "varRefreshCmd": "print(var_dic_list())"
    },
    "r": {
     "delete_cmd_postfix": ") ",
     "delete_cmd_prefix": "rm(",
     "library": "var_list.r",
     "varRefreshCmd": "cat(var_dic_list()) "
    }
   },
   "types_to_exclude": [
    "module",
    "function",
    "builtin_function_or_method",
    "instance",
    "_Feature"
   ],
   "window_display": false
  }
 },
 "nbformat": 4,
 "nbformat_minor": 2
}
